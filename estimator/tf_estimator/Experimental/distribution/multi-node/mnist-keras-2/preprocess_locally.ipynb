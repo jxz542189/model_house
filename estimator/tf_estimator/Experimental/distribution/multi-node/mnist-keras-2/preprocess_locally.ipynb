{
 "cells": [
  {
   "cell_type": "markdown",
   "metadata": {},
   "source": [
    "## Preprocess MNIST dataset (locally without Beam/Dataflow)"
   ]
  },
  {
   "cell_type": "code",
   "execution_count": 5,
   "metadata": {},
   "outputs": [
    {
     "data": {
      "text/plain": [
       "'1.8.0'"
      ]
     },
     "execution_count": 5,
     "metadata": {},
     "output_type": "execute_result"
    }
   ],
   "source": [
    "import tensorflow as tf\n",
    "tf.__version__"
   ]
  },
  {
   "cell_type": "markdown",
   "metadata": {},
   "source": [
    "## Set your bucket name"
   ]
  },
  {
   "cell_type": "code",
   "execution_count": 1,
   "metadata": {},
   "outputs": [],
   "source": [
    "BUCKET_NAME=''\n"
   ]
  },
  {
   "cell_type": "code",
   "execution_count": 8,
   "metadata": {},
   "outputs": [],
   "source": [
    "import tensorflow as tf\n",
    "import os\n",
    "\n",
    "try:\n",
    "  ROOT_DIR = 'gs://{}'.format(BUCKET_NAME)\n",
    "except NameError:\n",
    "  ROOT_DIR = './tutorial'\n",
    "  \n",
    "DATA_DIR = '{}/mnist-data'.format(ROOT_DIR)\n",
    "\n",
    "# Remove CHECKPOINT_DIR if needed\n",
    "  \n",
    "if not tf.gfile.IsDirectory(DATA_DIR):\n",
    "  tf.logging.info('create {}'.format(DATA_DIR))\n",
    "  tf.gfile.MkDir(ROOT_DIR)\n",
    "  tf.gfile.MkDir(DATA_DIR)"
   ]
  },
  {
   "cell_type": "markdown",
   "metadata": {},
   "source": [
    "## Select a subset of records"
   ]
  },
  {
   "cell_type": "code",
   "execution_count": 9,
   "metadata": {},
   "outputs": [],
   "source": [
    "import numpy as np\n",
    "\n",
    "train, test = tf.keras.datasets.mnist.load_data()\n",
    "X_train = train[0][:-5000]\n",
    "y_train = train[1][:-5000]\n",
    "X_eval = train[0][-5000:]\n",
    "y_eval = train[1][-5000:]\n",
    "X_test = test[0]\n",
    "y_test = test[1]"
   ]
  },
  {
   "cell_type": "markdown",
   "metadata": {},
   "source": [
    "## Convert the dataset (image and labels) to tfrecords and store on Google Cloud Storage"
   ]
  },
  {
   "cell_type": "code",
   "execution_count": 10,
   "metadata": {},
   "outputs": [],
   "source": [
    "def _bytes_feature(value):\n",
    "  return tf.train.Feature(bytes_list=tf.train.BytesList(value=[value]))\n",
    "def _int64_feature(value):\n",
    "  return tf.train.Feature(int64_list=tf.train.Int64List(value=[value]))\n",
    "\n",
    "def create_example(image, label):  \n",
    "  feature={\n",
    "      'image': _bytes_feature(image.tobytes()),\n",
    "      'label': _bytes_feature(label.tobytes())}\n",
    "  return tf.train.Example(features=tf.train.Features(feature=feature))\n",
    "\n",
    "def convert_to_tfrecord(images, labels, output_file):\n",
    "  with tf.python_io.TFRecordWriter(output_file) as record_writer:\n",
    "    for image, label in zip(images, labels):\n",
    "      example = create_example(image, label)\n",
    "      record_writer.write(example.SerializeToString())\n",
    "      \n",
    "      \n",
    "convert_to_tfrecord(X_train, y_train,\n",
    "                    output_file='{}/train.tfrecord'.format(DATA_DIR))\n",
    "convert_to_tfrecord(X_eval, y_eval,\n",
    "                    output_file='{}/eval.tfrecord'.format(DATA_DIR))\n",
    "convert_to_tfrecord(X_test, y_test,\n",
    "                    output_file='{}/test.tfrecord'.format(DATA_DIR))"
   ]
  },
  {
   "cell_type": "code",
   "execution_count": null,
   "metadata": {},
   "outputs": [],
   "source": []
  }
 ],
 "metadata": {
  "kernelspec": {
   "display_name": "Python 2",
   "language": "python",
   "name": "python2"
  },
  "language_info": {
   "codemirror_mode": {
    "name": "ipython",
    "version": 2
   },
   "file_extension": ".py",
   "mimetype": "text/x-python",
   "name": "python",
   "nbconvert_exporter": "python",
   "pygments_lexer": "ipython2",
   "version": "2.7.15"
  }
 },
 "nbformat": 4,
 "nbformat_minor": 2
}
