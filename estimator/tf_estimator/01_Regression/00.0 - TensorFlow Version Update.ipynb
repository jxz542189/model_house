{
 "cells": [
  {
   "cell_type": "code",
   "execution_count": 1,
   "metadata": {},
   "outputs": [
    {
     "name": "stdout",
     "output_type": "stream",
     "text": [
      "Collecting tensorflow\n",
      "  Downloading tensorflow-1.4.0-cp36-cp36m-macosx_10_11_x86_64.whl (39.3MB)\n",
      "Collecting tensorflow-tensorboard<0.5.0,>=0.4.0rc1 (from tensorflow)\n",
      "  Downloading tensorflow_tensorboard-0.4.0rc2-py3-none-any.whl (1.7MB)\n",
      "Requirement already up-to-date: protobuf>=3.3.0 in /Users/khalidsalama/anaconda/lib/python3.6/site-packages (from tensorflow)\n",
      "Requirement already up-to-date: numpy>=1.12.1 in /Users/khalidsalama/anaconda/lib/python3.6/site-packages (from tensorflow)\n",
      "Requirement already up-to-date: wheel>=0.26 in /Users/khalidsalama/anaconda/lib/python3.6/site-packages (from tensorflow)\n",
      "Collecting enum34>=1.1.6 (from tensorflow)\n",
      "  Downloading enum34-1.1.6-py3-none-any.whl\n",
      "Requirement already up-to-date: six>=1.10.0 in /Users/khalidsalama/anaconda/lib/python3.6/site-packages (from tensorflow)\n",
      "Requirement already up-to-date: werkzeug>=0.11.10 in /Users/khalidsalama/anaconda/lib/python3.6/site-packages (from tensorflow-tensorboard<0.5.0,>=0.4.0rc1->tensorflow)\n",
      "Requirement already up-to-date: html5lib==0.9999999 in /Users/khalidsalama/anaconda/lib/python3.6/site-packages (from tensorflow-tensorboard<0.5.0,>=0.4.0rc1->tensorflow)\n",
      "Requirement already up-to-date: markdown>=2.6.8 in /Users/khalidsalama/anaconda/lib/python3.6/site-packages (from tensorflow-tensorboard<0.5.0,>=0.4.0rc1->tensorflow)\n",
      "Requirement already up-to-date: bleach==1.5.0 in /Users/khalidsalama/anaconda/lib/python3.6/site-packages (from tensorflow-tensorboard<0.5.0,>=0.4.0rc1->tensorflow)\n",
      "Requirement already up-to-date: setuptools in /Users/khalidsalama/anaconda/lib/python3.6/site-packages (from protobuf>=3.3.0->tensorflow)\n",
      "Installing collected packages: tensorflow-tensorboard, enum34, tensorflow\n",
      "  Found existing installation: tensorflow-tensorboard 0.1.8\n",
      "    Uninstalling tensorflow-tensorboard-0.1.8:\n",
      "      Successfully uninstalled tensorflow-tensorboard-0.1.8\n",
      "  Found existing installation: tensorflow 1.3.0\n",
      "    Uninstalling tensorflow-1.3.0:\n",
      "      Successfully uninstalled tensorflow-1.3.0\n",
      "Successfully installed enum34-1.1.6 tensorflow-1.4.0 tensorflow-tensorboard-0.4.0rc2\n"
     ]
    }
   ],
   "source": [
    "%%bash\n",
    "\n",
    "pip install -U tensorflow"
   ]
  },
  {
   "cell_type": "code",
   "execution_count": 2,
   "metadata": {},
   "outputs": [
    {
     "name": "stderr",
     "output_type": "stream",
     "text": [
      "/Users/khalidsalama/anaconda/lib/python3.6/importlib/_bootstrap.py:205: RuntimeWarning: compiletime version 3.5 of module 'tensorflow.python.framework.fast_tensor_util' does not match runtime version 3.6\n",
      "  return f(*args, **kwds)\n"
     ]
    },
    {
     "name": "stdout",
     "output_type": "stream",
     "text": [
      "1.4.0\n"
     ]
    }
   ],
   "source": [
    "import tensorflow as tf\n",
    "print(tf.__version__)"
   ]
  },
  {
   "cell_type": "code",
   "execution_count": null,
   "metadata": {
    "collapsed": true
   },
   "outputs": [],
   "source": []
  }
 ],
 "metadata": {
  "kernelspec": {
   "display_name": "Python 3",
   "language": "python",
   "name": "python3"
  },
  "language_info": {
   "codemirror_mode": {
    "name": "ipython",
    "version": 3
   },
   "file_extension": ".py",
   "mimetype": "text/x-python",
   "name": "python",
   "nbconvert_exporter": "python",
   "pygments_lexer": "ipython3",
   "version": "3.6.1"
  }
 },
 "nbformat": 4,
 "nbformat_minor": 2
}
