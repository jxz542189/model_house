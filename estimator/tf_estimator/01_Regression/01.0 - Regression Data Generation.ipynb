{
 "cells": [
  {
   "cell_type": "code",
   "execution_count": 1,
   "metadata": {},
   "outputs": [
    {
     "name": "stderr",
     "output_type": "stream",
     "text": [
      "/Users/khalidsalama/anaconda/lib/python3.6/site-packages/sklearn/cross_validation.py:41: DeprecationWarning: This module was deprecated in version 0.18 in favor of the model_selection module into which all the refactored classes and functions are moved. Also note that the interface of the new CV iterators are different from that of this module. This module will be removed in 0.20.\n",
      "  \"This module will be removed in 0.20.\", DeprecationWarning)\n",
      "/Users/khalidsalama/anaconda/lib/python3.6/site-packages/sklearn/grid_search.py:42: DeprecationWarning: This module was deprecated in version 0.18 in favor of the model_selection module into which all the refactored classes and functions are moved. This module will be removed in 0.20.\n",
      "  DeprecationWarning)\n",
      "/Users/khalidsalama/anaconda/lib/python3.6/site-packages/sklearn/learning_curve.py:22: DeprecationWarning: This module was deprecated in version 0.18 in favor of the model_selection module into which all the functions are moved. This module will be removed in 0.20\n",
      "  DeprecationWarning)\n"
     ]
    }
   ],
   "source": [
    "import numpy as np\n",
    "import pandas as pd\n",
    "from sklearn import *\n",
    "import matplotlib.pyplot as plt\n",
    "%matplotlib inline"
   ]
  },
  {
   "cell_type": "code",
   "execution_count": 2,
   "metadata": {
    "collapsed": true
   },
   "outputs": [],
   "source": [
    "sample_size = 5000"
   ]
  },
  {
   "cell_type": "code",
   "execution_count": 3,
   "metadata": {
    "collapsed": true
   },
   "outputs": [],
   "source": [
    "\n",
    "data1,target1 = datasets.make_circles(n_samples=sample_size, factor=.1, noise=0.2)\n",
    "target1 = (3*data1[:,0])-(16*data1[:,1]) + (0.5*data1[:,0]*data1[:,1]) + np.random.normal(0,2,size=sample_size)\n",
    "\n",
    "\n",
    "data2,target2 = datasets.make_circles(n_samples=sample_size, factor=.5, noise=0.2)\n",
    "target2 = np.power(data2[:,0],2) + 10*np.power(data2[:,1],3) + (50*data2[:,0]*np.power(data2[:,1],2)) + np.random.normal(0,2,size=sample_size)\n",
    "\n",
    "data3,target3 = datasets.make_moons(n_samples=sample_size,noise=0.2)\n",
    "data3[:,0] = (2 * (data3[:, 0]-(-1))/(3))-1\n",
    "data3[:,1] = (2 * (data3[:, 1]-(-1))/(2))-1\n",
    "target3 = (50*data3[:,0]*np.sin(data3[:,1])) + (50*data3[:,1]*np.cos(data3[:,0]))\n",
    "\n",
    "data4,target4 = datasets.make_moons(n_samples=sample_size,noise=0.2)\n",
    "\n",
    "temp = np.copy(data4[:, 0])\n",
    "data4[:, 0] = data4[:, 1]\n",
    "data4[:, 1] = temp\n",
    "data4[:,0] = (2 * (data4[:, 0]-(-1))/(2))-1\n",
    "data4[:,1] = (2 * (data4[:, 1]-(-1))/(3))-1\n",
    "\n",
    "target4 = (30*data1[:,0])-(16*data1[:,1]) - (1.5*data1[:,0]*data1[:,1]) + np.random.normal(0,1,size=sample_size)"
   ]
  },
  {
   "cell_type": "code",
   "execution_count": 4,
   "metadata": {
    "collapsed": true
   },
   "outputs": [],
   "source": [
    "data = np.concatenate((data1, data2, data3, data4), axis=0)\n",
    "target = np.concatenate((target1,target2,target3,target4),axis=0)\n",
    "alpha = np.concatenate((np.zeros(sample_size),np.ones(sample_size),np.zeros(sample_size),np.ones(sample_size)), axis=0)\n",
    "beta = np.concatenate((np.zeros(sample_size),np.zeros(sample_size),np.ones(sample_size),np.ones(sample_size)), axis=0)"
   ]
  },
  {
   "cell_type": "code",
   "execution_count": 5,
   "metadata": {
    "collapsed": true
   },
   "outputs": [],
   "source": [
    "data_frame = pd.DataFrame(data = data,columns=[\"x\",\"y\"])\n",
    "data_frame[\"alpha\"] = pd.Series(alpha).map(lambda v: 'ax01' if v==0 else 'ax02')\n",
    "data_frame[\"beta\"] = pd.Series(beta).map(lambda v: 'bx01' if v==0 else 'bx02')\n",
    "data_frame[\"target\"] = target"
   ]
  },
  {
   "cell_type": "code",
   "execution_count": 6,
   "metadata": {},
   "outputs": [
    {
     "data": {
      "text/html": [
       "<div>\n",
       "<style>\n",
       "    .dataframe thead tr:only-child th {\n",
       "        text-align: right;\n",
       "    }\n",
       "\n",
       "    .dataframe thead th {\n",
       "        text-align: left;\n",
       "    }\n",
       "\n",
       "    .dataframe tbody tr th {\n",
       "        vertical-align: top;\n",
       "    }\n",
       "</style>\n",
       "<table border=\"1\" class=\"dataframe\">\n",
       "  <thead>\n",
       "    <tr style=\"text-align: right;\">\n",
       "      <th></th>\n",
       "      <th>x</th>\n",
       "      <th>y</th>\n",
       "      <th>target</th>\n",
       "    </tr>\n",
       "  </thead>\n",
       "  <tbody>\n",
       "    <tr>\n",
       "      <th>count</th>\n",
       "      <td>20000.000000</td>\n",
       "      <td>20000.000000</td>\n",
       "      <td>20000.000000</td>\n",
       "    </tr>\n",
       "    <tr>\n",
       "      <th>mean</th>\n",
       "      <td>0.063032</td>\n",
       "      <td>0.061292</td>\n",
       "      <td>1.326481</td>\n",
       "    </tr>\n",
       "    <tr>\n",
       "      <th>std</th>\n",
       "      <td>0.577148</td>\n",
       "      <td>0.577051</td>\n",
       "      <td>17.741681</td>\n",
       "    </tr>\n",
       "    <tr>\n",
       "      <th>min</th>\n",
       "      <td>-1.567981</td>\n",
       "      <td>-1.578965</td>\n",
       "      <td>-73.096282</td>\n",
       "    </tr>\n",
       "    <tr>\n",
       "      <th>25%</th>\n",
       "      <td>-0.333928</td>\n",
       "      <td>-0.334557</td>\n",
       "      <td>-6.737629</td>\n",
       "    </tr>\n",
       "    <tr>\n",
       "      <th>50%</th>\n",
       "      <td>0.053508</td>\n",
       "      <td>0.053526</td>\n",
       "      <td>0.417512</td>\n",
       "    </tr>\n",
       "    <tr>\n",
       "      <th>75%</th>\n",
       "      <td>0.477157</td>\n",
       "      <td>0.475678</td>\n",
       "      <td>8.707335</td>\n",
       "    </tr>\n",
       "    <tr>\n",
       "      <th>max</th>\n",
       "      <td>1.617511</td>\n",
       "      <td>1.724125</td>\n",
       "      <td>86.776134</td>\n",
       "    </tr>\n",
       "  </tbody>\n",
       "</table>\n",
       "</div>"
      ],
      "text/plain": [
       "                  x             y        target\n",
       "count  20000.000000  20000.000000  20000.000000\n",
       "mean       0.063032      0.061292      1.326481\n",
       "std        0.577148      0.577051     17.741681\n",
       "min       -1.567981     -1.578965    -73.096282\n",
       "25%       -0.333928     -0.334557     -6.737629\n",
       "50%        0.053508      0.053526      0.417512\n",
       "75%        0.477157      0.475678      8.707335\n",
       "max        1.617511      1.724125     86.776134"
      ]
     },
     "execution_count": 6,
     "metadata": {},
     "output_type": "execute_result"
    }
   ],
   "source": [
    "data_frame.describe()"
   ]
  },
  {
   "cell_type": "code",
   "execution_count": 7,
   "metadata": {},
   "outputs": [
    {
     "name": "stdout",
     "output_type": "stream",
     "text": [
      "12000\n",
      "3000\n",
      "5000\n"
     ]
    }
   ],
   "source": [
    "distribution =  ([0] * sample_size) + ([1] * sample_size) + ([2] * sample_size) + ([3] * sample_size)\n",
    "\n",
    "splitter =  model_selection.StratifiedShuffleSplit(n_splits=1, test_size=0.25, random_state=0)\n",
    "splits = list(splitter.split(X=data_frame.iloc[:,[0,1,2,3]],y=distribution))\n",
    "learn_index = splits[0][0]\n",
    "test_index = splits[0][1]\n",
    "\n",
    "learn_df = data_frame.iloc[learn_index,:]\n",
    "\n",
    "size2 = int(len(learn_df)/4)\n",
    "distribution2 =  ([0] * size2) + ([1] * size2) + ([2] * size2) + ([3] * size2)\n",
    "\n",
    "\n",
    "splitter =  model_selection.StratifiedShuffleSplit(n_splits=1, test_size=0.2, random_state=0)\n",
    "splits = list(splitter.split(X=learn_df.iloc[:,[0,1,2,3]],y=distribution2))\n",
    "train_index = splits[0][0]\n",
    "valid_index = splits[0][1]\n",
    "\n",
    "\n",
    "train_df = learn_df.iloc[train_index,:]\n",
    "print(len(train_df))\n",
    "\n",
    "valid_df = learn_df.iloc[valid_index,:]\n",
    "print(len(valid_df))\n",
    "\n",
    "test_df = data_frame.iloc[test_index,:]\n",
    "print(len(test_df))\n"
   ]
  },
  {
   "cell_type": "code",
   "execution_count": 8,
   "metadata": {
    "collapsed": true
   },
   "outputs": [],
   "source": [
    "train_df.to_csv(path_or_buf=\"data/train-data.csv\", header=False, index=True)\n",
    "valid_df.to_csv(path_or_buf=\"data/valid-data.csv\", header=False, index=True)\n",
    "test_df.to_csv(path_or_buf=\"data/test-data.csv\", header=False, index=True)"
   ]
  },
  {
   "cell_type": "code",
   "execution_count": null,
   "metadata": {
    "collapsed": true
   },
   "outputs": [],
   "source": []
  }
 ],
 "metadata": {
  "kernelspec": {
   "display_name": "Python 3",
   "language": "python",
   "name": "python3"
  },
  "language_info": {
   "codemirror_mode": {
    "name": "ipython",
    "version": 3
   },
   "file_extension": ".py",
   "mimetype": "text/x-python",
   "name": "python",
   "nbconvert_exporter": "python",
   "pygments_lexer": "ipython3",
   "version": "3.6.1"
  }
 },
 "nbformat": 4,
 "nbformat_minor": 2
}
