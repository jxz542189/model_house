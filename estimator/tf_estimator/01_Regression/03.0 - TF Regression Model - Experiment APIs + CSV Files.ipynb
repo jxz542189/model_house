{
 "cells": [
  {
   "cell_type": "code",
   "execution_count": 1,
   "metadata": {},
   "outputs": [
    {
     "name": "stderr",
     "output_type": "stream",
     "text": [
      "/Users/khalidsalama/anaconda/lib/python3.6/importlib/_bootstrap.py:205: RuntimeWarning: compiletime version 3.5 of module 'tensorflow.python.framework.fast_tensor_util' does not match runtime version 3.6\n",
      "  return f(*args, **kwds)\n"
     ]
    },
    {
     "name": "stdout",
     "output_type": "stream",
     "text": [
      "1.4.0\n"
     ]
    }
   ],
   "source": [
    "import tensorflow as tf\n",
    "import shutil\n",
    "import math\n",
    "from datetime import datetime\n",
    "import multiprocessing\n",
    "from tensorflow.python.feature_column import feature_column\n",
    "\n",
    "from tensorflow.contrib.learn import learn_runner\n",
    "from tensorflow.contrib.learn import make_export_strategy\n",
    "\n",
    "print(tf.__version__)"
   ]
  },
  {
   "cell_type": "markdown",
   "metadata": {},
   "source": [
    "## Steps to use the TF Experiment APIs\n",
    "1. Define dataset **metadata**\n",
    "2. Define **data input function** to read the data from csv files + **feature processing**\n",
    "3. Create TF **feature columns** based on metadata + **extended feature columns**\n",
    "4. Define an **estimator** creation function with the required **feature columns & parameters**\n",
    "7. Run an **Experiment** with **learn_runner** to train, evaluate, and export the model\n",
    "8. **Evaluate** the model using test data\n",
    "9. Perform **predictions** and **serving** the saved model"
   ]
  },
  {
   "cell_type": "code",
   "execution_count": 2,
   "metadata": {
    "collapsed": true
   },
   "outputs": [],
   "source": [
    "MODEL_NAME = 'reg-model-02'\n",
    "\n",
    "TRAIN_DATA_FILES_PATTERN = 'data/train-*.csv'\n",
    "VALID_DATA_FILES_PATTERN = 'data/valid-*.csv'\n",
    "TEST_DATA_FILES_PATTERN = 'data/test-*.csv'\n",
    "\n",
    "RESUME_TRAINING = False\n",
    "PROCESS_FEATURES = True\n",
    "MULTI_THREADING = True"
   ]
  },
  {
   "cell_type": "markdown",
   "metadata": {},
   "source": [
    "## 1. Define Dataset Metadata\n",
    "* CSV file header and defaults\n",
    "* Numeric and categorical feature names\n",
    "* Target feature name\n",
    "* Unused columns"
   ]
  },
  {
   "cell_type": "code",
   "execution_count": 3,
   "metadata": {},
   "outputs": [
    {
     "name": "stdout",
     "output_type": "stream",
     "text": [
      "Header: ['key', 'x', 'y', 'alpha', 'beta', 'target']\n",
      "Numeric Features: ['x', 'y']\n",
      "Categorical Features: ['alpha', 'beta']\n",
      "Target: target\n",
      "Unused Features: ['key']\n"
     ]
    }
   ],
   "source": [
    "HEADER = ['key','x','y','alpha','beta','target']\n",
    "HEADER_DEFAULTS = [[0], [0.0], [0.0], ['NA'], ['NA'], [0.0]]\n",
    "\n",
    "NUMERIC_FEATURE_NAMES = ['x', 'y']  \n",
    "\n",
    "CATEGORICAL_FEATURE_NAMES_WITH_VOCABULARY = {'alpha':['ax01', 'ax02'], 'beta':['bx01', 'bx02']}\n",
    "CATEGORICAL_FEATURE_NAMES = list(CATEGORICAL_FEATURE_NAMES_WITH_VOCABULARY.keys())\n",
    "\n",
    "FEATURE_NAMES = NUMERIC_FEATURE_NAMES + CATEGORICAL_FEATURE_NAMES\n",
    "\n",
    "TARGET_NAME = 'target'\n",
    "\n",
    "UNUSED_FEATURE_NAMES = list(set(HEADER) - set(FEATURE_NAMES) - {TARGET_NAME})\n",
    "\n",
    "print(\"Header: {}\".format(HEADER))\n",
    "print(\"Numeric Features: {}\".format(NUMERIC_FEATURE_NAMES))\n",
    "print(\"Categorical Features: {}\".format(CATEGORICAL_FEATURE_NAMES))\n",
    "print(\"Target: {}\".format(TARGET_NAME))\n",
    "print(\"Unused Features: {}\".format(UNUSED_FEATURE_NAMES))"
   ]
  },
  {
   "cell_type": "markdown",
   "metadata": {},
   "source": [
    "## 2. Define Data Input Function\n",
    "* Input csv files name pattern\n",
    "* Use TF file queue mechanism to read files\n",
    "* Parse CSV lines to feature tensors\n",
    "* Apply feature processing\n",
    "* Return (features, target) tensors"
   ]
  },
  {
   "cell_type": "code",
   "execution_count": 4,
   "metadata": {
    "collapsed": true
   },
   "outputs": [],
   "source": [
    "def process_features(features):\n",
    "    \n",
    "    features[\"x_2\"] = tf.square(features['x'])\n",
    "    features[\"y_2\"] = tf.square(features['y'])\n",
    "    features[\"xy\"] = tf.multiply(features['x'], features['y']) # features['x'] * features['y']\n",
    "    features['dist_xy'] =  tf.sqrt(tf.squared_difference(features['x'],features['y']))\n",
    "    \n",
    "    return features\n",
    "\n",
    "def csv_input_fn(file_names, mode=tf.estimator.ModeKeys.EVAL, \n",
    "                 skip_header_lines=0, \n",
    "                 num_epochs=1, \n",
    "                 batch_size=200):\n",
    "    \n",
    "    shuffle = True if mode == tf.estimator.ModeKeys.TRAIN else False\n",
    "    \n",
    "    input_file_names = tf.train.match_filenames_once(pattern=file_names)\n",
    "\n",
    "    filename_queue = tf.train.string_input_producer(\n",
    "        input_file_names, num_epochs=num_epochs, shuffle=shuffle)\n",
    "\n",
    "    reader = tf.TextLineReader(skip_header_lines=skip_header_lines)\n",
    "\n",
    "    _, rows = reader.read_up_to(filename_queue, num_records=batch_size)\n",
    "    \n",
    "    row_columns = tf.expand_dims(rows, -1)\n",
    "    columns = tf.decode_csv(row_columns, record_defaults=HEADER_DEFAULTS)\n",
    "    features = dict(zip(HEADER, columns))\n",
    "    \n",
    "    # Remove unused columns\n",
    "    for column in UNUSED_FEATURE_NAMES:\n",
    "        features.pop(column)\n",
    "    \n",
    "    num_threads=1\n",
    "    \n",
    "    if MULTI_THREADING:\n",
    "        num_threads=multiprocessing.cpu_count()\n",
    "        \n",
    "    if shuffle:\n",
    "        features = tf.train.shuffle_batch(\n",
    "            features,\n",
    "            batch_size,\n",
    "            min_after_dequeue=2 * batch_size + 1,\n",
    "            capacity=batch_size * 10,\n",
    "            num_threads=multiprocessing.cpu_count(),\n",
    "            enqueue_many=True,\n",
    "            allow_smaller_final_batch=True\n",
    "        )\n",
    "    else:\n",
    "        features = tf.train.batch(\n",
    "            features,\n",
    "            batch_size,\n",
    "            capacity=batch_size * 10,\n",
    "            num_threads=multiprocessing.cpu_count(),\n",
    "            enqueue_many=True,\n",
    "            allow_smaller_final_batch=True\n",
    "        )\n",
    "\n",
    "    target = features.pop(TARGET_NAME)\n",
    "    \n",
    "    \n",
    "    print(\"\")\n",
    "    print(\"* data input_fn:\")\n",
    "    print(\"================\")\n",
    "    print(\"Input file(s): {}\".format(file_names))\n",
    "    print(\"Batch size: {}\".format(batch_size))\n",
    "    print(\"Epoch Count: {}\".format(num_epochs))\n",
    "    print(\"Mode: {}\".format(mode))\n",
    "    print(\"Thread Count: {}\".format(num_threads))\n",
    "    print(\"Shuffle: {}\".format(shuffle))\n",
    "    print(\"================\")\n",
    "    print(\"\")\n",
    "    \n",
    "    if PROCESS_FEATURES:\n",
    "        features = process_features(features)\n",
    "    \n",
    "    return features, target"
   ]
  },
  {
   "cell_type": "code",
   "execution_count": 5,
   "metadata": {},
   "outputs": [
    {
     "name": "stdout",
     "output_type": "stream",
     "text": [
      "\n",
      "* data input_fn:\n",
      "================\n",
      "Input file(s): data/train-*.csv\n",
      "Batch size: 200\n",
      "Epoch Count: 1\n",
      "Mode: eval\n",
      "Thread Count: 4\n",
      "Shuffle: False\n",
      "================\n",
      "\n",
      "Feature read from CSV: ['alpha', 'beta', 'x', 'y', 'x_2', 'y_2', 'xy', 'dist_xy']\n",
      "Target read from CSV: Tensor(\"batch:2\", shape=(?, 1), dtype=float32)\n"
     ]
    }
   ],
   "source": [
    "features, target = csv_input_fn(file_names=TRAIN_DATA_FILES_PATTERN)\n",
    "print(\"Feature read from CSV: {}\".format(list(features.keys())))\n",
    "print(\"Target read from CSV: {}\".format(target))"
   ]
  },
  {
   "cell_type": "markdown",
   "metadata": {},
   "source": [
    "## 3. Define Feature Columns\n",
    "The input numeric columns are assumed to be normalized (or have the same scale). Otherwise, a normlizer_fn, along with the normlisation params (mean, stdv or min, max) should be passed to tf.feature_column.numeric_column() constructor."
   ]
  },
  {
   "cell_type": "code",
   "execution_count": 6,
   "metadata": {},
   "outputs": [
    {
     "name": "stdout",
     "output_type": "stream",
     "text": [
      "Feature Columns: {'x': _NumericColumn(key='x', shape=(1,), default_value=None, dtype=tf.float32, normalizer_fn=None), 'y': _NumericColumn(key='y', shape=(1,), default_value=None, dtype=tf.float32, normalizer_fn=None), 'x_2': _NumericColumn(key='x_2', shape=(1,), default_value=None, dtype=tf.float32, normalizer_fn=None), 'y_2': _NumericColumn(key='y_2', shape=(1,), default_value=None, dtype=tf.float32, normalizer_fn=None), 'xy': _NumericColumn(key='xy', shape=(1,), default_value=None, dtype=tf.float32, normalizer_fn=None), 'dist_xy': _NumericColumn(key='dist_xy', shape=(1,), default_value=None, dtype=tf.float32, normalizer_fn=None), 'alpha': _VocabularyListCategoricalColumn(key='alpha', vocabulary_list=('ax01', 'ax02'), dtype=tf.string, default_value=-1, num_oov_buckets=0), 'beta': _VocabularyListCategoricalColumn(key='beta', vocabulary_list=('bx01', 'bx02'), dtype=tf.string, default_value=-1, num_oov_buckets=0), 'alpha_X_beta': _CrossedColumn(keys=(_VocabularyListCategoricalColumn(key='alpha', vocabulary_list=('ax01', 'ax02'), dtype=tf.string, default_value=-1, num_oov_buckets=0), _VocabularyListCategoricalColumn(key='beta', vocabulary_list=('bx01', 'bx02'), dtype=tf.string, default_value=-1, num_oov_buckets=0)), hash_bucket_size=4, hash_key=None)}\n"
     ]
    }
   ],
   "source": [
    "def get_feature_columns():\n",
    "    \n",
    "    CONSTRUCTED_NUMERIC_FEATURES_NAMES = ['x_2', 'y_2', 'xy', 'dist_xy']\n",
    "    all_numeric_feature_names = NUMERIC_FEATURE_NAMES + CONSTRUCTED_NUMERIC_FEATURES_NAMES\n",
    "\n",
    "    numeric_columns = {feature_name: tf.feature_column.numeric_column(feature_name)\n",
    "                       for feature_name in all_numeric_feature_names}\n",
    "\n",
    "    categorical_column_with_vocabulary = \\\n",
    "        {item[0]: tf.feature_column.categorical_column_with_vocabulary_list(item[0], item[1])\n",
    "         for item in CATEGORICAL_FEATURE_NAMES_WITH_VOCABULARY.items()}\n",
    "        \n",
    "    feature_columns = {}\n",
    "\n",
    "    if numeric_columns is not None:\n",
    "        feature_columns.update(numeric_columns)\n",
    "\n",
    "    if categorical_column_with_vocabulary is not None:\n",
    "        feature_columns.update(categorical_column_with_vocabulary) \n",
    "    \n",
    "    # add extended features (crossing, bucektization, embedding)\n",
    "    \n",
    "    feature_columns['alpha_X_beta'] = tf.feature_column.crossed_column(\n",
    "        [feature_columns['alpha'], feature_columns['beta']], 4)\n",
    "    \n",
    "    return feature_columns\n",
    "\n",
    "feature_columns = get_feature_columns()\n",
    "print(\"Feature Columns: {}\".format(feature_columns))"
   ]
  },
  {
   "cell_type": "markdown",
   "metadata": {},
   "source": [
    "## 4. Define an Estimator Creation Function\n",
    "\n",
    "* Get dense (numeric) columns from the feature columns\n",
    "* Convert categorical columns to indicator columns\n",
    "* Create Instantiate a DNNRegressor estimator given **dense + indicator** feature columns + params"
   ]
  },
  {
   "cell_type": "code",
   "execution_count": 7,
   "metadata": {
    "collapsed": true
   },
   "outputs": [],
   "source": [
    "def create_estimator(run_config, hparams):\n",
    "    \n",
    "    feature_columns = list(get_feature_columns().values())\n",
    "    \n",
    "    dense_columns = list(\n",
    "        filter(lambda column: isinstance(column, feature_column._NumericColumn),\n",
    "               feature_columns\n",
    "        )\n",
    "    )\n",
    "\n",
    "    categorical_columns = list(\n",
    "        filter(lambda column: isinstance(column, feature_column._VocabularyListCategoricalColumn) |\n",
    "                              isinstance(column, feature_column._BucketizedColumn),\n",
    "                   feature_columns)\n",
    "    )\n",
    "    \n",
    "    \n",
    "    # convert categorical columns to indicators\n",
    "    \n",
    "    indicator_columns = list(\n",
    "            map(lambda column: tf.feature_column.indicator_column(column),\n",
    "                categorical_columns)\n",
    "    )\n",
    "    \n",
    "    \n",
    "    estimator = tf.estimator.DNNRegressor(\n",
    "        \n",
    "        feature_columns= dense_columns + indicator_columns ,\n",
    "        hidden_units= hparams.hidden_units,\n",
    "        \n",
    "        optimizer= tf.train.AdamOptimizer(),\n",
    "        activation_fn= tf.nn.elu,\n",
    "        dropout= hparams.dropout_prob,\n",
    "        \n",
    "        config= run_config\n",
    "    )\n",
    "    \n",
    "    print(\"\")\n",
    "    print(\"Estimator Type: {}\".format(type(estimator)))\n",
    "    print(\"\")\n",
    "    \n",
    "    return estimator"
   ]
  },
  {
   "cell_type": "markdown",
   "metadata": {},
   "source": [
    "## 5. Run Experiment"
   ]
  },
  {
   "cell_type": "markdown",
   "metadata": {},
   "source": [
    "### a. Define Experiment Function"
   ]
  },
  {
   "cell_type": "code",
   "execution_count": 1,
   "metadata": {
    "collapsed": true
   },
   "outputs": [],
   "source": [
    "def generate_experiment_fn(**experiment_args):\n",
    "\n",
    "    def _experiment_fn(run_config, hparams):\n",
    "        \n",
    "        validation_monitor = EarlyStoppingHook(early_stopping_rounds=hparams.early_stopping_rounds)\n",
    "        \n",
    "        train_input_fn = lambda: csv_input_fn(\n",
    "            TRAIN_DATA_FILES_PATTERN,\n",
    "            mode = tf.estimator.ModeKeys.TRAIN,\n",
    "            num_epochs=hparams.num_epochs,\n",
    "            batch_size=hparams.batch_size\n",
    "        )\n",
    "\n",
    "        eval_input_fn = lambda: csv_input_fn(\n",
    "            VALID_DATA_FILES_PATTERN,\n",
    "            mode=tf.estimator.EVAL,\n",
    "            num_epochs=1,\n",
    "            batch_size=hparams.batch_size\n",
    "            #batch_size=300\n",
    "        )\n",
    "\n",
    "        estimator = create_estimator(run_config, hparams)\n",
    "\n",
    "        return tf.contrib.learn.Experiment(\n",
    "            estimator,\n",
    "            train_input_fn=train_input_fn,\n",
    "            eval_input_fn=eval_input_fn,\n",
    "            eval_steps=None,\n",
    "            **experiment_args\n",
    "        )\n",
    "\n",
    "    return _experiment_fn"
   ]
  },
  {
   "cell_type": "markdown",
   "metadata": {},
   "source": [
    "### b. Set HParam and RunConfig"
   ]
  },
  {
   "cell_type": "code",
   "execution_count": 10,
   "metadata": {},
   "outputs": [
    {
     "name": "stdout",
     "output_type": "stream",
     "text": [
      "Model directory: trained_models/reg-model-02\n",
      "Hyper-parameters: [('batch_size', 500), ('dropout_prob', 0.0), ('early_stopping_rounds', 1), ('hidden_units', [8, 4]), ('num_epochs', 100)]\n",
      "\n"
     ]
    }
   ],
   "source": [
    "hparams  = tf.contrib.training.HParams(\n",
    "    num_epochs = 100, \n",
    "    batch_size = 500,\n",
    "    hidden_units=[8, 4],\n",
    "    early_stopping_rounds = 1,\n",
    "    dropout_prob = 0.0)\n",
    "\n",
    "model_dir = 'trained_models/{}'.format(MODEL_NAME)\n",
    "\n",
    "run_config = tf.contrib.learn.RunConfig(\n",
    "    save_checkpoints_steps=480, # to evaluate after each 20 epochs => (12000/500) * 20\n",
    "    tf_random_seed=19830610,\n",
    "    model_dir=model_dir\n",
    ")\n",
    "\n",
    "print(\"Model directory: {}\".format(run_config.model_dir))\n",
    "print(\"Hyper-parameters: {}\".format(hparams))\n",
    "print(\"\")"
   ]
  },
  {
   "cell_type": "markdown",
   "metadata": {},
   "source": [
    "### c. Define Serving Function"
   ]
  },
  {
   "cell_type": "code",
   "execution_count": 11,
   "metadata": {
    "collapsed": true
   },
   "outputs": [],
   "source": [
    "def csv_serving_input_fn():\n",
    "    \n",
    "    SERVING_HEADER = ['x','y','alpha','beta']\n",
    "    SERVING_HEADER_DEFAULTS = [[0.0], [0.0], ['NA'], ['NA']]\n",
    "\n",
    "    rows_string_tensor = tf.placeholder(dtype=tf.string,\n",
    "                                         shape=[None],\n",
    "                                         name='csv_rows')\n",
    "    \n",
    "    receiver_tensor = {'csv_rows': rows_string_tensor}\n",
    "\n",
    "    row_columns = tf.expand_dims(rows_string_tensor, -1)\n",
    "    columns = tf.decode_csv(row_columns, record_defaults=SERVING_HEADER_DEFAULTS)\n",
    "    features = dict(zip(SERVING_HEADER, columns))\n",
    "\n",
    "    if PROCESS_FEATURES:\n",
    "        features = process_features(features)\n",
    "\n",
    "    return tf.estimator.export.ServingInputReceiver(\n",
    "        features, receiver_tensor)"
   ]
  },
  {
   "cell_type": "markdown",
   "metadata": {},
   "source": [
    "### d. Run Experiment via learn_runner"
   ]
  },
  {
   "cell_type": "code",
   "execution_count": 12,
   "metadata": {
    "scrolled": false
   },
   "outputs": [
    {
     "name": "stdout",
     "output_type": "stream",
     "text": [
      "Removing previous artifacts...\n",
      "Experiment started at 16:38:38\n",
      ".......................................\n",
      "WARNING:tensorflow:RunConfig.uid (from tensorflow.contrib.learn.python.learn.estimators.run_config) is experimental and may change or be removed at any time, and without warning.\n",
      "\n",
      "*** EarlyStoppingHook: - Created\n",
      "*** EarlyStoppingHook:: Early Stopping Rounds: 1\n",
      "\n",
      "INFO:tensorflow:Using config: {'_task_type': None, '_task_id': 0, '_cluster_spec': <tensorflow.python.training.server_lib.ClusterSpec object at 0x1244319b0>, '_master': '', '_num_ps_replicas': 0, '_num_worker_replicas': 0, '_environment': 'local', '_is_chief': True, '_evaluation_master': '', '_tf_config': gpu_options {\n",
      "  per_process_gpu_memory_fraction: 1\n",
      "}\n",
      ", '_tf_random_seed': 19830610, '_save_summary_steps': 100, '_save_checkpoints_secs': None, '_log_step_count_steps': 100, '_session_config': None, '_save_checkpoints_steps': 480, '_keep_checkpoint_max': 5, '_keep_checkpoint_every_n_hours': 10000, '_model_dir': 'trained_models/reg-model-02'}\n",
      "\n",
      "Estimator Type: <class 'tensorflow.python.estimator.canned.dnn.DNNRegressor'>\n",
      "\n",
      "WARNING:tensorflow:RunConfig.uid (from tensorflow.contrib.learn.python.learn.estimators.run_config) is experimental and may change or be removed at any time, and without warning.\n",
      "WARNING:tensorflow:From /Users/khalidsalama/anaconda/lib/python3.6/site-packages/tensorflow/contrib/learn/python/learn/monitors.py:267: BaseMonitor.__init__ (from tensorflow.contrib.learn.python.learn.monitors) is deprecated and will be removed after 2016-12-05.\n",
      "Instructions for updating:\n",
      "Monitors are deprecated. Please use tf.train.SessionRunHook.\n",
      "\n",
      "* data input_fn:\n",
      "================\n",
      "Input file(s): data/train-*.csv\n",
      "Batch size: 500\n",
      "Epoch Count: 100\n",
      "Mode: train\n",
      "Thread Count: 4\n",
      "Shuffle: True\n",
      "================\n",
      "\n",
      "INFO:tensorflow:Create CheckpointSaverHook.\n",
      "INFO:tensorflow:Saving checkpoints for 1 into trained_models/reg-model-02/model.ckpt.\n",
      "\n",
      "* data input_fn:\n",
      "================\n",
      "Input file(s): data/valid-*.csv\n",
      "Batch size: 500\n",
      "Epoch Count: 1\n",
      "Mode: eval\n",
      "Thread Count: 4\n",
      "Shuffle: False\n",
      "================\n",
      "\n",
      "INFO:tensorflow:Starting evaluation at 2017-11-15-16:38:42\n",
      "INFO:tensorflow:Restoring parameters from trained_models/reg-model-02/model.ckpt-1\n",
      "INFO:tensorflow:Finished evaluation at 2017-11-15-16:38:43\n",
      "INFO:tensorflow:Saving dict for global step 1: average_loss = 322.521, global_step = 1, loss = 161260.0\n",
      "INFO:tensorflow:Validation (step 1): average_loss = 322.521, loss = 161260.0, global_step = 1\n",
      "INFO:tensorflow:loss = 152071.0, step = 1\n",
      "INFO:tensorflow:global_step/sec: 49.9015\n",
      "INFO:tensorflow:loss = 157382.0, step = 101 (0.572 sec)\n",
      "INFO:tensorflow:global_step/sec: 181.687\n",
      "INFO:tensorflow:loss = 145213.0, step = 201 (0.550 sec)\n",
      "INFO:tensorflow:global_step/sec: 212.562\n",
      "INFO:tensorflow:loss = 124019.0, step = 301 (0.470 sec)\n",
      "INFO:tensorflow:global_step/sec: 208.804\n",
      "INFO:tensorflow:loss = 144489.0, step = 401 (0.479 sec)\n",
      "INFO:tensorflow:Saving checkpoints for 481 into trained_models/reg-model-02/model.ckpt.\n",
      "\n",
      "* data input_fn:\n",
      "================\n",
      "Input file(s): data/valid-*.csv\n",
      "Batch size: 500\n",
      "Epoch Count: 1\n",
      "Mode: eval\n",
      "Thread Count: 4\n",
      "Shuffle: False\n",
      "================\n",
      "\n",
      "INFO:tensorflow:Starting evaluation at 2017-11-15-16:38:47\n",
      "INFO:tensorflow:Restoring parameters from trained_models/reg-model-02/model.ckpt-481\n",
      "INFO:tensorflow:Finished evaluation at 2017-11-15-16:38:47\n",
      "INFO:tensorflow:Saving dict for global step 481: average_loss = 277.663, global_step = 481, loss = 138832.0\n",
      "INFO:tensorflow:Validation (step 481): average_loss = 277.663, loss = 138832.0, global_step = 481\n",
      "INFO:tensorflow:global_step/sec: 54.2012\n",
      "INFO:tensorflow:loss = 139774.0, step = 501 (1.847 sec)\n",
      "INFO:tensorflow:global_step/sec: 171.266\n",
      "INFO:tensorflow:loss = 131535.0, step = 601 (0.583 sec)\n",
      "INFO:tensorflow:global_step/sec: 153.017\n",
      "INFO:tensorflow:loss = 114776.0, step = 701 (0.656 sec)\n",
      "INFO:tensorflow:global_step/sec: 151.408\n",
      "INFO:tensorflow:loss = 134135.0, step = 801 (0.662 sec)\n",
      "INFO:tensorflow:global_step/sec: 157.898\n",
      "INFO:tensorflow:loss = 108377.0, step = 901 (0.632 sec)\n",
      "INFO:tensorflow:Saving checkpoints for 961 into trained_models/reg-model-02/model.ckpt.\n",
      "\n",
      "* data input_fn:\n",
      "================\n",
      "Input file(s): data/valid-*.csv\n",
      "Batch size: 500\n",
      "Epoch Count: 1\n",
      "Mode: eval\n",
      "Thread Count: 4\n",
      "Shuffle: False\n",
      "================\n",
      "\n",
      "INFO:tensorflow:Starting evaluation at 2017-11-15-16:38:51\n",
      "INFO:tensorflow:Restoring parameters from trained_models/reg-model-02/model.ckpt-961\n",
      "INFO:tensorflow:Finished evaluation at 2017-11-15-16:38:52\n",
      "INFO:tensorflow:Saving dict for global step 961: average_loss = 221.277, global_step = 961, loss = 110639.0\n",
      "INFO:tensorflow:Validation (step 961): average_loss = 221.277, loss = 110639.0, global_step = 961\n",
      "INFO:tensorflow:global_step/sec: 49.435\n",
      "INFO:tensorflow:loss = 102264.0, step = 1001 (2.020 sec)\n",
      "INFO:tensorflow:global_step/sec: 142.21\n",
      "INFO:tensorflow:loss = 91063.4, step = 1101 (0.707 sec)\n",
      "INFO:tensorflow:global_step/sec: 143.631\n",
      "INFO:tensorflow:loss = 83967.0, step = 1201 (0.696 sec)\n",
      "INFO:tensorflow:global_step/sec: 168.723\n",
      "INFO:tensorflow:loss = 86682.8, step = 1301 (0.588 sec)\n",
      "INFO:tensorflow:global_step/sec: 174.187\n",
      "INFO:tensorflow:loss = 71982.8, step = 1401 (0.575 sec)\n",
      "INFO:tensorflow:Saving checkpoints for 1441 into trained_models/reg-model-02/model.ckpt.\n",
      "\n",
      "* data input_fn:\n",
      "================\n",
      "Input file(s): data/valid-*.csv\n",
      "Batch size: 500\n",
      "Epoch Count: 1\n",
      "Mode: eval\n",
      "Thread Count: 4\n",
      "Shuffle: False\n",
      "================\n",
      "\n",
      "INFO:tensorflow:Starting evaluation at 2017-11-15-16:38:56\n",
      "INFO:tensorflow:Restoring parameters from trained_models/reg-model-02/model.ckpt-1441\n",
      "INFO:tensorflow:Finished evaluation at 2017-11-15-16:38:56\n",
      "INFO:tensorflow:Saving dict for global step 1441: average_loss = 165.102, global_step = 1441, loss = 82551.2\n",
      "INFO:tensorflow:Validation (step 1441): average_loss = 165.102, loss = 82551.2, global_step = 1441\n",
      "INFO:tensorflow:global_step/sec: 52.7557\n",
      "INFO:tensorflow:loss = 84999.6, step = 1501 (1.896 sec)\n",
      "INFO:tensorflow:global_step/sec: 162.651\n",
      "INFO:tensorflow:loss = 62800.4, step = 1601 (0.615 sec)\n",
      "INFO:tensorflow:global_step/sec: 133.662\n",
      "INFO:tensorflow:loss = 75581.0, step = 1701 (0.749 sec)\n",
      "INFO:tensorflow:global_step/sec: 146.833\n",
      "INFO:tensorflow:loss = 63824.4, step = 1801 (0.681 sec)\n",
      "INFO:tensorflow:global_step/sec: 174.418\n",
      "INFO:tensorflow:loss = 63489.4, step = 1901 (0.572 sec)\n",
      "INFO:tensorflow:Saving checkpoints for 1921 into trained_models/reg-model-02/model.ckpt.\n",
      "\n",
      "* data input_fn:\n",
      "================\n",
      "Input file(s): data/valid-*.csv\n",
      "Batch size: 500\n",
      "Epoch Count: 1\n",
      "Mode: eval\n",
      "Thread Count: 4\n",
      "Shuffle: False\n",
      "================\n",
      "\n",
      "INFO:tensorflow:Starting evaluation at 2017-11-15-16:39:00\n",
      "INFO:tensorflow:Restoring parameters from trained_models/reg-model-02/model.ckpt-1921\n",
      "INFO:tensorflow:Finished evaluation at 2017-11-15-16:39:01\n",
      "INFO:tensorflow:Saving dict for global step 1921: average_loss = 138.061, global_step = 1921, loss = 69030.5\n",
      "INFO:tensorflow:Validation (step 1921): average_loss = 138.061, loss = 69030.5, global_step = 1921\n",
      "INFO:tensorflow:global_step/sec: 40.8547\n",
      "INFO:tensorflow:loss = 59664.1, step = 2001 (2.456 sec)\n",
      "INFO:tensorflow:global_step/sec: 161.944\n",
      "INFO:tensorflow:loss = 70233.4, step = 2101 (0.608 sec)\n",
      "INFO:tensorflow:global_step/sec: 172.256\n",
      "INFO:tensorflow:loss = 64989.5, step = 2201 (0.581 sec)\n",
      "INFO:tensorflow:global_step/sec: 99.7086\n",
      "INFO:tensorflow:loss = 65060.5, step = 2301 (1.006 sec)\n",
      "INFO:tensorflow:Saving checkpoints for 2400 into trained_models/reg-model-02/model.ckpt.\n",
      "INFO:tensorflow:Loss for final step: 56258.0.\n",
      "\n",
      "* data input_fn:\n",
      "================\n",
      "Input file(s): data/valid-*.csv\n",
      "Batch size: 500\n",
      "Epoch Count: 1\n",
      "Mode: eval\n",
      "Thread Count: 4\n",
      "Shuffle: False\n",
      "================\n",
      "\n",
      "INFO:tensorflow:Starting evaluation at 2017-11-15-16:39:05\n",
      "INFO:tensorflow:Restoring parameters from trained_models/reg-model-02/model.ckpt-2400\n",
      "INFO:tensorflow:Finished evaluation at 2017-11-15-16:39:06\n",
      "INFO:tensorflow:Saving dict for global step 2400: average_loss = 121.123, global_step = 2400, loss = 60561.4\n",
      "INFO:tensorflow:Restoring parameters from trained_models/reg-model-02/model.ckpt-2400\n",
      "INFO:tensorflow:Assets added to graph.\n",
      "INFO:tensorflow:No assets to write.\n",
      "INFO:tensorflow:SavedModel written to: b\"trained_models/reg-model-02/export/Servo/temp-b'1510763946'/saved_model.pb\"\n"
     ]
    },
    {
     "name": "stdout",
     "output_type": "stream",
     "text": [
      ".......................................\n",
      "Experiment finished at 16:39:07\n",
      "\n",
      "Experiment elapsed time: 28.494065 seconds\n"
     ]
    }
   ],
   "source": [
    "if not RESUME_TRAINING:\n",
    "    print(\"Removing previous artifacts...\")\n",
    "    shutil.rmtree(model_dir, ignore_errors=True)\n",
    "else:\n",
    "    print(\"Resuming training...\") \n",
    "\n",
    "    \n",
    "tf.logging.set_verbosity(tf.logging.INFO)\n",
    "\n",
    "time_start = datetime.utcnow() \n",
    "print(\"Experiment started at {}\".format(time_start.strftime(\"%H:%M:%S\")))\n",
    "print(\".......................................\") \n",
    "\n",
    "learn_runner.run(\n",
    "    experiment_fn=generate_experiment_fn(\n",
    "\n",
    "        export_strategies=[make_export_strategy(\n",
    "            csv_serving_input_fn,\n",
    "            exports_to_keep=1\n",
    "        )]\n",
    "    ),\n",
    "    run_config=run_config,\n",
    "    schedule=\"train_and_evaluate\",\n",
    "    hparams=hparams\n",
    ")\n",
    "\n",
    "time_end = datetime.utcnow() \n",
    "print(\".......................................\")\n",
    "print(\"Experiment finished at {}\".format(time_end.strftime(\"%H:%M:%S\")))\n",
    "print(\"\")\n",
    "time_elapsed = time_end - time_start\n",
    "print(\"Experiment elapsed time: {} seconds\".format(time_elapsed.total_seconds()))"
   ]
  },
  {
   "cell_type": "markdown",
   "metadata": {},
   "source": [
    "## 6. Evaluate the Model"
   ]
  },
  {
   "cell_type": "code",
   "execution_count": 13,
   "metadata": {},
   "outputs": [
    {
     "name": "stdout",
     "output_type": "stream",
     "text": [
      "INFO:tensorflow:Using config: {'_task_type': None, '_task_id': 0, '_cluster_spec': <tensorflow.python.training.server_lib.ClusterSpec object at 0x1244319b0>, '_master': '', '_num_ps_replicas': 0, '_num_worker_replicas': 0, '_environment': 'local', '_is_chief': True, '_evaluation_master': '', '_tf_config': gpu_options {\n",
      "  per_process_gpu_memory_fraction: 1\n",
      "}\n",
      ", '_tf_random_seed': 19830610, '_save_summary_steps': 100, '_save_checkpoints_secs': None, '_log_step_count_steps': 100, '_session_config': None, '_save_checkpoints_steps': 480, '_keep_checkpoint_max': 5, '_keep_checkpoint_every_n_hours': 10000, '_model_dir': 'trained_models/reg-model-02'}\n",
      "\n",
      "Estimator Type: <class 'tensorflow.python.estimator.canned.dnn.DNNRegressor'>\n",
      "\n",
      "\n",
      "* data input_fn:\n",
      "================\n",
      "Input file(s): data/train-*.csv\n",
      "Batch size: 12000\n",
      "Epoch Count: 1\n",
      "Mode: eval\n",
      "Thread Count: 4\n",
      "Shuffle: False\n",
      "================\n",
      "\n",
      "INFO:tensorflow:Starting evaluation at 2017-11-15-16:39:07\n",
      "INFO:tensorflow:Restoring parameters from trained_models/reg-model-02/model.ckpt-2400\n",
      "INFO:tensorflow:Finished evaluation at 2017-11-15-16:39:08\n",
      "INFO:tensorflow:Saving dict for global step 2400: average_loss = 110.983, global_step = 2400, loss = 1.3318e+06\n",
      "\n",
      "############################################################################################\n",
      "# Train RMSE: 10.53484 - {'average_loss': 110.98292, 'loss': 1331795.0, 'global_step': 2400}\n",
      "############################################################################################\n",
      "\n",
      "* data input_fn:\n",
      "================\n",
      "Input file(s): data/valid-*.csv\n",
      "Batch size: 3000\n",
      "Epoch Count: 1\n",
      "Mode: eval\n",
      "Thread Count: 4\n",
      "Shuffle: False\n",
      "================\n",
      "\n",
      "INFO:tensorflow:Starting evaluation at 2017-11-15-16:39:08\n",
      "INFO:tensorflow:Restoring parameters from trained_models/reg-model-02/model.ckpt-2400\n",
      "INFO:tensorflow:Evaluation [1/1]\n",
      "INFO:tensorflow:Finished evaluation at 2017-11-15-16:39:09\n",
      "INFO:tensorflow:Saving dict for global step 2400: average_loss = 121.123, global_step = 2400, loss = 363369.0\n",
      "\n",
      "############################################################################################\n",
      "# Valid RMSE: 11.00558 - {'average_loss': 121.12289, 'loss': 363368.69, 'global_step': 2400}\n",
      "############################################################################################\n",
      "\n",
      "* data input_fn:\n",
      "================\n",
      "Input file(s): data/test-*.csv\n",
      "Batch size: 5000\n",
      "Epoch Count: 1\n",
      "Mode: eval\n",
      "Thread Count: 4\n",
      "Shuffle: False\n",
      "================\n",
      "\n",
      "INFO:tensorflow:Starting evaluation at 2017-11-15-16:39:09\n",
      "INFO:tensorflow:Restoring parameters from trained_models/reg-model-02/model.ckpt-2400\n",
      "INFO:tensorflow:Evaluation [1/1]\n",
      "INFO:tensorflow:Finished evaluation at 2017-11-15-16:39:10\n",
      "INFO:tensorflow:Saving dict for global step 2400: average_loss = 126.371, global_step = 2400, loss = 631856.0\n",
      "\n",
      "############################################################################################\n",
      "# Test RMSE: 11.24149 - {'average_loss': 126.3711, 'loss': 631855.5, 'global_step': 2400}\n",
      "############################################################################################\n"
     ]
    }
   ],
   "source": [
    "TRAIN_SIZE = 12000\n",
    "VALID_SIZE = 3000\n",
    "TEST_SIZE = 5000\n",
    "\n",
    "train_input_fn = lambda: csv_input_fn(file_names= TRAIN_DATA_FILES_PATTERN, \n",
    "                                      mode= tf.estimator.ModeKeys.EVAL,\n",
    "                                      batch_size= TRAIN_SIZE)\n",
    "\n",
    "valid_input_fn = lambda: csv_input_fn(file_names= VALID_DATA_FILES_PATTERN, \n",
    "                                      mode= tf.estimator.ModeKeys.EVAL,\n",
    "                                      batch_size= VALID_SIZE)\n",
    "\n",
    "test_input_fn = lambda: csv_input_fn(file_names= TEST_DATA_FILES_PATTERN, \n",
    "                                      mode= tf.estimator.ModeKeys.EVAL,\n",
    "                                      batch_size= TEST_SIZE)\n",
    "\n",
    "estimator = create_estimator(run_config, hparams)\n",
    "\n",
    "train_results = estimator.evaluate(input_fn=train_input_fn)\n",
    "train_rmse = round(math.sqrt(train_results[\"average_loss\"]),5)\n",
    "print()\n",
    "print(\"############################################################################################\")\n",
    "print(\"# Train RMSE: {} - {}\".format(train_rmse, train_results))\n",
    "print(\"############################################################################################\")\n",
    "\n",
    "valid_results = estimator.evaluate(input_fn=valid_input_fn, steps=1)\n",
    "valid_rmse = round(math.sqrt(valid_results[\"average_loss\"]),5)\n",
    "print()\n",
    "print(\"############################################################################################\")\n",
    "print(\"# Valid RMSE: {} - {}\".format(valid_rmse,valid_results))\n",
    "print(\"############################################################################################\")\n",
    "\n",
    "test_results = estimator.evaluate(input_fn=test_input_fn, steps=1)\n",
    "test_rmse = round(math.sqrt(test_results[\"average_loss\"]),5)\n",
    "print()\n",
    "print(\"############################################################################################\")\n",
    "print(\"# Test RMSE: {} - {}\".format(test_rmse, test_results))\n",
    "print(\"############################################################################################\")"
   ]
  },
  {
   "cell_type": "markdown",
   "metadata": {},
   "source": [
    "## 7. Prediction"
   ]
  },
  {
   "cell_type": "code",
   "execution_count": 14,
   "metadata": {},
   "outputs": [
    {
     "name": "stdout",
     "output_type": "stream",
     "text": [
      "\n",
      "* data input_fn:\n",
      "================\n",
      "Input file(s): data/test-*.csv\n",
      "Batch size: 5\n",
      "Epoch Count: 1\n",
      "Mode: infer\n",
      "Thread Count: 4\n",
      "Shuffle: False\n",
      "================\n",
      "\n",
      "INFO:tensorflow:Restoring parameters from trained_models/reg-model-02/model.ckpt-2400\n",
      "\n",
      "Predicted Values: [47.768089, -8.4256477, 6.3064356, 2.6255383, 2.9390121]\n"
     ]
    }
   ],
   "source": [
    "import itertools\n",
    "\n",
    "predict_input_fn = lambda: csv_input_fn(file_names= TEST_DATA_FILES_PATTERN, \n",
    "                                      mode= tf.estimator.ModeKeys.PREDICT,\n",
    "                                      batch_size= 5)\n",
    "\n",
    "predictions = estimator.predict(input_fn=predict_input_fn)\n",
    "values = list(map(lambda item: item[\"predictions\"][0],list(itertools.islice(predictions, 5))))\n",
    "print()\n",
    "print(\"Predicted Values: {}\".format(values))"
   ]
  },
  {
   "cell_type": "markdown",
   "metadata": {},
   "source": [
    "## Serving via the Saved Model"
   ]
  },
  {
   "cell_type": "code",
   "execution_count": 15,
   "metadata": {},
   "outputs": [
    {
     "name": "stdout",
     "output_type": "stream",
     "text": [
      "trained_models/reg-model-02/export/Servo//1510763946\n",
      "INFO:tensorflow:Restoring parameters from b'trained_models/reg-model-02/export/Servo//1510763946/variables/variables'\n",
      "{'predictions': array([[ 55.06306076],\n",
      "       [-16.95091438]], dtype=float32)}\n"
     ]
    }
   ],
   "source": [
    "import os\n",
    "\n",
    "export_dir = model_dir +\"/export/Servo/\"\n",
    "\n",
    "saved_model_dir = export_dir + \"/\" + os.listdir(path=export_dir)[-1] \n",
    "\n",
    "print(saved_model_dir)\n",
    "\n",
    "predictor_fn = tf.contrib.predictor.from_saved_model(\n",
    "    export_dir = saved_model_dir,\n",
    "    signature_def_key=\"predict\"\n",
    ")\n",
    "\n",
    "output = predictor_fn({'csv_rows': [\"0.5,1,ax01,bx02\", \"-0.5,-1,ax02,bx02\"]})\n",
    "print(output)"
   ]
  },
  {
   "cell_type": "markdown",
   "metadata": {},
   "source": [
    "## What can we improve?\n",
    "\n",
    "* **Use Dataset APIs** - The dataset APIs standardise and simplifiy building a data input pipeline.\n",
    "\n",
    "\n",
    "* **Use JSON Serving Function** - The serving function of the exported model can receive json data\n",
    "\n",
    "\n",
    "* **Use .tfrecords files instead of CSV** - TFRecord files are optimised for tensorflow.\n",
    "\n",
    "\n",
    "* **Build a Custom Estimator** -  Custom Estimator APIs give you the flexibility to build custom models in a simple and standard way\n",
    "\n"
   ]
  },
  {
   "cell_type": "code",
   "execution_count": null,
   "metadata": {
    "collapsed": true
   },
   "outputs": [],
   "source": []
  }
 ],
 "metadata": {
  "kernelspec": {
   "display_name": "Python 3",
   "language": "python",
   "name": "python3"
  },
  "language_info": {
   "codemirror_mode": {
    "name": "ipython",
    "version": 3
   },
   "file_extension": ".py",
   "mimetype": "text/x-python",
   "name": "python",
   "nbconvert_exporter": "python",
   "pygments_lexer": "ipython3",
   "version": "3.6.1"
  }
 },
 "nbformat": 4,
 "nbformat_minor": 2
}
