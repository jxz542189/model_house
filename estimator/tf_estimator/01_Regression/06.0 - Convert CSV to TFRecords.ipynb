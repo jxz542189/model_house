{
 "cells": [
  {
   "cell_type": "code",
   "execution_count": 1,
   "metadata": {},
   "outputs": [
    {
     "name": "stderr",
     "output_type": "stream",
     "text": [
      "/Users/khalidsalama/anaconda/lib/python3.6/importlib/_bootstrap.py:205: RuntimeWarning: compiletime version 3.5 of module 'tensorflow.python.framework.fast_tensor_util' does not match runtime version 3.6\n",
      "  return f(*args, **kwds)\n"
     ]
    },
    {
     "name": "stdout",
     "output_type": "stream",
     "text": [
      "1.4.0\n"
     ]
    }
   ],
   "source": [
    "import tensorflow as tf\n",
    "import csv\n",
    "import os\n",
    "\n",
    "print(tf.__version__)"
   ]
  },
  {
   "cell_type": "code",
   "execution_count": 2,
   "metadata": {
    "collapsed": true
   },
   "outputs": [],
   "source": [
    "train_data_files = ['data/train-data.csv']\n",
    "valid_data_files = ['data/valid-data.csv']\n",
    "test_data_files = ['data/test-data.csv']"
   ]
  },
  {
   "cell_type": "code",
   "execution_count": 3,
   "metadata": {},
   "outputs": [
    {
     "name": "stdout",
     "output_type": "stream",
     "text": [
      "Header: ['key', 'x', 'y', 'alpha', 'beta', 'target']\n",
      "Numeric Features: ['x', 'y']\n",
      "Categorical Features: ['alpha', 'beta']\n",
      "Target: target\n",
      "Unused Features: ['key']\n"
     ]
    }
   ],
   "source": [
    "HEADER = ['key','x','y','alpha','beta','target']\n",
    "HEADER_DEFAULTS = [[0], [0.0], [0.0], ['NA'], ['NA'], [0.0]]\n",
    "\n",
    "NUMERIC_FEATURE_NAMES = ['x', 'y']  \n",
    "\n",
    "CATEGORICAL_FEATURE_NAMES_WITH_VOCABULARY = {'alpha':['ax01', 'ax02'], 'beta':['bx01', 'bx02']}\n",
    "CATEGORICAL_FEATURE_NAMES = list(CATEGORICAL_FEATURE_NAMES_WITH_VOCABULARY.keys())\n",
    "\n",
    "FEATURE_NAMES = NUMERIC_FEATURE_NAMES + CATEGORICAL_FEATURE_NAMES\n",
    "\n",
    "TARGET_NAME = 'target'\n",
    "\n",
    "UNUSED_FEATURE_NAMES = list(set(HEADER) - set(FEATURE_NAMES) - {TARGET_NAME})\n",
    "\n",
    "print(\"Header: {}\".format(HEADER))\n",
    "print(\"Numeric Features: {}\".format(NUMERIC_FEATURE_NAMES))\n",
    "print(\"Categorical Features: {}\".format(CATEGORICAL_FEATURE_NAMES))\n",
    "print(\"Target: {}\".format(TARGET_NAME))\n",
    "print(\"Unused Features: {}\".format(UNUSED_FEATURE_NAMES))"
   ]
  },
  {
   "cell_type": "code",
   "execution_count": 4,
   "metadata": {
    "collapsed": true
   },
   "outputs": [],
   "source": [
    "def create_csv_iterator(csv_file_path, skip_header):\n",
    "    \n",
    "    with tf.gfile.Open(csv_file_path) as csv_file:\n",
    "        reader = csv.reader(csv_file)\n",
    "        if skip_header: # Skip the header\n",
    "            next(reader)\n",
    "        for row in reader:\n",
    "            yield row"
   ]
  },
  {
   "cell_type": "code",
   "execution_count": 5,
   "metadata": {
    "collapsed": true
   },
   "outputs": [],
   "source": [
    "def create_example(row):\n",
    "    \"\"\"\n",
    "    Returns a tensorflow.Example Protocol Buffer object.\n",
    "    \"\"\"\n",
    "    example = tf.train.Example()\n",
    "\n",
    "    for i in range(len(HEADER)):\n",
    "        \n",
    "        feature_name = HEADER[i]\n",
    "        feature_value = row[i]\n",
    "        \n",
    "        if feature_name in UNUSED_FEATURE_NAMES:\n",
    "            continue\n",
    " \n",
    "        if feature_name in NUMERIC_FEATURE_NAMES:\n",
    "            example.features.feature[feature_name].float_list.value.extend([float(feature_value)])\n",
    "        \n",
    "        elif feature_name in CATEGORICAL_FEATURE_NAMES:\n",
    "            example.features.feature[feature_name].bytes_list.value.extend([bytes(feature_value, 'utf-8')])\n",
    "            \n",
    "\n",
    "        elif feature_name in TARGET_NAME:\n",
    "            example.features.feature[feature_name].float_list.value.extend([float(feature_value)])\n",
    "\n",
    "    return example"
   ]
  },
  {
   "cell_type": "code",
   "execution_count": 6,
   "metadata": {
    "collapsed": true
   },
   "outputs": [],
   "source": [
    "def create_tfrecords_file(input_csv_file):\n",
    "    \"\"\"\n",
    "    Creates a TFRecords file for the given input data and\n",
    "    example transofmration function\n",
    "    \"\"\"\n",
    "    output_tfrecord_file = input_csv_file.replace(\"csv\",\"tfrecords\")\n",
    "    writer = tf.python_io.TFRecordWriter(output_tfrecord_file)\n",
    "    \n",
    "    print(\"Creating TFRecords file at\", output_tfrecord_file, \"...\")\n",
    "    \n",
    "    for i, row in enumerate(create_csv_iterator(input_csv_file, skip_header=False)):\n",
    "        \n",
    "        if len(row) == 0:\n",
    "            continue\n",
    "            \n",
    "        example = create_example(row)\n",
    "        content = example.SerializeToString()\n",
    "        writer.write(content)\n",
    "        \n",
    "    writer.close()\n",
    "    \n",
    "    print(\"Finish Writing\", output_tfrecord_file)"
   ]
  },
  {
   "cell_type": "code",
   "execution_count": 7,
   "metadata": {},
   "outputs": [
    {
     "name": "stdout",
     "output_type": "stream",
     "text": [
      "Converting Training Data Files\n",
      "Creating TFRecords file at data/train-data.tfrecords ...\n",
      "Finish Writing data/train-data.tfrecords\n",
      "\n",
      "Converting Validation Data Files\n",
      "Creating TFRecords file at data/valid-data.tfrecords ...\n",
      "Finish Writing data/valid-data.tfrecords\n",
      "\n",
      "Converting Test Data Files\n",
      "Creating TFRecords file at data/test-data.tfrecords ...\n",
      "Finish Writing data/test-data.tfrecords\n"
     ]
    }
   ],
   "source": [
    "print(\"Converting Training Data Files\")\n",
    "for input_csv_file in train_data_files:\n",
    "    create_tfrecords_file(input_csv_file)\n",
    "print(\"\")\n",
    "\n",
    "print(\"Converting Validation Data Files\")\n",
    "for input_csv_file in valid_data_files:\n",
    "    create_tfrecords_file(input_csv_file)\n",
    "print(\"\")\n",
    "\n",
    "print(\"Converting Test Data Files\")\n",
    "for input_csv_file in test_data_files:\n",
    "    create_tfrecords_file(input_csv_file)"
   ]
  },
  {
   "cell_type": "code",
   "execution_count": null,
   "metadata": {
    "collapsed": true
   },
   "outputs": [],
   "source": []
  }
 ],
 "metadata": {
  "kernelspec": {
   "display_name": "Python 3",
   "language": "python",
   "name": "python3"
  },
  "language_info": {
   "codemirror_mode": {
    "name": "ipython",
    "version": 3
   },
   "file_extension": ".py",
   "mimetype": "text/x-python",
   "name": "python",
   "nbconvert_exporter": "python",
   "pygments_lexer": "ipython3",
   "version": "3.6.1"
  }
 },
 "nbformat": 4,
 "nbformat_minor": 2
}
