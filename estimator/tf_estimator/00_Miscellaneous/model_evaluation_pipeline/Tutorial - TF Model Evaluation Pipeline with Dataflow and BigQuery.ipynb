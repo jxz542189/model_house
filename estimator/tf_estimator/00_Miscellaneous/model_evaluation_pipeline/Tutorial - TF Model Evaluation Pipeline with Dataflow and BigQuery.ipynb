{
 "cells": [
  {
   "cell_type": "markdown",
   "metadata": {
    "deletable": true,
    "editable": true
   },
   "source": [
    "## 1. Initialize settings"
   ]
  },
  {
   "cell_type": "code",
   "execution_count": 79,
   "metadata": {
    "collapsed": true,
    "deletable": true,
    "editable": true
   },
   "outputs": [],
   "source": [
    "# change these to try this notebook out\n",
    "BUCKET = 'cloudonair-ml-demo'\n",
    "PROJECT = 'cloudonair-ml-demo'\n",
    "REGION = 'us-central1'"
   ]
  },
  {
   "cell_type": "code",
   "execution_count": 80,
   "metadata": {
    "collapsed": true,
    "deletable": true,
    "editable": true
   },
   "outputs": [],
   "source": [
    "import os\n",
    "\n",
    "os.environ['BUCKET'] = BUCKET\n",
    "os.environ['PROJECT'] = PROJECT\n",
    "os.environ['REGION'] = REGION"
   ]
  },
  {
   "cell_type": "code",
   "execution_count": 81,
   "metadata": {
    "collapsed": false,
    "deletable": true,
    "editable": true
   },
   "outputs": [
    {
     "name": "stderr",
     "output_type": "stream",
     "text": [
      "Updated property [core/project].\n",
      "Updated property [compute/region].\n"
     ]
    }
   ],
   "source": [
    "%%bash\n",
    "\n",
    "gcloud config set project $PROJECT\n",
    "gcloud config set compute/region $REGION"
   ]
  },
  {
   "cell_type": "markdown",
   "metadata": {
    "deletable": true,
    "editable": true
   },
   "source": [
    "## 2. Explore Natality dataset"
   ]
  },
  {
   "cell_type": "code",
   "execution_count": 82,
   "metadata": {
    "collapsed": false,
    "deletable": true,
    "editable": true
   },
   "outputs": [
    {
     "data": {
      "text/html": [
       "<div>\n",
       "<style scoped>\n",
       "    .dataframe tbody tr th:only-of-type {\n",
       "        vertical-align: middle;\n",
       "    }\n",
       "\n",
       "    .dataframe tbody tr th {\n",
       "        vertical-align: top;\n",
       "    }\n",
       "\n",
       "    .dataframe thead th {\n",
       "        text-align: right;\n",
       "    }\n",
       "</style>\n",
       "<table border=\"1\" class=\"dataframe\">\n",
       "  <thead>\n",
       "    <tr style=\"text-align: right;\">\n",
       "      <th></th>\n",
       "      <th>weight_pounds</th>\n",
       "      <th>is_male</th>\n",
       "      <th>mother_age</th>\n",
       "      <th>plurality</th>\n",
       "      <th>gestation_weeks</th>\n",
       "    </tr>\n",
       "  </thead>\n",
       "  <tbody>\n",
       "    <tr>\n",
       "      <th>0</th>\n",
       "      <td>6.053894</td>\n",
       "      <td>False</td>\n",
       "      <td>15</td>\n",
       "      <td>1</td>\n",
       "      <td>38</td>\n",
       "    </tr>\n",
       "    <tr>\n",
       "      <th>1</th>\n",
       "      <td>7.685314</td>\n",
       "      <td>False</td>\n",
       "      <td>16</td>\n",
       "      <td>1</td>\n",
       "      <td>41</td>\n",
       "    </tr>\n",
       "    <tr>\n",
       "      <th>2</th>\n",
       "      <td>5.249206</td>\n",
       "      <td>False</td>\n",
       "      <td>17</td>\n",
       "      <td>1</td>\n",
       "      <td>36</td>\n",
       "    </tr>\n",
       "    <tr>\n",
       "      <th>3</th>\n",
       "      <td>8.562754</td>\n",
       "      <td>False</td>\n",
       "      <td>18</td>\n",
       "      <td>1</td>\n",
       "      <td>39</td>\n",
       "    </tr>\n",
       "    <tr>\n",
       "      <th>4</th>\n",
       "      <td>6.062712</td>\n",
       "      <td>False</td>\n",
       "      <td>19</td>\n",
       "      <td>1</td>\n",
       "      <td>39</td>\n",
       "    </tr>\n",
       "  </tbody>\n",
       "</table>\n",
       "</div>"
      ],
      "text/plain": [
       "   weight_pounds  is_male  mother_age  plurality gestation_weeks\n",
       "0       6.053894    False          15          1              38\n",
       "1       7.685314    False          16          1              41\n",
       "2       5.249206    False          17          1              36\n",
       "3       8.562754    False          18          1              39\n",
       "4       6.062712    False          19          1              39"
      ]
     },
     "execution_count": 82,
     "metadata": {},
     "output_type": "execute_result"
    }
   ],
   "source": [
    "# Call BigQuery and examine in dataframe\n",
    "import pandas\n",
    "from pandas.io import gbq\n",
    "\n",
    "# Create SQL query using natality data after the year 2000\n",
    "query = \"\"\"\n",
    "SELECT\n",
    "  weight_pounds,\n",
    "  is_male,\n",
    "  mother_age,\n",
    "  plurality,\n",
    "  gestation_weeks\n",
    "FROM\n",
    "  publicdata.samples.natality\n",
    "WHERE year > 2000\n",
    "LIMIT 100\n",
    "\"\"\"\n",
    "\n",
    "df = gbq.read_gbq(query=query, dialect='standard', project_id=os.environ['PROJECT'], verbose=False)\n",
    "df.head()"
   ]
  },
  {
   "cell_type": "markdown",
   "metadata": {
    "deletable": true,
    "editable": true
   },
   "source": [
    "## 3. Training on Cloud ML Engine"
   ]
  },
  {
   "cell_type": "code",
   "execution_count": 83,
   "metadata": {
    "collapsed": false,
    "deletable": true,
    "editable": true
   },
   "outputs": [],
   "source": [
    "%%bash\n",
    "\n",
    "if ! gsutil ls | grep -q gs://${BUCKET}/; then\n",
    "  gsutil mb -l ${REGION} gs://${BUCKET}\n",
    "  # copy canonical set of preprocessed files if you didn't do previous notebook\n",
    "  gsutil -m cp -R gs://cloud-training-demos/babyweight gs://${BUCKET}\n",
    "fi"
   ]
  },
  {
   "cell_type": "code",
   "execution_count": null,
   "metadata": {
    "collapsed": false,
    "deletable": true,
    "editable": true
   },
   "outputs": [],
   "source": [
    "%%bash\n",
    "\n",
    "OUTDIR=gs://${BUCKET}/babyweight/trained_model\n",
    "JOBNAME=babyweight_$(date -u +%y%m%d_%H%M%S)\n",
    "echo $OUTDIR $REGION $JOBNAME\n",
    "\n",
    "gsutil -m rm -rf $OUTDIR\n",
    "\n",
    "gcloud ml-engine jobs submit training $JOBNAME \\\n",
    "  --region=$REGION \\\n",
    "  --module-name=trainer.task \\\n",
    "  --package-path=$(pwd)/trainer \\\n",
    "  --job-dir=$OUTDIR \\\n",
    "  --staging-bucket=gs://$BUCKET \\\n",
    "  --scale-tier=STANDARD_1 \\\n",
    "  --runtime-version=1.4 \\\n",
    "  -- \\\n",
    "  --bucket=${BUCKET} \\\n",
    "  --output_dir=${OUTDIR} \\\n",
    "  --train_examples=200000"
   ]
  },
  {
   "cell_type": "markdown",
   "metadata": {
    "deletable": true,
    "editable": true
   },
   "source": [
    "## 3. Get a saved model directory"
   ]
  },
  {
   "cell_type": "code",
   "execution_count": 84,
   "metadata": {
    "collapsed": false,
    "deletable": true,
    "editable": true
   },
   "outputs": [
    {
     "name": "stdout",
     "output_type": "stream",
     "text": [
      "gs://cloudonair-ml-testing/babyweight/trained_model/export/exporter/1526957260\n"
     ]
    }
   ],
   "source": [
    "import datetime\n",
    "import os\n",
    "import pytz\n",
    "import re\n",
    "import urllib\n",
    "\n",
    "from google.cloud import storage\n",
    "\n",
    "def get_saved_model_dir(bucket, pattern='.*/babyweight/.*/saved_model.pb'):\n",
    "  created_time = datetime.datetime(datetime.MINYEAR, 1, 1, tzinfo=pytz.timezone('UTC'))\n",
    "  recent_model_path = None\n",
    "\n",
    "  p = re.compile(pattern)\n",
    "  \n",
    "  for blob in storage.Client().bucket(bucket).list_blobs():\n",
    "    if p.match(urllib.unquote(blob.path)):\n",
    "      if created_time < blob.time_created:\n",
    "        recent_model_path = blob.path\n",
    "        created_time = blob.time_created\n",
    "\n",
    "  saved_model = urllib.unquote(recent_model_path.split('/')[-1])\n",
    "  saved_model_dir = '/'.join(saved_model.split('/')[:-1])\n",
    "  return 'gs://{0}/{1}'.format(os.environ['BUCKET'], saved_model_dir)\n",
    "\n",
    "saved_model_dir = get_saved_model_dir(os.environ['BUCKET'])\n",
    "\n",
    "if saved_model_dir:\n",
    "  os.environ['SAVED_MODEL_DIR'] = saved_model_dir\n",
    "  print(saved_model_dir)\n",
    "else:\n",
    "  print('wait until saved_model.pb is written by Cloud ML Engine...')"
   ]
  },
  {
   "cell_type": "markdown",
   "metadata": {
    "deletable": true,
    "editable": true
   },
   "source": [
    "## 4. Testing an evaluation pipeline with DirectRunner"
   ]
  },
  {
   "cell_type": "markdown",
   "metadata": {
    "deletable": true,
    "editable": true
   },
   "source": [
    "### Configure a DirectRunner job"
   ]
  },
  {
   "cell_type": "code",
   "execution_count": 85,
   "metadata": {
    "collapsed": true,
    "deletable": true,
    "editable": true
   },
   "outputs": [],
   "source": [
    "import os\n",
    "import datetime\n",
    "\n",
    "os.environ['RUNNER'] = 'DirectRunner'\n",
    "os.environ['JOB_NAME'] = 'evaluate-ml-model-{0}'.format(datetime.datetime.now().strftime('%y%m%d-%H%M%S'))\n",
    "os.environ['BQ_DATASET'] = 'model_evaluation'\n",
    "os.environ['BQ_TABLE'] = 'sample'\n",
    "os.environ['OUTPUT_TABLE'] = '{}:{}.{}'.format(os.environ['PROJECT'], os.environ['BQ_DATASET'], os.environ['BQ_TABLE'])"
   ]
  },
  {
   "cell_type": "code",
   "execution_count": 86,
   "metadata": {
    "collapsed": false
   },
   "outputs": [],
   "source": [
    "%%bash\n",
    "\n",
    "# Create BQ dataset if it doesn't exist.\n",
    "if ! bq ls ${BQ_DATASET} > /dev/null; then\n",
    "  bq mk ${BQ_DATASET}\n",
    "fi"
   ]
  },
  {
   "cell_type": "markdown",
   "metadata": {
    "deletable": true,
    "editable": true
   },
   "source": [
    "### Execute a DirectRunner job"
   ]
  },
  {
   "cell_type": "code",
   "execution_count": 87,
   "metadata": {
    "collapsed": false,
    "deletable": true,
    "editable": true
   },
   "outputs": [
    {
     "name": "stderr",
     "output_type": "stream",
     "text": [
      "/usr/local/envs/py2env/lib/python2.7/site-packages/h5py/__init__.py:36: FutureWarning: Conversion of the second argument of issubdtype from `float` to `np.floating` is deprecated. In future, it will be treated as `np.float64 == np.dtype(float).type`.\n",
      "  from ._conv import register_converters as _register_converters\n",
      "/usr/local/envs/py2env/lib/python2.7/site-packages/scipy/optimize/_minimize.py:32: ImportWarning: Not importing directory '/usr/local/envs/py2env/lib/python2.7/site-packages/scipy/optimize/lbfgsb': missing __init__.py\n",
      "  from .lbfgsb import _minimize_lbfgsb\n",
      "/usr/local/envs/py2env/lib/python2.7/site-packages/scipy/spatial/__init__.py:95: ImportWarning: Not importing directory '/usr/local/envs/py2env/lib/python2.7/site-packages/scipy/spatial/qhull': missing __init__.py\n",
      "  from .qhull import *\n",
      "INFO:root:Running pipeline with DirectRunner.\n",
      "/usr/local/envs/py2env/lib/python2.7/site-packages/oauth2client/contrib/gce.py:99: UserWarning: You have requested explicit scopes to be used with a GCE service account.\n",
      "Using this argument will have no effect on the actual scopes for tokens\n",
      "requested. These scopes are set at VM instance creation time and\n",
      "can't be overridden in the request.\n",
      "\n",
      "  warnings.warn(_SCOPES_WARNING)\n",
      "INFO:oauth2client.client:Attempting refresh to obtain initial access_token\n",
      "WARNING:root:Dataset cloudonair-ml-testing:temp_dataset_db5245f584f84585a1e8eec26c5ad882 does not exist so we will create it as temporary with location=None\n",
      "INFO:root:initializing predictor...\n",
      "2018-05-22 09:51:37.957503: I tensorflow/core/platform/cpu_feature_guard.cc:140] Your CPU supports instructions that this TensorFlow binary was not compiled to use: AVX2 FMA\n",
      "INFO:oauth2client.client:Attempting refresh to obtain initial access_token\n",
      "INFO:root:Writing 100 rows to cloudonair-ml-testing:model_evaluation.sample table.\n"
     ]
    }
   ],
   "source": [
    "%%bash\n",
    "\n",
    "cd $(pwd)/evaluator\n",
    "\n",
    "python -m main \\\n",
    "  --datasize=100 \\\n",
    "  --year_from=1974 \\\n",
    "  --year_to=1978 \\\n",
    "  --saved_model_dir=${SAVED_MODEL_DIR} \\\n",
    "  --output_table=${OUTPUT_TABLE} \\\n",
    "  --project=${PROJECT} \\\n",
    "  --runner=DirectRunner \\\n",
    "  --region=${REGION} \\\n",
    "  --job_name=${JOB_NAME}"
   ]
  },
  {
   "cell_type": "markdown",
   "metadata": {
    "deletable": true,
    "editable": true
   },
   "source": [
    "### Show results of a DirectRunner Job"
   ]
  },
  {
   "cell_type": "code",
   "execution_count": 88,
   "metadata": {
    "collapsed": false,
    "deletable": true,
    "editable": true
   },
   "outputs": [
    {
     "data": {
      "text/html": [
       "<div>\n",
       "<style scoped>\n",
       "    .dataframe tbody tr th:only-of-type {\n",
       "        vertical-align: middle;\n",
       "    }\n",
       "\n",
       "    .dataframe tbody tr th {\n",
       "        vertical-align: top;\n",
       "    }\n",
       "\n",
       "    .dataframe thead th {\n",
       "        text-align: right;\n",
       "    }\n",
       "</style>\n",
       "<table border=\"1\" class=\"dataframe\">\n",
       "  <thead>\n",
       "    <tr style=\"text-align: right;\">\n",
       "      <th></th>\n",
       "      <th>is_male</th>\n",
       "      <th>mother_age</th>\n",
       "      <th>plurality</th>\n",
       "      <th>gestation_weeks</th>\n",
       "      <th>weight_true</th>\n",
       "      <th>weight_predicted</th>\n",
       "      <th>weight_residual</th>\n",
       "      <th>model</th>\n",
       "      <th>testdata</th>\n",
       "      <th>time_inference</th>\n",
       "    </tr>\n",
       "  </thead>\n",
       "  <tbody>\n",
       "    <tr>\n",
       "      <th>0</th>\n",
       "      <td>True</td>\n",
       "      <td>20</td>\n",
       "      <td>Single(1)</td>\n",
       "      <td>40</td>\n",
       "      <td>9.499719</td>\n",
       "      <td>7.500028</td>\n",
       "      <td>1.999691</td>\n",
       "      <td>gs://cloudonair-ml-testing/babyweight/trained_...</td>\n",
       "      <td>1974-1978</td>\n",
       "      <td>0.930071</td>\n",
       "    </tr>\n",
       "    <tr>\n",
       "      <th>1</th>\n",
       "      <td>True</td>\n",
       "      <td>21</td>\n",
       "      <td>Single(1)</td>\n",
       "      <td>40</td>\n",
       "      <td>7.561856</td>\n",
       "      <td>7.637622</td>\n",
       "      <td>-0.075766</td>\n",
       "      <td>gs://cloudonair-ml-testing/babyweight/trained_...</td>\n",
       "      <td>1974-1978</td>\n",
       "      <td>0.897169</td>\n",
       "    </tr>\n",
       "    <tr>\n",
       "      <th>2</th>\n",
       "      <td>True</td>\n",
       "      <td>27</td>\n",
       "      <td>Single(1)</td>\n",
       "      <td>99</td>\n",
       "      <td>5.732019</td>\n",
       "      <td>14.236391</td>\n",
       "      <td>-8.504372</td>\n",
       "      <td>gs://cloudonair-ml-testing/babyweight/trained_...</td>\n",
       "      <td>1974-1978</td>\n",
       "      <td>0.864029</td>\n",
       "    </tr>\n",
       "    <tr>\n",
       "      <th>3</th>\n",
       "      <td>True</td>\n",
       "      <td>18</td>\n",
       "      <td>Single(1)</td>\n",
       "      <td>40</td>\n",
       "      <td>7.438397</td>\n",
       "      <td>7.021181</td>\n",
       "      <td>0.417216</td>\n",
       "      <td>gs://cloudonair-ml-testing/babyweight/trained_...</td>\n",
       "      <td>1974-1978</td>\n",
       "      <td>0.951052</td>\n",
       "    </tr>\n",
       "    <tr>\n",
       "      <th>4</th>\n",
       "      <td>True</td>\n",
       "      <td>25</td>\n",
       "      <td>Single(1)</td>\n",
       "      <td>39</td>\n",
       "      <td>7.749249</td>\n",
       "      <td>7.118065</td>\n",
       "      <td>0.631183</td>\n",
       "      <td>gs://cloudonair-ml-testing/babyweight/trained_...</td>\n",
       "      <td>1974-1978</td>\n",
       "      <td>0.956059</td>\n",
       "    </tr>\n",
       "  </tbody>\n",
       "</table>\n",
       "</div>"
      ],
      "text/plain": [
       "  is_male  mother_age  plurality  gestation_weeks  weight_true  \\\n",
       "0    True          20  Single(1)               40     9.499719   \n",
       "1    True          21  Single(1)               40     7.561856   \n",
       "2    True          27  Single(1)               99     5.732019   \n",
       "3    True          18  Single(1)               40     7.438397   \n",
       "4    True          25  Single(1)               39     7.749249   \n",
       "\n",
       "   weight_predicted  weight_residual  \\\n",
       "0          7.500028         1.999691   \n",
       "1          7.637622        -0.075766   \n",
       "2         14.236391        -8.504372   \n",
       "3          7.021181         0.417216   \n",
       "4          7.118065         0.631183   \n",
       "\n",
       "                                               model   testdata  \\\n",
       "0  gs://cloudonair-ml-testing/babyweight/trained_...  1974-1978   \n",
       "1  gs://cloudonair-ml-testing/babyweight/trained_...  1974-1978   \n",
       "2  gs://cloudonair-ml-testing/babyweight/trained_...  1974-1978   \n",
       "3  gs://cloudonair-ml-testing/babyweight/trained_...  1974-1978   \n",
       "4  gs://cloudonair-ml-testing/babyweight/trained_...  1974-1978   \n",
       "\n",
       "   time_inference  \n",
       "0        0.930071  \n",
       "1        0.897169  \n",
       "2        0.864029  \n",
       "3        0.951052  \n",
       "4        0.956059  "
      ]
     },
     "execution_count": 88,
     "metadata": {},
     "output_type": "execute_result"
    }
   ],
   "source": [
    "import pandas\n",
    "from pandas.io import gbq\n",
    "\n",
    "query = \"\"\"\n",
    "SELECT * FROM `{0}` LIMIT 10\n",
    "\"\"\".format(os.environ['OUTPUT_TABLE'].replace(':', '.'))\n",
    "\n",
    "df = gbq.read_gbq(query=query, dialect='standard', project_id=os.environ['PROJECT'], verbose=False)\n",
    "df.head()"
   ]
  },
  {
   "cell_type": "code",
   "execution_count": 89,
   "metadata": {
    "collapsed": false,
    "deletable": true,
    "editable": true
   },
   "outputs": [
    {
     "data": {
      "text/html": [
       "<div>\n",
       "<style scoped>\n",
       "    .dataframe tbody tr th:only-of-type {\n",
       "        vertical-align: middle;\n",
       "    }\n",
       "\n",
       "    .dataframe tbody tr th {\n",
       "        vertical-align: top;\n",
       "    }\n",
       "\n",
       "    .dataframe thead th {\n",
       "        text-align: right;\n",
       "    }\n",
       "</style>\n",
       "<table border=\"1\" class=\"dataframe\">\n",
       "  <thead>\n",
       "    <tr style=\"text-align: right;\">\n",
       "      <th></th>\n",
       "      <th>model</th>\n",
       "      <th>testdata</th>\n",
       "      <th>RMSE</th>\n",
       "      <th>AVG_MSEC</th>\n",
       "    </tr>\n",
       "  </thead>\n",
       "  <tbody>\n",
       "    <tr>\n",
       "      <th>0</th>\n",
       "      <td>gs://cloudonair-ml-testing/babyweight/trained_...</td>\n",
       "      <td>1974-1978</td>\n",
       "      <td>4.043845</td>\n",
       "      <td>3.156292</td>\n",
       "    </tr>\n",
       "    <tr>\n",
       "      <th>1</th>\n",
       "      <td>gs://cloudonair-ml-testing/babyweight/trained_...</td>\n",
       "      <td>1974-1978</td>\n",
       "      <td>3.794716</td>\n",
       "      <td>3.072488</td>\n",
       "    </tr>\n",
       "  </tbody>\n",
       "</table>\n",
       "</div>"
      ],
      "text/plain": [
       "                                               model   testdata      RMSE  \\\n",
       "0  gs://cloudonair-ml-testing/babyweight/trained_...  1974-1978  4.043845   \n",
       "1  gs://cloudonair-ml-testing/babyweight/trained_...  1974-1978  3.794716   \n",
       "\n",
       "   AVG_MSEC  \n",
       "0  3.156292  \n",
       "1  3.072488  "
      ]
     },
     "execution_count": 89,
     "metadata": {},
     "output_type": "execute_result"
    }
   ],
   "source": [
    "import pandas\n",
    "from pandas.io import gbq\n",
    "\n",
    "query = \"\"\"\n",
    "SELECT\n",
    "  model,\n",
    "  testdata,\n",
    "  SQRT(SUM(POW(weight_residual,2))/COUNT(*)) AS RMSE,\n",
    "  AVG(time_inference) AS AVG_MSEC\n",
    "FROM\n",
    "  `{0}`\n",
    "GROUP BY\n",
    "  model, testdata\n",
    "\"\"\".format(os.environ['OUTPUT_TABLE'].replace(':', '.'))\n",
    "\n",
    "df = gbq.read_gbq(query=query, dialect='standard', project_id=os.environ['PROJECT'], verbose=False)\n",
    "df.head()"
   ]
  },
  {
   "cell_type": "markdown",
   "metadata": {
    "deletable": true,
    "editable": true
   },
   "source": [
    "## 5. Running an evaluation pipeline with DataflowRunner"
   ]
  },
  {
   "cell_type": "markdown",
   "metadata": {
    "deletable": true,
    "editable": true
   },
   "source": [
    "### Configure a Dataflow job"
   ]
  },
  {
   "cell_type": "code",
   "execution_count": 90,
   "metadata": {
    "collapsed": true,
    "deletable": true,
    "editable": true
   },
   "outputs": [],
   "source": [
    "import os\n",
    "import datetime\n",
    "\n",
    "os.environ['RUNNER'] = 'DataflowRunner'\n",
    "os.environ['STAGING_LOCATION'] = 'gs://{0}/babyweight/staging'.format(os.environ['BUCKET'])\n",
    "os.environ['TEMP_LOCATION'] = 'gs://{0}/babyweight/temp'.format(os.environ['BUCKET'])\n",
    "os.environ['JOB_NAME'] = 'evaluate-ml-model-{0}'.format(datetime.datetime.now().strftime('%y%m%d-%H%M%S'))\n",
    "os.environ['BQ_DATASET'] = 'model_evaluation'\n",
    "os.environ['BQ_TABLE'] = 'prediction_results'\n",
    "os.environ['OUTPUT_TABLE'] = '{}:{}.{}'.format(os.environ['PROJECT'], os.environ['BQ_DATASET'], os.environ['BQ_TABLE'])"
   ]
  },
  {
   "cell_type": "code",
   "execution_count": 91,
   "metadata": {
    "collapsed": true
   },
   "outputs": [],
   "source": [
    "%%bash\n",
    "\n",
    "# Create BQ dataset if it doesn't exist.\n",
    "if ! bq ls ${BQ_DATASET} > /dev/null; then\n",
    "  bq mk ${BQ_DATASET}\n",
    "fi"
   ]
  },
  {
   "cell_type": "markdown",
   "metadata": {
    "deletable": true,
    "editable": true
   },
   "source": [
    "### Execute a Dataflow job"
   ]
  },
  {
   "cell_type": "code",
   "execution_count": null,
   "metadata": {
    "collapsed": false,
    "deletable": true,
    "editable": true,
    "scrolled": true
   },
   "outputs": [],
   "source": [
    "%%bash\n",
    "\n",
    "cd $(pwd)/evaluator\n",
    "\n",
    "python -m main \\\n",
    "  --datasize=1000000 \\\n",
    "  --year_from=1984 \\\n",
    "  --year_to=1988 \\\n",
    "  --saved_model_dir=${SAVED_MODEL_DIR} \\\n",
    "  --output_table=${OUTPUT_TABLE} \\\n",
    "  --project=${PROJECT} \\\n",
    "  --runner=${RUNNER} \\\n",
    "  --region=${REGION} \\\n",
    "  --staging_location=${STAGING_LOCATION} \\\n",
    "  --temp_location=${TEMP_LOCATION} \\\n",
    "  --job_name=${JOB_NAME} \\\n",
    "  --setup_file=$(pwd)/setup.py"
   ]
  },
  {
   "cell_type": "code",
   "execution_count": null,
   "metadata": {
    "collapsed": false,
    "deletable": true,
    "editable": true
   },
   "outputs": [],
   "source": [
    "import pandas\n",
    "from pandas.io import gbq\n",
    "\n",
    "query = \"\"\"\n",
    "SELECT * FROM `{0}` LIMIT 10\n",
    "\"\"\".format(os.environ['OUTPUT_TABLE'].replace(':', '.'))\n",
    "\n",
    "df = gbq.read_gbq(query=query, dialect='standard', project_id=os.environ['PROJECT'], verbose=False)\n",
    "df.head()"
   ]
  },
  {
   "cell_type": "code",
   "execution_count": null,
   "metadata": {
    "collapsed": false,
    "deletable": true,
    "editable": true
   },
   "outputs": [],
   "source": [
    "query = \"\"\"\n",
    "SELECT\n",
    "  model,\n",
    "  testdata,\n",
    "  SQRT(SUM(POW(weight_residual,2))/COUNT(*)) AS RMSE,\n",
    "  AVG(time_inference) AS AVG_MSEC\n",
    "FROM\n",
    "  `{0}`\n",
    "GROUP BY\n",
    "  model, testdata\n",
    "\"\"\".format(os.environ['OUTPUT_TABLE'].replace(':', '.'))\n",
    "\n",
    "df = gbq.read_gbq(query=query, dialect='standard', project_id=os.environ['PROJECT'], verbose=False)\n",
    "df"
   ]
  },
  {
   "cell_type": "markdown",
   "metadata": {
    "deletable": true,
    "editable": true
   },
   "source": [
    "## 6. Visualize Optimizing and Satisficing Metric with DataStudio"
   ]
  },
  {
   "cell_type": "markdown",
   "metadata": {
    "deletable": true,
    "editable": true
   },
   "source": [
    "Now, you can create sharable dashboard using Google Data Studio like below. In the similar way, you can also create a dashboard for error analysis so that both business owners and engineers do simple error analysis."
   ]
  },
  {
   "cell_type": "markdown",
   "metadata": {
    "deletable": true,
    "editable": true
   },
   "source": [
    "<img src=\"dashboard1.png\">"
   ]
  }
 ],
 "metadata": {
  "kernelspec": {
   "display_name": "Python 2",
   "language": "python",
   "name": "python2"
  },
  "language_info": {
   "codemirror_mode": {
    "name": "ipython",
    "version": 2
   },
   "file_extension": ".py",
   "mimetype": "text/x-python",
   "name": "python",
   "nbconvert_exporter": "python",
   "pygments_lexer": "ipython2",
   "version": "2.7.15"
  }
 },
 "nbformat": 4,
 "nbformat_minor": 2
}
