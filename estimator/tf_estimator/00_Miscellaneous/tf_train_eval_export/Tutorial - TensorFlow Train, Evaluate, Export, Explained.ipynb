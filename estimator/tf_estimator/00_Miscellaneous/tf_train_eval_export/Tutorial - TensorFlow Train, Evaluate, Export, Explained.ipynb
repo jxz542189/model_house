{
 "cells": [
  {
   "cell_type": "markdown",
   "metadata": {},
   "source": [
    "# TensorFlow Estimators: Train, Evaluate, Export, Explained!"
   ]
  },
  {
   "cell_type": "code",
   "execution_count": 1,
   "metadata": {},
   "outputs": [
    {
     "name": "stdout",
     "output_type": "stream",
     "text": [
      "TensorFlow : 1.10.0\n"
     ]
    }
   ],
   "source": [
    "import os\n",
    "import numpy as np\n",
    "from datetime import datetime\n",
    "\n",
    "import tensorflow as tf\n",
    "from tensorflow import data\n",
    "\n",
    "print \"TensorFlow : {}\".format(tf.__version__)"
   ]
  },
  {
   "cell_type": "markdown",
   "metadata": {},
   "source": [
    "## Import Data"
   ]
  },
  {
   "cell_type": "code",
   "execution_count": 4,
   "metadata": {},
   "outputs": [
    {
     "name": "stdout",
     "output_type": "stream",
     "text": [
      "Extracting MNIST-data/train-images-idx3-ubyte.gz\n",
      "Extracting MNIST-data/train-labels-idx1-ubyte.gz\n",
      "Extracting MNIST-data/t10k-images-idx3-ubyte.gz\n",
      "Extracting MNIST-data/t10k-labels-idx1-ubyte.gz\n"
     ]
    }
   ],
   "source": [
    "mnist = tf.contrib.learn.datasets.load_dataset(\"mnist\")\n",
    "train_data = mnist.train.images\n",
    "train_labels = np.asarray(mnist.train.labels, dtype=np.int32)\n",
    "eval_data = mnist.test.images\n",
    "eval_labels = np.asarray(mnist.test.labels, dtype=np.int32)\n",
    "NUM_CLASSES = 10"
   ]
  },
  {
   "cell_type": "code",
   "execution_count": 5,
   "metadata": {},
   "outputs": [
    {
     "name": "stdout",
     "output_type": "stream",
     "text": [
      "Train data shape: (55000, 784)\n",
      "Eval data shape: (10000, 784)\n"
     ]
    }
   ],
   "source": [
    "print \"Train data shape: {}\".format(train_data.shape)\n",
    "print \"Eval data shape: {}\".format(eval_data.shape)"
   ]
  },
  {
   "cell_type": "code",
   "execution_count": 6,
   "metadata": {},
   "outputs": [],
   "source": [
    "TRAIN_DATA_SIZE = 55000\n",
    "EVAL_DATA_SIZE = 10000\n",
    "\n",
    "# Let's fix batch size to 1000\n",
    "BATCH_SIZE = 1000 "
   ]
  },
  {
   "cell_type": "markdown",
   "metadata": {},
   "source": [
    "## Create Estimator"
   ]
  },
  {
   "cell_type": "code",
   "execution_count": 7,
   "metadata": {},
   "outputs": [
    {
     "name": "stdout",
     "output_type": "stream",
     "text": [
      "models/mnist/dnn_classifier\n"
     ]
    }
   ],
   "source": [
    "def create_estimator(run_config):\n",
    "    \n",
    "    feature_columns = [tf.feature_column.numeric_column(key='input_image',shape=784, dtype=tf.float32)]\n",
    "    \n",
    "    estimator = tf.estimator.DNNClassifier(\n",
    "        feature_columns=feature_columns,\n",
    "        n_classes=NUM_CLASSES,\n",
    "        hidden_units=[512, 128, 64], \n",
    "        dropout=0.85,\n",
    "        batch_norm=True,\n",
    "        config=run_config\n",
    "    )\n",
    "    \n",
    "    return estimator\n",
    "\n",
    "MODELS_LOCATION = 'models/mnist'\n",
    "MODEL_NAME = 'dnn_classifier'\n",
    "model_dir = os.path.join(MODELS_LOCATION, MODEL_NAME)\n",
    "\n",
    "\n",
    "print model_dir\n",
    "\n",
    "run_config = tf.estimator.RunConfig(\n",
    "    tf_random_seed=19830610,\n",
    "    model_dir=model_dir\n",
    ")"
   ]
  },
  {
   "cell_type": "markdown",
   "metadata": {},
   "source": [
    "## Train: Input Function\n",
    "* Batch size is set\n",
    "* Epochs is ignored (set to None)\n",
    "\n",
    "Later we are going to see how to use epochs for training.\n"
   ]
  },
  {
   "cell_type": "code",
   "execution_count": 8,
   "metadata": {},
   "outputs": [],
   "source": [
    "train_input_fn = tf.estimator.inputs.numpy_input_fn(\n",
    "            x={\"input_image\": train_data},\n",
    "            y=train_labels,\n",
    "            batch_size=BATCH_SIZE,\n",
    "            num_epochs=None,\n",
    "            shuffle=True)"
   ]
  },
  {
   "cell_type": "markdown",
   "metadata": {},
   "source": [
    "## Train: Incremental Steps vs. Total Steps\n",
    "* 1 batch (feed forward pass & backpropagation) corresponds to 1 training step \n",
    "* **steps**: Number of steps for which to train model. 'steps' works **incrementally**. Two calls to train(steps=100) means 200 training iterations.\n",
    "* **max_steps**: Number of **total** steps for which to train model. If set, steps must be None. Two calls to train(max_steps=100) means that the second call will not do any iteration since first call did all 100 steps.\n",
    "\n",
    "\n",
    "In the following function, **clean_start** flag indicates whether to delete the previous model artefacts (if any), and **incremental** flag indicates whether to use **steps** (for incremental training steps) or **max_steps** (for overall training steps). "
   ]
  },
  {
   "cell_type": "code",
   "execution_count": 10,
   "metadata": {},
   "outputs": [],
   "source": [
    "def train_experiment(training_steps, clean_start, incremental, run_config):\n",
    "\n",
    "    if clean_start == True: \n",
    "        if tf.gfile.Exists(run_config.model_dir):\n",
    "            print(\"Removing previous artefacts...\")\n",
    "            \n",
    "            tf.gfile.DeleteRecursively(run_config.model_dir)\n",
    "\n",
    "    print \"\"\n",
    "    estimator = create_estimator(run_config)\n",
    "    print \"\"\n",
    "    \n",
    "    time_start = datetime.utcnow() \n",
    "    print(\"Experiment started at {}\".format(time_start.strftime(\"%H:%M:%S\")))\n",
    "    print(\".......................................\") \n",
    "   \n",
    "    if incremental:\n",
    "        estimator.train(train_input_fn, steps=training_steps)\n",
    "    else:\n",
    "        estimator.train(train_input_fn, max_steps=training_steps)\n",
    "        \n",
    "    time_end = datetime.utcnow() \n",
    "    print(\".......................................\")\n",
    "    print(\"Experiment finished at {}\".format(time_end.strftime(\"%H:%M:%S\")))\n",
    "    print(\"\")\n",
    "    time_elapsed = time_end - time_start\n",
    "    print(\"Experiment elapsed time: {} seconds\".format(time_elapsed.total_seconds()))\n",
    "    \n",
    "    return estimator"
   ]
  },
  {
   "cell_type": "code",
   "execution_count": 11,
   "metadata": {},
   "outputs": [
    {
     "name": "stdout",
     "output_type": "stream",
     "text": [
      "Removing previous artefacts...\n",
      "\n",
      "INFO:tensorflow:Using config: {'_save_checkpoints_secs': 600, '_global_id_in_cluster': 0, '_session_config': None, '_keep_checkpoint_max': 5, '_tf_random_seed': 19830610, '_task_type': 'worker', '_train_distribute': None, '_is_chief': True, '_cluster_spec': <tensorflow.python.training.server_lib.ClusterSpec object at 0x115519990>, '_model_dir': 'models/mnist/dnn_classifier', '_num_worker_replicas': 1, '_task_id': 0, '_log_step_count_steps': 100, '_master': '', '_save_checkpoints_steps': None, '_keep_checkpoint_every_n_hours': 10000, '_evaluation_master': '', '_service': None, '_device_fn': None, '_save_summary_steps': 100, '_num_ps_replicas': 0}\n",
      "\n",
      "Experiment started at 19:37:28\n",
      ".......................................\n",
      "INFO:tensorflow:Calling model_fn.\n",
      "INFO:tensorflow:Done calling model_fn.\n",
      "INFO:tensorflow:Create CheckpointSaverHook.\n",
      "INFO:tensorflow:Graph was finalized.\n",
      "INFO:tensorflow:Running local_init_op.\n",
      "INFO:tensorflow:Done running local_init_op.\n",
      "INFO:tensorflow:Saving checkpoints for 0 into models/mnist/dnn_classifier/model.ckpt.\n",
      "INFO:tensorflow:loss = 2941.5715, step = 1\n",
      "INFO:tensorflow:global_step/sec: 22.2596\n",
      "INFO:tensorflow:loss = 1365.0504, step = 101 (4.494 sec)\n",
      "INFO:tensorflow:global_step/sec: 21.9131\n",
      "INFO:tensorflow:loss = 1247.7278, step = 201 (4.563 sec)\n",
      "INFO:tensorflow:global_step/sec: 23.0032\n",
      "INFO:tensorflow:loss = 1095.4385, step = 301 (4.347 sec)\n",
      "INFO:tensorflow:global_step/sec: 23.1668\n",
      "INFO:tensorflow:loss = 1020.99963, step = 401 (4.317 sec)\n",
      "INFO:tensorflow:global_step/sec: 23.3734\n",
      "INFO:tensorflow:loss = 1084.7704, step = 501 (4.278 sec)\n",
      "INFO:tensorflow:global_step/sec: 21.6584\n",
      "INFO:tensorflow:loss = 986.4248, step = 601 (4.617 sec)\n",
      "INFO:tensorflow:global_step/sec: 22.5684\n",
      "INFO:tensorflow:loss = 952.316, step = 701 (4.431 sec)\n",
      "INFO:tensorflow:global_step/sec: 23.5635\n",
      "INFO:tensorflow:loss = 968.0718, step = 801 (4.244 sec)\n",
      "INFO:tensorflow:global_step/sec: 21.96\n",
      "INFO:tensorflow:loss = 909.7677, step = 901 (4.554 sec)\n",
      "INFO:tensorflow:Saving checkpoints for 1000 into models/mnist/dnn_classifier/model.ckpt.\n",
      "INFO:tensorflow:Loss for final step: 955.8394.\n",
      ".......................................\n",
      "Experiment finished at 19:38:15\n",
      "\n",
      "Experiment elapsed time: 46.733107 seconds\n"
     ]
    },
    {
     "data": {
      "text/plain": [
       "<tensorflow.python.estimator.canned.dnn.DNNClassifier at 0x10203cc90>"
      ]
     },
     "execution_count": 11,
     "metadata": {},
     "output_type": "execute_result"
    }
   ],
   "source": [
    "train_experiment(\n",
    "    training_steps=1000, \n",
    "    clean_start=True,\n",
    "    incremental=False,\n",
    "    run_config=run_config\n",
    ")"
   ]
  },
  {
   "cell_type": "markdown",
   "metadata": {},
   "source": [
    "Total number of steps 1000.\n",
    "\n",
    "Lets run this again, with max_steps, without deleting the previous model."
   ]
  },
  {
   "cell_type": "code",
   "execution_count": 12,
   "metadata": {},
   "outputs": [
    {
     "name": "stdout",
     "output_type": "stream",
     "text": [
      "\n",
      "INFO:tensorflow:Using config: {'_save_checkpoints_secs': 600, '_global_id_in_cluster': 0, '_session_config': None, '_keep_checkpoint_max': 5, '_tf_random_seed': 19830610, '_task_type': 'worker', '_train_distribute': None, '_is_chief': True, '_cluster_spec': <tensorflow.python.training.server_lib.ClusterSpec object at 0x115519990>, '_model_dir': 'models/mnist/dnn_classifier', '_num_worker_replicas': 1, '_task_id': 0, '_log_step_count_steps': 100, '_master': '', '_save_checkpoints_steps': None, '_keep_checkpoint_every_n_hours': 10000, '_evaluation_master': '', '_service': None, '_device_fn': None, '_save_summary_steps': 100, '_num_ps_replicas': 0}\n",
      "\n",
      "Experiment started at 19:38:19\n",
      ".......................................\n",
      "INFO:tensorflow:Skipping training since max_steps has already saved.\n",
      ".......................................\n",
      "Experiment finished at 19:38:19\n",
      "\n",
      "Experiment elapsed time: 0.007219 seconds\n"
     ]
    },
    {
     "data": {
      "text/plain": [
       "<tensorflow.python.estimator.canned.dnn.DNNClassifier at 0x115cf5b90>"
      ]
     },
     "execution_count": 12,
     "metadata": {},
     "output_type": "execute_result"
    }
   ],
   "source": [
    "train_experiment(\n",
    "    training_steps=1000, \n",
    "    clean_start=False,\n",
    "    incremental=False,\n",
    "    run_config=run_config\n",
    ")"
   ]
  },
  {
   "cell_type": "markdown",
   "metadata": {},
   "source": [
    "As expected, no training occured and since max_steps was reached.\n",
    "\n",
    "Now let's try incremetal steps"
   ]
  },
  {
   "cell_type": "code",
   "execution_count": 14,
   "metadata": {},
   "outputs": [
    {
     "name": "stdout",
     "output_type": "stream",
     "text": [
      "\n",
      "INFO:tensorflow:Using config: {'_save_checkpoints_secs': 600, '_global_id_in_cluster': 0, '_session_config': None, '_keep_checkpoint_max': 5, '_tf_random_seed': 19830610, '_task_type': 'worker', '_train_distribute': None, '_is_chief': True, '_cluster_spec': <tensorflow.python.training.server_lib.ClusterSpec object at 0x115519990>, '_model_dir': 'models/mnist/dnn_classifier', '_num_worker_replicas': 1, '_task_id': 0, '_log_step_count_steps': 100, '_master': '', '_save_checkpoints_steps': None, '_keep_checkpoint_every_n_hours': 10000, '_evaluation_master': '', '_service': None, '_device_fn': None, '_save_summary_steps': 100, '_num_ps_replicas': 0}\n",
      "\n",
      "Experiment started at 19:38:33\n",
      ".......................................\n",
      "INFO:tensorflow:Calling model_fn.\n",
      "INFO:tensorflow:Done calling model_fn.\n",
      "INFO:tensorflow:Create CheckpointSaverHook.\n",
      "INFO:tensorflow:Graph was finalized.\n",
      "INFO:tensorflow:Restoring parameters from models/mnist/dnn_classifier/model.ckpt-1000\n",
      "INFO:tensorflow:Running local_init_op.\n",
      "INFO:tensorflow:Done running local_init_op.\n",
      "INFO:tensorflow:Saving checkpoints for 1000 into models/mnist/dnn_classifier/model.ckpt.\n",
      "INFO:tensorflow:loss = 939.1177, step = 1001\n",
      "INFO:tensorflow:global_step/sec: 21.3651\n",
      "INFO:tensorflow:loss = 930.06445, step = 1101 (4.683 sec)\n",
      "INFO:tensorflow:global_step/sec: 23.0068\n",
      "INFO:tensorflow:loss = 848.8744, step = 1201 (4.346 sec)\n",
      "INFO:tensorflow:global_step/sec: 22.6668\n",
      "INFO:tensorflow:loss = 887.2693, step = 1301 (4.413 sec)\n",
      "INFO:tensorflow:global_step/sec: 22.1708\n",
      "INFO:tensorflow:loss = 908.3596, step = 1401 (4.510 sec)\n",
      "INFO:tensorflow:global_step/sec: 23.7664\n",
      "INFO:tensorflow:loss = 810.4328, step = 1501 (4.208 sec)\n",
      "INFO:tensorflow:global_step/sec: 23.7735\n",
      "INFO:tensorflow:loss = 868.12085, step = 1601 (4.206 sec)\n",
      "INFO:tensorflow:global_step/sec: 23.5961\n",
      "INFO:tensorflow:loss = 878.5646, step = 1701 (4.238 sec)\n",
      "INFO:tensorflow:global_step/sec: 22.8459\n",
      "INFO:tensorflow:loss = 820.9492, step = 1801 (4.377 sec)\n",
      "INFO:tensorflow:global_step/sec: 22.3225\n",
      "INFO:tensorflow:loss = 796.3551, step = 1901 (4.480 sec)\n",
      "INFO:tensorflow:Saving checkpoints for 2000 into models/mnist/dnn_classifier/model.ckpt.\n",
      "INFO:tensorflow:Loss for final step: 850.4826.\n",
      ".......................................\n",
      "Experiment finished at 19:39:19\n",
      "\n",
      "Experiment elapsed time: 46.236096 seconds\n"
     ]
    },
    {
     "data": {
      "text/plain": [
       "<tensorflow.python.estimator.canned.dnn.DNNClassifier at 0x101b6ca90>"
      ]
     },
     "execution_count": 14,
     "metadata": {},
     "output_type": "execute_result"
    }
   ],
   "source": [
    "train_experiment(\n",
    "    training_steps=1000, \n",
    "    clean_start=False,\n",
    "    incremental=True,\n",
    "    run_config=run_config\n",
    ")"
   ]
  },
  {
   "cell_type": "markdown",
   "metadata": {},
   "source": [
    "As shown, the total number of training steps is 2000, starting from step 1000 (from the previous run)"
   ]
  },
  {
   "cell_type": "markdown",
   "metadata": {},
   "source": [
    "## Train: Steps vs Epochs\n",
    "\n",
    "While the steps refers to how many **data batchs** are needed for training, the epochs refers to how many times the **whole training data** needs to be used for training. \n",
    "\n",
    "While using epochs to define the number of training iteration is a conventional practice in machine learninig, however, when working with very large datasets to train Deep Learning models, batch-level training steps (rather than the whole-training-data-level epochs) are more practical."
   ]
  },
  {
   "cell_type": "code",
   "execution_count": 15,
   "metadata": {},
   "outputs": [],
   "source": [
    "num_epochs=10\n",
    "\n",
    "train_input_fn = tf.estimator.inputs.numpy_input_fn(\n",
    "            x={\"input_image\": train_data},\n",
    "            y=train_labels,\n",
    "            batch_size=BATCH_SIZE,\n",
    "            num_epochs=num_epochs,\n",
    "            shuffle=True)"
   ]
  },
  {
   "cell_type": "code",
   "execution_count": 17,
   "metadata": {},
   "outputs": [
    {
     "name": "stdout",
     "output_type": "stream",
     "text": [
      "Training data size: 55000\n",
      "Batch size: 1000\n",
      "Number of epochs (supplied): 10\n",
      "Number of training steps (expected): 550\n",
      "\n",
      "Removing previous artefacts...\n",
      "\n",
      "INFO:tensorflow:Using config: {'_save_checkpoints_secs': 600, '_global_id_in_cluster': 0, '_session_config': None, '_keep_checkpoint_max': 5, '_tf_random_seed': 19830610, '_task_type': 'worker', '_train_distribute': None, '_is_chief': True, '_cluster_spec': <tensorflow.python.training.server_lib.ClusterSpec object at 0x115519990>, '_model_dir': 'models/mnist/dnn_classifier', '_num_worker_replicas': 1, '_task_id': 0, '_log_step_count_steps': 100, '_master': '', '_save_checkpoints_steps': None, '_keep_checkpoint_every_n_hours': 10000, '_evaluation_master': '', '_service': None, '_device_fn': None, '_save_summary_steps': 100, '_num_ps_replicas': 0}\n",
      "\n",
      "Experiment started at 19:40:31\n",
      ".......................................\n",
      "INFO:tensorflow:Calling model_fn.\n",
      "INFO:tensorflow:Done calling model_fn.\n",
      "INFO:tensorflow:Create CheckpointSaverHook.\n",
      "INFO:tensorflow:Graph was finalized.\n",
      "INFO:tensorflow:Running local_init_op.\n",
      "INFO:tensorflow:Done running local_init_op.\n",
      "INFO:tensorflow:Saving checkpoints for 0 into models/mnist/dnn_classifier/model.ckpt.\n",
      "INFO:tensorflow:loss = 2896.8406, step = 1\n",
      "INFO:tensorflow:global_step/sec: 21.8603\n",
      "INFO:tensorflow:loss = 1357.3066, step = 101 (4.576 sec)\n",
      "INFO:tensorflow:global_step/sec: 23.4005\n",
      "INFO:tensorflow:loss = 1187.9381, step = 201 (4.274 sec)\n",
      "INFO:tensorflow:global_step/sec: 21.8909\n",
      "INFO:tensorflow:loss = 1051.331, step = 301 (4.568 sec)\n",
      "INFO:tensorflow:global_step/sec: 22.3673\n",
      "INFO:tensorflow:loss = 1109.4624, step = 401 (4.472 sec)\n",
      "INFO:tensorflow:global_step/sec: 23.1854\n",
      "INFO:tensorflow:loss = 972.6167, step = 501 (4.312 sec)\n",
      "INFO:tensorflow:Saving checkpoints for 550 into models/mnist/dnn_classifier/model.ckpt.\n",
      "INFO:tensorflow:Loss for final step: 977.3823.\n",
      ".......................................\n",
      "Experiment finished at 19:40:58\n",
      "\n",
      "Experiment elapsed time: 27.080533 seconds\n"
     ]
    },
    {
     "data": {
      "text/plain": [
       "<tensorflow.python.estimator.canned.dnn.DNNClassifier at 0x1157f7290>"
      ]
     },
     "execution_count": 17,
     "metadata": {},
     "output_type": "execute_result"
    }
   ],
   "source": [
    "expected_training_steps = (TRAIN_DATA_SIZE/BATCH_SIZE)*num_epochs\n",
    "\n",
    "print 'Training data size: {}'.format(TRAIN_DATA_SIZE) \n",
    "print 'Batch size: {}'.format(BATCH_SIZE) \n",
    "print 'Number of epochs (supplied): {}'.format(num_epochs) \n",
    "print 'Number of training steps (expected): {}'.format(expected_training_steps)\n",
    "print ''\n",
    "\n",
    "train_experiment(\n",
    "    training_steps=None, \n",
    "    clean_start=True,\n",
    "    incremental=True,\n",
    "    run_config=run_config\n",
    ")"
   ]
  },
  {
   "cell_type": "markdown",
   "metadata": {},
   "source": [
    "As expected, the training steps, given 10 epochs (for training data of 55000 records and batch size of 1000 records), is 501, which correspods to: ** (TRAIN_DATA_SIZE / BATCH_SIZE) * num_epochs)**\n",
    "\n",
    "Note that, if both num_epochs (in the train_input_fn) and steps (in estimator.train) are supplied, the model will stop on the earlier criteria."
   ]
  },
  {
   "cell_type": "code",
   "execution_count": 18,
   "metadata": {},
   "outputs": [
    {
     "name": "stdout",
     "output_type": "stream",
     "text": [
      "Removing previous artefacts...\n",
      "\n",
      "INFO:tensorflow:Using config: {'_save_checkpoints_secs': 600, '_global_id_in_cluster': 0, '_session_config': None, '_keep_checkpoint_max': 5, '_tf_random_seed': 19830610, '_task_type': 'worker', '_train_distribute': None, '_is_chief': True, '_cluster_spec': <tensorflow.python.training.server_lib.ClusterSpec object at 0x115519990>, '_model_dir': 'models/mnist/dnn_classifier', '_num_worker_replicas': 1, '_task_id': 0, '_log_step_count_steps': 100, '_master': '', '_save_checkpoints_steps': None, '_keep_checkpoint_every_n_hours': 10000, '_evaluation_master': '', '_service': None, '_device_fn': None, '_save_summary_steps': 100, '_num_ps_replicas': 0}\n",
      "\n",
      "Experiment started at 19:41:09\n",
      ".......................................\n",
      "INFO:tensorflow:Calling model_fn.\n",
      "INFO:tensorflow:Done calling model_fn.\n",
      "INFO:tensorflow:Create CheckpointSaverHook.\n",
      "INFO:tensorflow:Graph was finalized.\n",
      "INFO:tensorflow:Running local_init_op.\n",
      "INFO:tensorflow:Done running local_init_op.\n",
      "INFO:tensorflow:Saving checkpoints for 0 into models/mnist/dnn_classifier/model.ckpt.\n",
      "INFO:tensorflow:loss = 2963.3342, step = 1\n",
      "INFO:tensorflow:Saving checkpoints for 10 into models/mnist/dnn_classifier/model.ckpt.\n",
      "INFO:tensorflow:Loss for final step: 2204.9556.\n",
      ".......................................\n",
      "Experiment finished at 19:41:12\n",
      "\n",
      "Experiment elapsed time: 3.393673 seconds\n"
     ]
    },
    {
     "data": {
      "text/plain": [
       "<tensorflow.python.estimator.canned.dnn.DNNClassifier at 0x116a0de10>"
      ]
     },
     "execution_count": 18,
     "metadata": {},
     "output_type": "execute_result"
    }
   ],
   "source": [
    "train_input_fn = tf.estimator.inputs.numpy_input_fn(\n",
    "            x={\"input_image\": train_data},\n",
    "            y=train_labels,\n",
    "            batch_size=BATCH_SIZE,\n",
    "            num_epochs=1000, \n",
    "            shuffle=True)\n",
    "\n",
    "train_experiment(\n",
    "    training_steps=10, # the model will train for only 10 steps, ignoring the 1000 epochs\n",
    "    clean_start=True,\n",
    "    incremental=True,\n",
    "    run_config=run_config\n",
    ")"
   ]
  },
  {
   "cell_type": "code",
   "execution_count": 21,
   "metadata": {},
   "outputs": [
    {
     "name": "stdout",
     "output_type": "stream",
     "text": [
      "Removing previous artefacts...\n",
      "\n",
      "INFO:tensorflow:Using config: {'_save_checkpoints_secs': 600, '_global_id_in_cluster': 0, '_session_config': None, '_keep_checkpoint_max': 5, '_tf_random_seed': 19830610, '_task_type': 'worker', '_train_distribute': None, '_is_chief': True, '_cluster_spec': <tensorflow.python.training.server_lib.ClusterSpec object at 0x115519990>, '_model_dir': 'models/mnist/dnn_classifier', '_num_worker_replicas': 1, '_task_id': 0, '_log_step_count_steps': 100, '_master': '', '_save_checkpoints_steps': None, '_keep_checkpoint_every_n_hours': 10000, '_evaluation_master': '', '_service': None, '_device_fn': None, '_save_summary_steps': 100, '_num_ps_replicas': 0}\n",
      "\n",
      "Experiment started at 19:41:33\n",
      ".......................................\n",
      "INFO:tensorflow:Calling model_fn.\n",
      "INFO:tensorflow:Done calling model_fn.\n",
      "INFO:tensorflow:Create CheckpointSaverHook.\n",
      "INFO:tensorflow:Graph was finalized.\n",
      "INFO:tensorflow:Running local_init_op.\n",
      "INFO:tensorflow:Done running local_init_op.\n",
      "INFO:tensorflow:Saving checkpoints for 0 into models/mnist/dnn_classifier/model.ckpt.\n",
      "INFO:tensorflow:loss = 2978.5708, step = 1\n",
      "INFO:tensorflow:Saving checkpoints for 55 into models/mnist/dnn_classifier/model.ckpt.\n",
      "INFO:tensorflow:Loss for final step: 1558.0823.\n",
      ".......................................\n",
      "Experiment finished at 19:41:39\n",
      "\n",
      "Experiment elapsed time: 5.490137 seconds\n"
     ]
    },
    {
     "data": {
      "text/plain": [
       "<tensorflow.python.estimator.canned.dnn.DNNClassifier at 0x103814450>"
      ]
     },
     "execution_count": 21,
     "metadata": {},
     "output_type": "execute_result"
    }
   ],
   "source": [
    "train_input_fn = tf.estimator.inputs.numpy_input_fn(\n",
    "            x={\"input_image\": train_data},\n",
    "            y=train_labels,\n",
    "            batch_size=BATCH_SIZE,\n",
    "            num_epochs=1, # the model will train for only 1 epoch (55 steps), ignoring the 1000 steps\n",
    "            shuffle=True)\n",
    "\n",
    "train_experiment(\n",
    "    training_steps=10000000, \n",
    "    clean_start=True,\n",
    "    incremental=True,\n",
    "    run_config=run_config\n",
    ")"
   ]
  },
  {
   "cell_type": "markdown",
   "metadata": {},
   "source": [
    "## Train: Checkpoints\n",
    "\n",
    "By default, a checkpoint is saved every 600 secs (10mins). This behaviour is configured in the run_config passed to the estimator, using only one of the following parameters:\n",
    "\n",
    "* **save_checkpoints_secs**: Save checkpoints every this many seconds. \n",
    "* **save_checkpoints_steps**: Save checkpoints every this many steps.\n",
    "\n",
    "In addition, you can specify the number of the checkpoints to keep using **keep_checkpoint_max**  Defaults to 5 (that is, the 5 most recent checkpoint files are kept.) \n",
    "\n",
    "\n",
    "The following code trains the model for 1000 steps..."
   ]
  },
  {
   "cell_type": "code",
   "execution_count": 22,
   "metadata": {},
   "outputs": [],
   "source": [
    "os.environ['MODEL_DIR'] = model_dir"
   ]
  },
  {
   "cell_type": "code",
   "execution_count": 23,
   "metadata": {},
   "outputs": [
    {
     "name": "stdout",
     "output_type": "stream",
     "text": [
      "Removing previous artefacts...\n",
      "\n",
      "INFO:tensorflow:Using config: {'_save_checkpoints_secs': 600, '_global_id_in_cluster': 0, '_session_config': None, '_keep_checkpoint_max': 5, '_tf_random_seed': 19830610, '_task_type': 'worker', '_train_distribute': None, '_is_chief': True, '_cluster_spec': <tensorflow.python.training.server_lib.ClusterSpec object at 0x115519990>, '_model_dir': 'models/mnist/dnn_classifier', '_num_worker_replicas': 1, '_task_id': 0, '_log_step_count_steps': 100, '_master': '', '_save_checkpoints_steps': None, '_keep_checkpoint_every_n_hours': 10000, '_evaluation_master': '', '_service': None, '_device_fn': None, '_save_summary_steps': 100, '_num_ps_replicas': 0}\n",
      "\n",
      "Experiment started at 19:41:42\n",
      ".......................................\n",
      "INFO:tensorflow:Calling model_fn.\n",
      "INFO:tensorflow:Done calling model_fn.\n",
      "INFO:tensorflow:Create CheckpointSaverHook.\n",
      "INFO:tensorflow:Graph was finalized.\n",
      "INFO:tensorflow:Running local_init_op.\n",
      "INFO:tensorflow:Done running local_init_op.\n",
      "INFO:tensorflow:Saving checkpoints for 0 into models/mnist/dnn_classifier/model.ckpt.\n",
      "INFO:tensorflow:loss = 2940.7305, step = 1\n",
      "INFO:tensorflow:global_step/sec: 20.721\n",
      "INFO:tensorflow:loss = 1354.5634, step = 101 (4.827 sec)\n",
      "INFO:tensorflow:global_step/sec: 22.2622\n",
      "INFO:tensorflow:loss = 1165.2285, step = 201 (4.492 sec)\n",
      "INFO:tensorflow:global_step/sec: 22.658\n",
      "INFO:tensorflow:loss = 1144.4021, step = 301 (4.413 sec)\n",
      "INFO:tensorflow:global_step/sec: 20.3737\n",
      "INFO:tensorflow:loss = 964.5881, step = 401 (4.908 sec)\n",
      "INFO:tensorflow:global_step/sec: 23.2218\n",
      "INFO:tensorflow:loss = 1055.1179, step = 501 (4.306 sec)\n",
      "INFO:tensorflow:global_step/sec: 21.9193\n",
      "INFO:tensorflow:loss = 1022.2925, step = 601 (4.563 sec)\n",
      "INFO:tensorflow:global_step/sec: 20.9395\n",
      "INFO:tensorflow:loss = 954.8386, step = 701 (4.775 sec)\n",
      "INFO:tensorflow:global_step/sec: 22.2751\n",
      "INFO:tensorflow:loss = 936.3883, step = 801 (4.489 sec)\n",
      "INFO:tensorflow:global_step/sec: 22.371\n",
      "INFO:tensorflow:loss = 949.65436, step = 901 (4.471 sec)\n",
      "INFO:tensorflow:Saving checkpoints for 1000 into models/mnist/dnn_classifier/model.ckpt.\n",
      "INFO:tensorflow:Loss for final step: 894.0483.\n",
      ".......................................\n",
      "Experiment finished at 19:42:30\n",
      "\n",
      "Experiment elapsed time: 48.278226 seconds\n"
     ]
    },
    {
     "data": {
      "text/plain": [
       "<tensorflow.python.estimator.canned.dnn.DNNClassifier at 0x117371050>"
      ]
     },
     "execution_count": 23,
     "metadata": {},
     "output_type": "execute_result"
    }
   ],
   "source": [
    "train_input_fn = tf.estimator.inputs.numpy_input_fn(\n",
    "            x={\"input_image\": train_data},\n",
    "            y=train_labels,\n",
    "            batch_size=BATCH_SIZE,\n",
    "            num_epochs=None,\n",
    "            shuffle=True)\n",
    "\n",
    "train_experiment(\n",
    "    training_steps=1000, \n",
    "    clean_start=True,\n",
    "    incremental=True,\n",
    "    run_config=run_config # using the default checkpoints param values\n",
    ")"
   ]
  },
  {
   "cell_type": "code",
   "execution_count": 24,
   "metadata": {},
   "outputs": [
    {
     "name": "stdout",
     "output_type": "stream",
     "text": [
      "checkpoint\n",
      "graph.pbtxt\n",
      "model.ckpt-0.data-00000-of-00001\n",
      "model.ckpt-0.index\n",
      "model.ckpt-0.meta\n",
      "model.ckpt-1000.data-00000-of-00001\n",
      "model.ckpt-1000.index\n",
      "model.ckpt-1000.meta\n"
     ]
    }
   ],
   "source": [
    "%%bash\n",
    "\n",
    "ls ${MODEL_DIR}"
   ]
  },
  {
   "cell_type": "markdown",
   "metadata": {},
   "source": [
    "As shown, since the training (1000 iterasion) finished in less than 600 seconds (default value for **save_checkpoint_sec), only 2 checkpoints where saved: the initial one, and the final one.\n",
    "\n",
    "\n",
    "Now let's set **save_checkpoints_steps** in the run_config to 200, so that in 1000 steps, you produce 5 checkpoints"
   ]
  },
  {
   "cell_type": "code",
   "execution_count": 26,
   "metadata": {},
   "outputs": [],
   "source": [
    "run_config = tf.estimator.RunConfig(\n",
    "    tf_random_seed=19830610,\n",
    "    model_dir=model_dir,\n",
    "    save_checkpoints_steps=200, ## so in 1000 steps, you produce 5 checkpoints\n",
    "    save_checkpoints_secs=None\n",
    ")\n"
   ]
  },
  {
   "cell_type": "code",
   "execution_count": 32,
   "metadata": {},
   "outputs": [
    {
     "name": "stdout",
     "output_type": "stream",
     "text": [
      "Removing previous artefacts...\n",
      "\n",
      "INFO:tensorflow:Using config: {'_save_checkpoints_secs': None, '_global_id_in_cluster': 0, '_session_config': None, '_keep_checkpoint_max': 5, '_tf_random_seed': 19830610, '_task_type': 'worker', '_train_distribute': None, '_is_chief': True, '_cluster_spec': <tensorflow.python.training.server_lib.ClusterSpec object at 0x116236f50>, '_model_dir': 'models/mnist/dnn_classifier', '_num_worker_replicas': 1, '_task_id': 0, '_log_step_count_steps': 100, '_master': '', '_save_checkpoints_steps': 200, '_keep_checkpoint_every_n_hours': 10000, '_evaluation_master': '', '_service': None, '_device_fn': None, '_save_summary_steps': 100, '_num_ps_replicas': 0}\n",
      "\n",
      "Experiment started at 19:44:50\n",
      ".......................................\n",
      "INFO:tensorflow:Calling model_fn.\n",
      "INFO:tensorflow:Done calling model_fn.\n",
      "INFO:tensorflow:Create CheckpointSaverHook.\n",
      "INFO:tensorflow:Graph was finalized.\n",
      "INFO:tensorflow:Running local_init_op.\n",
      "INFO:tensorflow:Done running local_init_op.\n",
      "INFO:tensorflow:Saving checkpoints for 0 into models/mnist/dnn_classifier/model.ckpt.\n",
      "INFO:tensorflow:loss = 2996.912, step = 1\n",
      "INFO:tensorflow:global_step/sec: 19.0458\n",
      "INFO:tensorflow:loss = 1385.76, step = 101 (5.252 sec)\n",
      "INFO:tensorflow:Saving checkpoints for 200 into models/mnist/dnn_classifier/model.ckpt.\n",
      "INFO:tensorflow:global_step/sec: 20.3473\n",
      "INFO:tensorflow:loss = 1142.3607, step = 201 (4.915 sec)\n",
      "INFO:tensorflow:global_step/sec: 21.855\n",
      "INFO:tensorflow:loss = 1064.7462, step = 301 (4.576 sec)\n",
      "INFO:tensorflow:Saving checkpoints for 400 into models/mnist/dnn_classifier/model.ckpt.\n",
      "INFO:tensorflow:global_step/sec: 21.8565\n",
      "INFO:tensorflow:loss = 988.85034, step = 401 (4.575 sec)\n",
      "INFO:tensorflow:global_step/sec: 22.6477\n",
      "INFO:tensorflow:loss = 971.4055, step = 501 (4.415 sec)\n",
      "INFO:tensorflow:Saving checkpoints for 600 into models/mnist/dnn_classifier/model.ckpt.\n",
      "INFO:tensorflow:global_step/sec: 21.3532\n",
      "INFO:tensorflow:loss = 1020.4841, step = 601 (4.683 sec)\n",
      "INFO:tensorflow:global_step/sec: 23.3597\n",
      "INFO:tensorflow:loss = 984.6987, step = 701 (4.281 sec)\n",
      "INFO:tensorflow:Saving checkpoints for 800 into models/mnist/dnn_classifier/model.ckpt.\n",
      "INFO:tensorflow:global_step/sec: 21.5611\n",
      "INFO:tensorflow:loss = 914.38135, step = 801 (4.638 sec)\n",
      "INFO:tensorflow:global_step/sec: 22.5374\n",
      "INFO:tensorflow:loss = 848.0383, step = 901 (4.437 sec)\n",
      "INFO:tensorflow:Saving checkpoints for 1000 into models/mnist/dnn_classifier/model.ckpt.\n",
      "INFO:tensorflow:Loss for final step: 848.09534.\n",
      ".......................................\n",
      "Experiment finished at 19:45:38\n",
      "\n",
      "Experiment elapsed time: 48.653666 seconds\n"
     ]
    }
   ],
   "source": [
    "estimator=train_experiment(\n",
    "    training_steps=1000, \n",
    "    clean_start=True,\n",
    "    incremental=True,\n",
    "    run_config=run_config \n",
    ")"
   ]
  },
  {
   "cell_type": "code",
   "execution_count": 33,
   "metadata": {},
   "outputs": [
    {
     "name": "stdout",
     "output_type": "stream",
     "text": [
      "checkpoint\n",
      "graph.pbtxt\n",
      "model.ckpt-1000.data-00000-of-00001\n",
      "model.ckpt-1000.index\n",
      "model.ckpt-1000.meta\n",
      "model.ckpt-200.data-00000-of-00001\n",
      "model.ckpt-200.index\n",
      "model.ckpt-200.meta\n",
      "model.ckpt-400.data-00000-of-00001\n",
      "model.ckpt-400.index\n",
      "model.ckpt-400.meta\n",
      "model.ckpt-600.data-00000-of-00001\n",
      "model.ckpt-600.index\n",
      "model.ckpt-600.meta\n",
      "model.ckpt-800.data-00000-of-00001\n",
      "model.ckpt-800.index\n",
      "model.ckpt-800.meta\n"
     ]
    }
   ],
   "source": [
    "%%bash\n",
    "\n",
    "ls ${MODEL_DIR}"
   ]
  },
  {
   "cell_type": "markdown",
   "metadata": {},
   "source": [
    "Each checkpoint is labelled by the step number it was saved in."
   ]
  },
  {
   "cell_type": "markdown",
   "metadata": {},
   "source": [
    "## Evaluate: Epochs vs Steps\n",
    "* **batch_size** is set (which can be bigger than batch size of training, of the batch fits in memory)\n",
    "* **num_epochs** is usually set to 1 (as you want to evaluate your model on the entire evaluation data once)"
   ]
  },
  {
   "cell_type": "code",
   "execution_count": 34,
   "metadata": {},
   "outputs": [],
   "source": [
    "eval_input_fn = tf.estimator.inputs.numpy_input_fn(\n",
    "            x={\"input_image\": eval_data},\n",
    "            y=eval_labels,\n",
    "            batch_size=BATCH_SIZE,\n",
    "            num_epochs=1,\n",
    "            shuffle=False)"
   ]
  },
  {
   "cell_type": "markdown",
   "metadata": {},
   "source": [
    "For evaluation, if you set epochs to be 1, you can ignore the steps param (set it you None).\n",
    "\n",
    "\n",
    "By default, the latest checkpoint is evaluated"
   ]
  },
  {
   "cell_type": "code",
   "execution_count": 35,
   "metadata": {},
   "outputs": [
    {
     "name": "stdout",
     "output_type": "stream",
     "text": [
      "INFO:tensorflow:Calling model_fn.\n",
      "INFO:tensorflow:Done calling model_fn.\n",
      "INFO:tensorflow:Starting evaluation at 2018-09-14-19:45:39\n",
      "INFO:tensorflow:Graph was finalized.\n",
      "INFO:tensorflow:Restoring parameters from models/mnist/dnn_classifier/model.ckpt-1000\n",
      "INFO:tensorflow:Running local_init_op.\n",
      "INFO:tensorflow:Done running local_init_op.\n",
      "INFO:tensorflow:Finished evaluation at 2018-09-14-19:45:39\n",
      "INFO:tensorflow:Saving dict for global step 1000: accuracy = 0.632, average_loss = 1.3125578, global_step = 1000, loss = 1312.5579\n",
      "INFO:tensorflow:Saving 'checkpoint_path' summary for global step 1000: models/mnist/dnn_classifier/model.ckpt-1000\n"
     ]
    },
    {
     "data": {
      "text/plain": [
       "{'accuracy': 0.632,\n",
       " 'average_loss': 1.3125578,\n",
       " 'global_step': 1000,\n",
       " 'loss': 1312.5579}"
      ]
     },
     "execution_count": 35,
     "metadata": {},
     "output_type": "execute_result"
    }
   ],
   "source": [
    "estimator.evaluate(eval_input_fn, steps=None)"
   ]
  },
  {
   "cell_type": "markdown",
   "metadata": {},
   "source": [
    "This is equivalent to setting epochs to None and setting the **steps** to the number of batches in the dataset"
   ]
  },
  {
   "cell_type": "code",
   "execution_count": 36,
   "metadata": {},
   "outputs": [
    {
     "name": "stdout",
     "output_type": "stream",
     "text": [
      "INFO:tensorflow:Calling model_fn.\n",
      "INFO:tensorflow:Done calling model_fn.\n",
      "INFO:tensorflow:Starting evaluation at 2018-09-14-19:45:51\n",
      "INFO:tensorflow:Graph was finalized.\n",
      "INFO:tensorflow:Restoring parameters from models/mnist/dnn_classifier/model.ckpt-1000\n",
      "INFO:tensorflow:Running local_init_op.\n",
      "INFO:tensorflow:Done running local_init_op.\n",
      "INFO:tensorflow:Evaluation [1/10]\n",
      "INFO:tensorflow:Evaluation [2/10]\n",
      "INFO:tensorflow:Evaluation [3/10]\n",
      "INFO:tensorflow:Evaluation [4/10]\n",
      "INFO:tensorflow:Evaluation [5/10]\n",
      "INFO:tensorflow:Evaluation [6/10]\n",
      "INFO:tensorflow:Evaluation [7/10]\n",
      "INFO:tensorflow:Evaluation [8/10]\n",
      "INFO:tensorflow:Evaluation [9/10]\n",
      "INFO:tensorflow:Evaluation [10/10]\n",
      "INFO:tensorflow:Finished evaluation at 2018-09-14-19:45:51\n",
      "INFO:tensorflow:Saving dict for global step 1000: accuracy = 0.632, average_loss = 1.3125578, global_step = 1000, loss = 1312.5579\n",
      "INFO:tensorflow:Saving 'checkpoint_path' summary for global step 1000: models/mnist/dnn_classifier/model.ckpt-1000\n"
     ]
    },
    {
     "data": {
      "text/plain": [
       "{'accuracy': 0.632,\n",
       " 'average_loss': 1.3125578,\n",
       " 'global_step': 1000,\n",
       " 'loss': 1312.5579}"
      ]
     },
     "execution_count": 36,
     "metadata": {},
     "output_type": "execute_result"
    }
   ],
   "source": [
    "steps = EVAL_DATA_SIZE / BATCH_SIZE\n",
    "\n",
    "eval_input_fn = tf.estimator.inputs.numpy_input_fn(\n",
    "            x={\"input_image\": eval_data},\n",
    "            y=eval_labels,\n",
    "            batch_size=BATCH_SIZE,\n",
    "            num_epochs=None,\n",
    "            shuffle=False)\n",
    "\n",
    "estimator.evaluate(eval_input_fn, steps=steps)"
   ]
  },
  {
   "cell_type": "markdown",
   "metadata": {},
   "source": [
    "As shown, the same results are produced!"
   ]
  },
  {
   "cell_type": "markdown",
   "metadata": {},
   "source": [
    "## Export: Serving Input Receiver Function"
   ]
  },
  {
   "cell_type": "code",
   "execution_count": 37,
   "metadata": {},
   "outputs": [
    {
     "name": "stdout",
     "output_type": "stream",
     "text": [
      "INFO:tensorflow:Calling model_fn.\n",
      "INFO:tensorflow:Done calling model_fn.\n",
      "INFO:tensorflow:Signatures INCLUDED in export for Eval: None\n",
      "INFO:tensorflow:Signatures INCLUDED in export for Classify: None\n",
      "INFO:tensorflow:Signatures INCLUDED in export for Regress: None\n",
      "INFO:tensorflow:Signatures INCLUDED in export for Predict: ['predict']\n",
      "INFO:tensorflow:Signatures INCLUDED in export for Train: None\n",
      "INFO:tensorflow:Signatures EXCLUDED from export because they cannot be be served via TensorFlow Serving APIs:\n",
      "INFO:tensorflow:'serving_default' : Classification input must be a single string Tensor; got {'input_image': <tf.Tensor 'input_image:0' shape=(?, 784) dtype=float32>}\n",
      "INFO:tensorflow:'classification' : Classification input must be a single string Tensor; got {'input_image': <tf.Tensor 'input_image:0' shape=(?, 784) dtype=float32>}\n",
      "WARNING:tensorflow:Export includes no default signature!\n",
      "INFO:tensorflow:Restoring parameters from models/mnist/dnn_classifier/model.ckpt-1000\n",
      "INFO:tensorflow:Assets added to graph.\n",
      "INFO:tensorflow:No assets to write.\n",
      "INFO:tensorflow:SavedModel written to: models/mnist/dnn_classifier/export/temp-1536954375/saved_model.pb\n"
     ]
    },
    {
     "data": {
      "text/plain": [
       "'models/mnist/dnn_classifier/export/1536954375'"
      ]
     },
     "execution_count": 37,
     "metadata": {},
     "output_type": "execute_result"
    }
   ],
   "source": [
    "def make_serving_input_receiver_fn():\n",
    "    inputs = {'input_image': tf.placeholder(shape=[None,784], dtype=tf.float32, name='input_image')}\n",
    "    return tf.estimator.export.build_raw_serving_input_receiver_fn(inputs)\n",
    "\n",
    "export_dir = os.path.join(model_dir, 'export')\n",
    "\n",
    "if tf.gfile.Exists(export_dir):\n",
    "    tf.gfile.DeleteRecursively(export_dir)\n",
    "        \n",
    "estimator.export_savedmodel(\n",
    "    export_dir_base=export_dir,\n",
    "    serving_input_receiver_fn=make_serving_input_receiver_fn()\n",
    ")"
   ]
  },
  {
   "cell_type": "code",
   "execution_count": 38,
   "metadata": {},
   "outputs": [
    {
     "name": "stdout",
     "output_type": "stream",
     "text": [
      "models/mnist/dnn_classifier/export/1536954375\n",
      "saved_model.pb\n",
      "variables\n",
      "\n",
      "MetaGraphDef with tag-set: 'serve' contains the following SignatureDefs:\n",
      "\n",
      "signature_def['predict']:\n",
      "  The given SavedModel SignatureDef contains the following input(s):\n",
      "    inputs['input_image'] tensor_info:\n",
      "        dtype: DT_FLOAT\n",
      "        shape: (-1, 784)\n",
      "        name: input_image:0\n",
      "  The given SavedModel SignatureDef contains the following output(s):\n",
      "    outputs['class_ids'] tensor_info:\n",
      "        dtype: DT_INT64\n",
      "        shape: (-1, 1)\n",
      "        name: dnn/head/predictions/ExpandDims:0\n",
      "    outputs['classes'] tensor_info:\n",
      "        dtype: DT_STRING\n",
      "        shape: (-1, 1)\n",
      "        name: dnn/head/predictions/str_classes:0\n",
      "    outputs['logits'] tensor_info:\n",
      "        dtype: DT_FLOAT\n",
      "        shape: (-1, 10)\n",
      "        name: dnn/logits/BiasAdd:0\n",
      "    outputs['probabilities'] tensor_info:\n",
      "        dtype: DT_FLOAT\n",
      "        shape: (-1, 10)\n",
      "        name: dnn/head/predictions/probabilities:0\n",
      "  Method name is: tensorflow/serving/predict\n"
     ]
    }
   ],
   "source": [
    "%%bash\n",
    "\n",
    "saved_models_base=${MODEL_DIR}/export/\n",
    "saved_model_dir=${saved_models_base}$(ls ${saved_models_base} | tail -n 1)\n",
    "echo ${saved_model_dir}\n",
    "ls ${saved_model_dir}\n",
    "saved_model_cli show --dir=${saved_model_dir} --all"
   ]
  },
  {
   "cell_type": "markdown",
   "metadata": {},
   "source": [
    "## Intertwining Training & Evalution\n",
    "* Use TrainSpec & EvalSpec with tf.estimator.train_and_evaluate()\n",
    "* In TrainSpec:\n",
    "    * **num_epochs** in the **train_input_fn** is ignored. (Set it to None)\n",
    "    * You need to set **max_steps** param, otherwise it will train forever\n",
    "* In EvalSpec (to evaluate the model using the whole evaluation data once):\n",
    "    * **num_epochs** is set to 1 in the **eval_input_fn**\n",
    "    * **steps** param is set to None\n",
    "* **Evaluation** occurs when a **new checkpoint** is saved\n",
    "* Checkpoints saving frequency is configures in run_config (using save_checkpoints_steps or save_checkpoints_secs)\n",
    "* You can set minimum amount of time between two evaluation, using **throttle_secs** in EvalSpec. For example, if **throttle_secs** is set to 60sec, this means that the following evaluation will only occure after 60sec from the previous evaluation, even if **save_checkpoins_sec** is set to 10.\n",
    "* If **throttle_secs** is set to 0, then evaluation will occure each time a checkpoint is saved, regardless the time difference between two consequtive checkpoints"
   ]
  },
  {
   "cell_type": "code",
   "execution_count": 150,
   "metadata": {},
   "outputs": [],
   "source": [
    "def train_and_evaluate_experiment(params, run_config):\n",
    "    \n",
    "    # TrainSpec ####################################\n",
    "    train_input_fn = tf.estimator.inputs.numpy_input_fn(\n",
    "            x={\"input_image\": train_data},\n",
    "            y=train_labels,\n",
    "            batch_size=params.batch_size,\n",
    "            num_epochs=None,\n",
    "            shuffle=True\n",
    "    )\n",
    "    \n",
    "    train_spec = tf.estimator.TrainSpec(\n",
    "        input_fn = train_input_fn,\n",
    "        max_steps=params.traning_steps\n",
    "    )\n",
    "    ###############################################\n",
    "    \n",
    "    \n",
    "    # EvalSpec ####################################\n",
    "    eval_input_fn = tf.estimator.inputs.numpy_input_fn(\n",
    "            x={\"input_image\": eval_data},\n",
    "            y=eval_labels,\n",
    "            batch_size=params.batch_size,\n",
    "            num_epochs=1,\n",
    "            shuffle=False\n",
    "    )\n",
    "\n",
    "    eval_spec = tf.estimator.EvalSpec(\n",
    "        name=datetime.utcnow().strftime(\"%H%M%S\"),\n",
    "        input_fn = eval_input_fn,\n",
    "        steps=None,\n",
    "        start_delay_secs=0,\n",
    "        throttle_secs=params.eval_throttle_secs\n",
    "    )\n",
    "    \n",
    "    ###############################################\n",
    "\n",
    "    tf.logging.set_verbosity(tf.logging.INFO)\n",
    "    \n",
    "    if params.clean_start:\n",
    "        if tf.gfile.Exists(run_config.model_dir):\n",
    "            print(\"Removing previous artefacts...\")\n",
    "            tf.gfile.DeleteRecursively(run_config.model_dir)\n",
    "            \n",
    "\n",
    "    print ''\n",
    "    estimator = create_estimator(run_config)\n",
    "    print ''\n",
    "    \n",
    "    time_start = datetime.utcnow() \n",
    "    print(\"Experiment started at {}\".format(time_start.strftime(\"%H:%M:%S\")))\n",
    "    print(\".......................................\") \n",
    "\n",
    "    tf.estimator.train_and_evaluate(\n",
    "        estimator=estimator,\n",
    "        train_spec=train_spec, \n",
    "        eval_spec=eval_spec\n",
    "    )\n",
    "\n",
    "    time_end = datetime.utcnow() \n",
    "    print(\".......................................\")\n",
    "    print(\"Experiment finished at {}\".format(time_end.strftime(\"%H:%M:%S\")))\n",
    "    print(\"\")\n",
    "    time_elapsed = time_end - time_start\n",
    "    print(\"Experiment elapsed time: {} seconds\".format(time_elapsed.total_seconds()))\n",
    "    \n",
    "    return estimator\n"
   ]
  },
  {
   "cell_type": "markdown",
   "metadata": {},
   "source": [
    "Now let's try the following:\n",
    "* Training for 1000 steps (set **num_epochs** to None and **max_steps** to 1000).\n",
    "* Save a checkpoint after each 200 steps (set **save_checkpoints_steps** to 200).\n",
    "* Evaluate when each checkpoint is produced (set **eval_throttle_secs** to 0). That is, 5 evaluations in total\n",
    "* Keep only the latest 3 checkpoints out of the 5 checkpoints to be saved (set **keep_checkpoint_max** to 3)\n",
    "* When evaluating, use the whole eval_data once (set **num_epochs** to 1 and **steps** to None).\n"
   ]
  },
  {
   "cell_type": "code",
   "execution_count": 151,
   "metadata": {},
   "outputs": [],
   "source": [
    "params  = tf.contrib.training.HParams(\n",
    "    batch_size=BATCH_SIZE,\n",
    "    traning_steps=1000,\n",
    "    eval_throttle_secs=0,\n",
    "    clean_start=True,\n",
    ")\n",
    "\n",
    "run_config = tf.estimator.RunConfig(\n",
    "    tf_random_seed=19830610,\n",
    "    save_checkpoints_steps=200,\n",
    "    keep_checkpoint_max=3,\n",
    "    model_dir=model_dir\n",
    ")"
   ]
  },
  {
   "cell_type": "code",
   "execution_count": 152,
   "metadata": {},
   "outputs": [
    {
     "name": "stdout",
     "output_type": "stream",
     "text": [
      "Removing previous artefacts...\n",
      "\n",
      "INFO:tensorflow:Using config: {'_save_checkpoints_secs': None, '_global_id_in_cluster': 0, '_session_config': None, '_keep_checkpoint_max': 3, '_tf_random_seed': 19830610, '_task_type': 'worker', '_train_distribute': None, '_is_chief': True, '_cluster_spec': <tensorflow.python.training.server_lib.ClusterSpec object at 0x115bc7510>, '_model_dir': 'models/mnist/dnn_classifier', '_num_worker_replicas': 1, '_task_id': 0, '_log_step_count_steps': 100, '_master': '', '_save_checkpoints_steps': 200, '_keep_checkpoint_every_n_hours': 10000, '_evaluation_master': '', '_service': None, '_device_fn': None, '_save_summary_steps': 100, '_num_ps_replicas': 0}\n",
      "\n",
      "Experiment started at 23:23:13\n",
      ".......................................\n",
      "INFO:tensorflow:Running training and evaluation locally (non-distributed).\n",
      "INFO:tensorflow:Start train and evaluate loop. The evaluate will happen after every checkpoint. Checkpoint frequency is determined based on RunConfig arguments: save_checkpoints_steps 200 or save_checkpoints_secs None.\n",
      "INFO:tensorflow:Calling model_fn.\n",
      "INFO:tensorflow:Done calling model_fn.\n",
      "INFO:tensorflow:Create CheckpointSaverHook.\n",
      "INFO:tensorflow:Graph was finalized.\n",
      "INFO:tensorflow:Running local_init_op.\n",
      "INFO:tensorflow:Done running local_init_op.\n",
      "INFO:tensorflow:Saving checkpoints for 0 into models/mnist/dnn_classifier/model.ckpt.\n",
      "INFO:tensorflow:loss = 2955.244, step = 1\n",
      "INFO:tensorflow:global_step/sec: 17.7976\n",
      "INFO:tensorflow:loss = 1428.3188, step = 101 (5.620 sec)\n",
      "INFO:tensorflow:Saving checkpoints for 200 into models/mnist/dnn_classifier/model.ckpt.\n",
      "INFO:tensorflow:Calling model_fn.\n",
      "INFO:tensorflow:Done calling model_fn.\n",
      "INFO:tensorflow:Starting evaluation at 2018-09-14-23:23:27\n",
      "INFO:tensorflow:Graph was finalized.\n",
      "INFO:tensorflow:Restoring parameters from models/mnist/dnn_classifier/model.ckpt-200\n",
      "INFO:tensorflow:Running local_init_op.\n",
      "INFO:tensorflow:Done running local_init_op.\n",
      "INFO:tensorflow:Finished evaluation at 2018-09-14-23:23:27\n",
      "INFO:tensorflow:Saving dict for global step 200: accuracy = 0.5657, average_loss = 2.8629632, global_step = 200, loss = 2862.9631\n",
      "INFO:tensorflow:Saving 'checkpoint_path' summary for global step 200: models/mnist/dnn_classifier/model.ckpt-200\n",
      "INFO:tensorflow:global_step/sec: 17.6858\n",
      "INFO:tensorflow:loss = 1143.1185, step = 201 (5.655 sec)\n",
      "INFO:tensorflow:global_step/sec: 22.3763\n",
      "INFO:tensorflow:loss = 1132.8508, step = 301 (4.469 sec)\n",
      "INFO:tensorflow:Saving checkpoints for 400 into models/mnist/dnn_classifier/model.ckpt.\n",
      "INFO:tensorflow:Calling model_fn.\n",
      "INFO:tensorflow:Done calling model_fn.\n",
      "INFO:tensorflow:Starting evaluation at 2018-09-14-23:23:37\n",
      "INFO:tensorflow:Graph was finalized.\n",
      "INFO:tensorflow:Restoring parameters from models/mnist/dnn_classifier/model.ckpt-400\n",
      "INFO:tensorflow:Running local_init_op.\n",
      "INFO:tensorflow:Done running local_init_op.\n",
      "INFO:tensorflow:Finished evaluation at 2018-09-14-23:23:37\n",
      "INFO:tensorflow:Saving dict for global step 400: accuracy = 0.5814, average_loss = 1.869849, global_step = 400, loss = 1869.849\n",
      "INFO:tensorflow:Saving 'checkpoint_path' summary for global step 400: models/mnist/dnn_classifier/model.ckpt-400\n",
      "INFO:tensorflow:global_step/sec: 18.8461\n",
      "INFO:tensorflow:loss = 1008.8702, step = 401 (5.306 sec)\n",
      "INFO:tensorflow:global_step/sec: 23.5625\n",
      "INFO:tensorflow:loss = 1014.6574, step = 501 (4.244 sec)\n",
      "INFO:tensorflow:Saving checkpoints for 600 into models/mnist/dnn_classifier/model.ckpt.\n",
      "INFO:tensorflow:Calling model_fn.\n",
      "INFO:tensorflow:Done calling model_fn.\n",
      "INFO:tensorflow:Starting evaluation at 2018-09-14-23:23:46\n",
      "INFO:tensorflow:Graph was finalized.\n",
      "INFO:tensorflow:Restoring parameters from models/mnist/dnn_classifier/model.ckpt-600\n",
      "INFO:tensorflow:Running local_init_op.\n",
      "INFO:tensorflow:Done running local_init_op.\n",
      "INFO:tensorflow:Finished evaluation at 2018-09-14-23:23:47\n",
      "INFO:tensorflow:Saving dict for global step 600: accuracy = 0.6567, average_loss = 1.3958219, global_step = 600, loss = 1395.8219\n",
      "INFO:tensorflow:Saving 'checkpoint_path' summary for global step 600: models/mnist/dnn_classifier/model.ckpt-600\n",
      "INFO:tensorflow:global_step/sec: 17.9772\n",
      "INFO:tensorflow:loss = 949.17456, step = 601 (5.563 sec)\n",
      "INFO:tensorflow:global_step/sec: 21.2223\n",
      "INFO:tensorflow:loss = 980.3596, step = 701 (4.711 sec)\n",
      "INFO:tensorflow:Saving checkpoints for 800 into models/mnist/dnn_classifier/model.ckpt.\n",
      "INFO:tensorflow:Calling model_fn.\n",
      "INFO:tensorflow:Done calling model_fn.\n",
      "INFO:tensorflow:Starting evaluation at 2018-09-14-23:23:57\n",
      "INFO:tensorflow:Graph was finalized.\n",
      "INFO:tensorflow:Restoring parameters from models/mnist/dnn_classifier/model.ckpt-800\n",
      "INFO:tensorflow:Running local_init_op.\n",
      "INFO:tensorflow:Done running local_init_op.\n",
      "INFO:tensorflow:Finished evaluation at 2018-09-14-23:23:58\n",
      "INFO:tensorflow:Saving dict for global step 800: accuracy = 0.666, average_loss = 1.1837938, global_step = 800, loss = 1183.7937\n",
      "INFO:tensorflow:Saving 'checkpoint_path' summary for global step 800: models/mnist/dnn_classifier/model.ckpt-800\n",
      "INFO:tensorflow:global_step/sec: 15.8313\n",
      "INFO:tensorflow:loss = 971.6386, step = 801 (6.316 sec)\n",
      "INFO:tensorflow:global_step/sec: 19.8791\n",
      "INFO:tensorflow:loss = 912.204, step = 901 (5.031 sec)\n",
      "INFO:tensorflow:Saving checkpoints for 1000 into models/mnist/dnn_classifier/model.ckpt.\n",
      "INFO:tensorflow:Calling model_fn.\n",
      "INFO:tensorflow:Done calling model_fn.\n",
      "INFO:tensorflow:Starting evaluation at 2018-09-14-23:24:08\n",
      "INFO:tensorflow:Graph was finalized.\n",
      "INFO:tensorflow:Restoring parameters from models/mnist/dnn_classifier/model.ckpt-1000\n",
      "INFO:tensorflow:Running local_init_op.\n",
      "INFO:tensorflow:Done running local_init_op.\n",
      "INFO:tensorflow:Finished evaluation at 2018-09-14-23:24:09\n",
      "INFO:tensorflow:Saving dict for global step 1000: accuracy = 0.6857, average_loss = 0.9470694, global_step = 1000, loss = 947.06946\n",
      "INFO:tensorflow:Saving 'checkpoint_path' summary for global step 1000: models/mnist/dnn_classifier/model.ckpt-1000\n",
      "INFO:tensorflow:Loss for final step: 916.8694.\n",
      ".......................................\n",
      "Experiment finished at 23:24:09\n",
      "\n",
      "Experiment elapsed time: 55.450516 seconds\n"
     ]
    },
    {
     "data": {
      "text/plain": [
       "<tensorflow.python.estimator.canned.dnn.DNNClassifier at 0x115599910>"
      ]
     },
     "execution_count": 152,
     "metadata": {},
     "output_type": "execute_result"
    }
   ],
   "source": [
    "train_and_evaluate_experiment(params, run_config)"
   ]
  },
  {
   "cell_type": "code",
   "execution_count": 45,
   "metadata": {},
   "outputs": [
    {
     "name": "stdout",
     "output_type": "stream",
     "text": [
      "checkpoint\n",
      "graph.pbtxt\n",
      "model.ckpt-1000.data-00000-of-00001\n",
      "model.ckpt-1000.index\n",
      "model.ckpt-1000.meta\n",
      "model.ckpt-600.data-00000-of-00001\n",
      "model.ckpt-600.index\n",
      "model.ckpt-600.meta\n",
      "model.ckpt-800.data-00000-of-00001\n",
      "model.ckpt-800.index\n",
      "model.ckpt-800.meta\n"
     ]
    }
   ],
   "source": [
    "%%bash\n",
    "\n",
    "ls ${MODEL_DIR}"
   ]
  },
  {
   "cell_type": "markdown",
   "metadata": {},
   "source": [
    "In order to train the model for **num_epochs**, you need to do the following:\n",
    "* the training data size needs to be known before training\n",
    "* compute the training steps as: **(TRAIN_DATA_SIZE / BATCH_SIZE) * num_epochs**\n",
    "* In TrainSpec, **max_step** to the computed value\n",
    "* set **num_epochs** in the train_input_fn to None"
   ]
  },
  {
   "cell_type": "code",
   "execution_count": 129,
   "metadata": {},
   "outputs": [
    {
     "name": "stdout",
     "output_type": "stream",
     "text": [
      "Training data size: 55000\n",
      "Batch size: 1000\n",
      "Number of epochs (supplied): 1000\n",
      "Number of training steps (computed): 550\n",
      "\n",
      "Removing previous artefacts...\n",
      "\n",
      "INFO:tensorflow:Using config: {'_save_checkpoints_secs': None, '_global_id_in_cluster': 0, '_session_config': None, '_keep_checkpoint_max': 5, '_tf_random_seed': 19830610, '_task_type': 'worker', '_train_distribute': None, '_is_chief': True, '_cluster_spec': <tensorflow.python.training.server_lib.ClusterSpec object at 0x1172d27d0>, '_model_dir': 'models/mnist/dnn_classifier', '_num_worker_replicas': 1, '_task_id': 0, '_log_step_count_steps': 100, '_master': '', '_save_checkpoints_steps': 250, '_keep_checkpoint_every_n_hours': 10000, '_evaluation_master': '', '_service': None, '_device_fn': None, '_save_summary_steps': 100, '_num_ps_replicas': 0}\n",
      "\n",
      "Experiment started at 23:14:16\n",
      ".......................................\n",
      "INFO:tensorflow:Running training and evaluation locally (non-distributed).\n",
      "INFO:tensorflow:Start train and evaluate loop. The evaluate will happen after every checkpoint. Checkpoint frequency is determined based on RunConfig arguments: save_checkpoints_steps 250 or save_checkpoints_secs None.\n",
      "INFO:tensorflow:Calling model_fn.\n",
      "INFO:tensorflow:Done calling model_fn.\n",
      "INFO:tensorflow:Create CheckpointSaverHook.\n",
      "INFO:tensorflow:Graph was finalized.\n",
      "INFO:tensorflow:Running local_init_op.\n",
      "INFO:tensorflow:Done running local_init_op.\n",
      "INFO:tensorflow:Saving checkpoints for 0 into models/mnist/dnn_classifier/model.ckpt.\n",
      "INFO:tensorflow:loss = 2975.6807, step = 1\n",
      "INFO:tensorflow:global_step/sec: 18.091\n",
      "INFO:tensorflow:loss = 1351.0808, step = 101 (5.530 sec)\n",
      "INFO:tensorflow:global_step/sec: 21.1546\n",
      "INFO:tensorflow:loss = 1191.3679, step = 201 (4.727 sec)\n",
      "INFO:tensorflow:Saving checkpoints for 250 into models/mnist/dnn_classifier/model.ckpt.\n",
      "INFO:tensorflow:Calling model_fn.\n",
      "INFO:tensorflow:Done calling model_fn.\n",
      "INFO:tensorflow:Starting evaluation at 2018-09-14-23:14:32\n",
      "INFO:tensorflow:Graph was finalized.\n",
      "INFO:tensorflow:Restoring parameters from models/mnist/dnn_classifier/model.ckpt-250\n",
      "INFO:tensorflow:Running local_init_op.\n",
      "INFO:tensorflow:Done running local_init_op.\n",
      "INFO:tensorflow:Finished evaluation at 2018-09-14-23:14:33\n",
      "INFO:tensorflow:Saving dict for global step 250: accuracy = 0.4095, average_loss = 4.248891, global_step = 250, loss = 4248.891\n",
      "INFO:tensorflow:Saving 'checkpoint_path' summary for global step 250: models/mnist/dnn_classifier/model.ckpt-250\n",
      "INFO:tensorflow:global_step/sec: 16.6004\n",
      "INFO:tensorflow:loss = 1114.352, step = 301 (6.025 sec)\n",
      "INFO:tensorflow:global_step/sec: 22.3679\n",
      "INFO:tensorflow:loss = 1027.8711, step = 401 (4.470 sec)\n",
      "INFO:tensorflow:Saving checkpoints for 500 into models/mnist/dnn_classifier/model.ckpt.\n",
      "INFO:tensorflow:Calling model_fn.\n",
      "INFO:tensorflow:Done calling model_fn.\n",
      "INFO:tensorflow:Starting evaluation at 2018-09-14-23:14:45\n",
      "INFO:tensorflow:Graph was finalized.\n",
      "INFO:tensorflow:Restoring parameters from models/mnist/dnn_classifier/model.ckpt-500\n",
      "INFO:tensorflow:Running local_init_op.\n",
      "INFO:tensorflow:Done running local_init_op.\n",
      "INFO:tensorflow:Finished evaluation at 2018-09-14-23:14:45\n",
      "INFO:tensorflow:Saving dict for global step 500: accuracy = 0.553, average_loss = 2.509119, global_step = 500, loss = 2509.1191\n",
      "INFO:tensorflow:Saving 'checkpoint_path' summary for global step 500: models/mnist/dnn_classifier/model.ckpt-500\n",
      "INFO:tensorflow:global_step/sec: 18.0584\n",
      "INFO:tensorflow:loss = 1003.1024, step = 501 (5.538 sec)\n",
      "INFO:tensorflow:Saving checkpoints for 550 into models/mnist/dnn_classifier/model.ckpt.\n",
      "INFO:tensorflow:Calling model_fn.\n",
      "INFO:tensorflow:Done calling model_fn.\n",
      "INFO:tensorflow:Starting evaluation at 2018-09-14-23:14:48\n",
      "INFO:tensorflow:Graph was finalized.\n",
      "INFO:tensorflow:Restoring parameters from models/mnist/dnn_classifier/model.ckpt-550\n",
      "INFO:tensorflow:Running local_init_op.\n",
      "INFO:tensorflow:Done running local_init_op.\n",
      "INFO:tensorflow:Finished evaluation at 2018-09-14-23:14:48\n",
      "INFO:tensorflow:Saving dict for global step 550: accuracy = 0.5658, average_loss = 2.18896, global_step = 550, loss = 2188.96\n",
      "INFO:tensorflow:Saving 'checkpoint_path' summary for global step 550: models/mnist/dnn_classifier/model.ckpt-550\n",
      "INFO:tensorflow:Loss for final step: 994.03375.\n",
      ".......................................\n",
      "Experiment finished at 23:14:48\n",
      "\n",
      "Experiment elapsed time: 31.552972 seconds\n"
     ]
    },
    {
     "data": {
      "text/plain": [
       "<tensorflow.python.estimator.canned.dnn.DNNClassifier at 0x116b35c90>"
      ]
     },
     "execution_count": 129,
     "metadata": {},
     "output_type": "execute_result"
    }
   ],
   "source": [
    "num_epochs = 10\n",
    "computed_traning_steps = (TRAIN_DATA_SIZE/BATCH_SIZE)*num_epochs\n",
    "\n",
    "print 'Training data size: {}'.format(TRAIN_DATA_SIZE) \n",
    "print 'Batch size: {}'.format(BATCH_SIZE) \n",
    "print 'Number of epochs (supplied): {}'.format(BATCH_SIZE) \n",
    "print 'Number of training steps (computed): {}'.format(computed_traning_steps)\n",
    "print ''\n",
    "\n",
    "\n",
    "params = tf.contrib.training.HParams(\n",
    "    batch_size=BATCH_SIZE,\n",
    "    traning_steps=computed_traning_steps,\n",
    "    eval_throttle_secs=0,\n",
    "    clean_start=True,\n",
    ")\n",
    "\n",
    "run_config = tf.estimator.RunConfig(\n",
    "    tf_random_seed=19830610,\n",
    "    save_checkpoints_steps=250,\n",
    "    model_dir=model_dir\n",
    ")\n",
    "\n",
    "train_and_evaluate_experiment(params, run_config)"
   ]
  },
  {
   "cell_type": "markdown",
   "metadata": {},
   "source": [
    "Note that, since we set **save_checkpoint_steps** to 250, and we have 550 steps, we get 4 checkpoints (and corresponding evaluations):\n",
    "* in the beginning\n",
    "* at step 250\n",
    "* at step 500\n",
    "* in the end (at step 550)"
   ]
  },
  {
   "cell_type": "code",
   "execution_count": 51,
   "metadata": {},
   "outputs": [
    {
     "name": "stdout",
     "output_type": "stream",
     "text": [
      "checkpoint\n",
      "graph.pbtxt\n",
      "model.ckpt-0.data-00000-of-00001\n",
      "model.ckpt-0.index\n",
      "model.ckpt-0.meta\n",
      "model.ckpt-250.data-00000-of-00001\n",
      "model.ckpt-250.index\n",
      "model.ckpt-250.meta\n",
      "model.ckpt-500.data-00000-of-00001\n",
      "model.ckpt-500.index\n",
      "model.ckpt-500.meta\n",
      "model.ckpt-550.data-00000-of-00001\n",
      "model.ckpt-550.index\n",
      "model.ckpt-550.meta\n"
     ]
    }
   ],
   "source": [
    "%%bash\n",
    "\n",
    "ls ${MODEL_DIR}"
   ]
  },
  {
   "cell_type": "markdown",
   "metadata": {},
   "source": [
    "## Train, Evaluate, and Export"
   ]
  },
  {
   "cell_type": "code",
   "execution_count": 162,
   "metadata": {},
   "outputs": [],
   "source": [
    "def train_evaluate_export_experiment(params, run_config, exporter):\n",
    "    \n",
    "    # TrainSpec ####################################\n",
    "    train_input_fn = tf.estimator.inputs.numpy_input_fn(\n",
    "            x={\"input_image\": train_data},\n",
    "            y=train_labels,\n",
    "            batch_size=params.batch_size,\n",
    "            num_epochs=None,\n",
    "            shuffle=True\n",
    "    )\n",
    "    \n",
    "    train_spec = tf.estimator.TrainSpec(\n",
    "        input_fn = train_input_fn,\n",
    "        max_steps=params.traning_steps\n",
    "    )\n",
    "    ###############################################\n",
    "\n",
    "    \n",
    "    # EvalSpec ####################################\n",
    "\n",
    "    eval_input_fn = tf.estimator.inputs.numpy_input_fn(\n",
    "            x={\"input_image\": eval_data},\n",
    "            y=eval_labels,\n",
    "            batch_size=params.batch_size,\n",
    "            num_epochs=1,\n",
    "            shuffle=False\n",
    "    )\n",
    "    \n",
    "    eval_spec = tf.estimator.EvalSpec(\n",
    "        name=params.eval_name,\n",
    "        input_fn=eval_input_fn,\n",
    "        exporters=[exporter],\n",
    "        steps=None,\n",
    "        start_delay_secs=0,\n",
    "        throttle_secs=params.eval_throttle_secs\n",
    "    )\n",
    "    \n",
    "    ###############################################\n",
    "\n",
    "    tf.logging.set_verbosity(tf.logging.INFO)\n",
    "    \n",
    "    if params.clean_start:\n",
    "        if tf.gfile.Exists(run_config.model_dir):\n",
    "            print(\"Removing previous artefacts...\")\n",
    "            tf.gfile.DeleteRecursively(run_config.model_dir)\n",
    "            \n",
    "\n",
    "    print ''\n",
    "    estimator = create_estimator(run_config)\n",
    "    print ''\n",
    "    \n",
    "    time_start = datetime.utcnow() \n",
    "    print(\"Experiment started at {}\".format(time_start.strftime(\"%H:%M:%S\")))\n",
    "    print(\".......................................\") \n",
    "\n",
    "    tf.estimator.train_and_evaluate(\n",
    "        estimator=estimator,\n",
    "        train_spec=train_spec, \n",
    "        eval_spec=eval_spec\n",
    "    )\n",
    "\n",
    "    time_end = datetime.utcnow() \n",
    "    print(\".......................................\")\n",
    "    print(\"Experiment finished at {}\".format(time_end.strftime(\"%H:%M:%S\")))\n",
    "    print(\"\")\n",
    "    time_elapsed = time_end - time_start\n",
    "    print(\"Experiment elapsed time: {} seconds\".format(time_elapsed.total_seconds()))\n",
    "    \n",
    "    return estimator\n"
   ]
  },
  {
   "cell_type": "markdown",
   "metadata": {},
   "source": [
    "**Latest exporter** exports a model after each evaluation. \n",
    "\n",
    "You can specify the maximum number of exported models to keep using **exports_to_keep** param"
   ]
  },
  {
   "cell_type": "code",
   "execution_count": 163,
   "metadata": {},
   "outputs": [
    {
     "name": "stdout",
     "output_type": "stream",
     "text": [
      "Removing previous artefacts...\n",
      "\n",
      "INFO:tensorflow:Using config: {'_save_checkpoints_secs': None, '_global_id_in_cluster': 0, '_session_config': None, '_keep_checkpoint_max': 5, '_tf_random_seed': 19830610, '_task_type': 'worker', '_train_distribute': None, '_is_chief': True, '_cluster_spec': <tensorflow.python.training.server_lib.ClusterSpec object at 0x116a29510>, '_model_dir': 'models/mnist/dnn_classifier', '_num_worker_replicas': 1, '_task_id': 0, '_log_step_count_steps': 100, '_master': '', '_save_checkpoints_steps': 250, '_keep_checkpoint_every_n_hours': 10000, '_evaluation_master': '', '_service': None, '_device_fn': None, '_save_summary_steps': 100, '_num_ps_replicas': 0}\n",
      "\n",
      "Experiment started at 23:30:45\n",
      ".......................................\n",
      "INFO:tensorflow:Running training and evaluation locally (non-distributed).\n",
      "INFO:tensorflow:Start train and evaluate loop. The evaluate will happen after every checkpoint. Checkpoint frequency is determined based on RunConfig arguments: save_checkpoints_steps 250 or save_checkpoints_secs None.\n",
      "INFO:tensorflow:Calling model_fn.\n",
      "INFO:tensorflow:Done calling model_fn.\n",
      "INFO:tensorflow:Create CheckpointSaverHook.\n",
      "INFO:tensorflow:Graph was finalized.\n",
      "INFO:tensorflow:Running local_init_op.\n",
      "INFO:tensorflow:Done running local_init_op.\n",
      "INFO:tensorflow:Saving checkpoints for 0 into models/mnist/dnn_classifier/model.ckpt.\n",
      "INFO:tensorflow:loss = 2997.7002, step = 1\n",
      "INFO:tensorflow:global_step/sec: 20.1084\n",
      "INFO:tensorflow:loss = 1435.8933, step = 101 (4.975 sec)\n",
      "INFO:tensorflow:global_step/sec: 21.5494\n",
      "INFO:tensorflow:loss = 1233.4287, step = 201 (4.640 sec)\n",
      "INFO:tensorflow:Saving checkpoints for 250 into models/mnist/dnn_classifier/model.ckpt.\n",
      "INFO:tensorflow:Calling model_fn.\n",
      "INFO:tensorflow:Done calling model_fn.\n",
      "INFO:tensorflow:Starting evaluation at 2018-09-14-23:30:59\n",
      "INFO:tensorflow:Graph was finalized.\n",
      "INFO:tensorflow:Restoring parameters from models/mnist/dnn_classifier/model.ckpt-250\n",
      "INFO:tensorflow:Running local_init_op.\n",
      "INFO:tensorflow:Done running local_init_op.\n",
      "INFO:tensorflow:Finished evaluation at 2018-09-14-23:31:00\n",
      "INFO:tensorflow:Saving dict for global step 250: accuracy = 0.5283, average_loss = 3.1167579, global_step = 250, loss = 3116.7578\n",
      "INFO:tensorflow:Saving 'checkpoint_path' summary for global step 250: models/mnist/dnn_classifier/model.ckpt-250\n",
      "INFO:tensorflow:Calling model_fn.\n",
      "INFO:tensorflow:Done calling model_fn.\n",
      "INFO:tensorflow:Signatures INCLUDED in export for Eval: None\n",
      "INFO:tensorflow:Signatures INCLUDED in export for Classify: None\n",
      "INFO:tensorflow:Signatures INCLUDED in export for Regress: None\n",
      "INFO:tensorflow:Signatures INCLUDED in export for Predict: ['predict']\n",
      "INFO:tensorflow:Signatures INCLUDED in export for Train: None\n",
      "INFO:tensorflow:Signatures EXCLUDED from export because they cannot be be served via TensorFlow Serving APIs:\n",
      "INFO:tensorflow:'serving_default' : Classification input must be a single string Tensor; got {'input_image': <tf.Tensor 'input_image_17:0' shape=(?, 784) dtype=float32>}\n",
      "INFO:tensorflow:'classification' : Classification input must be a single string Tensor; got {'input_image': <tf.Tensor 'input_image_17:0' shape=(?, 784) dtype=float32>}\n",
      "WARNING:tensorflow:Export includes no default signature!\n",
      "INFO:tensorflow:Restoring parameters from models/mnist/dnn_classifier/model.ckpt-250\n",
      "INFO:tensorflow:Assets added to graph.\n",
      "INFO:tensorflow:No assets to write.\n",
      "INFO:tensorflow:SavedModel written to: models/mnist/dnn_classifier/export/estimate/temp-1536967860/saved_model.pb\n",
      "INFO:tensorflow:global_step/sec: 15.611\n",
      "INFO:tensorflow:loss = 1223.5022, step = 301 (6.406 sec)\n",
      "INFO:tensorflow:global_step/sec: 21.8334\n",
      "INFO:tensorflow:loss = 1058.656, step = 401 (4.580 sec)\n",
      "INFO:tensorflow:Saving checkpoints for 500 into models/mnist/dnn_classifier/model.ckpt.\n",
      "INFO:tensorflow:Calling model_fn.\n",
      "INFO:tensorflow:Done calling model_fn.\n",
      "INFO:tensorflow:Starting evaluation at 2018-09-14-23:31:13\n",
      "INFO:tensorflow:Graph was finalized.\n",
      "INFO:tensorflow:Restoring parameters from models/mnist/dnn_classifier/model.ckpt-500\n",
      "INFO:tensorflow:Running local_init_op.\n",
      "INFO:tensorflow:Done running local_init_op.\n",
      "INFO:tensorflow:Finished evaluation at 2018-09-14-23:31:13\n",
      "INFO:tensorflow:Saving dict for global step 500: accuracy = 0.6317, average_loss = 1.9631035, global_step = 500, loss = 1963.1035\n",
      "INFO:tensorflow:Saving 'checkpoint_path' summary for global step 500: models/mnist/dnn_classifier/model.ckpt-500\n",
      "INFO:tensorflow:Calling model_fn.\n",
      "INFO:tensorflow:Done calling model_fn.\n",
      "INFO:tensorflow:Signatures INCLUDED in export for Eval: None\n",
      "INFO:tensorflow:Signatures INCLUDED in export for Classify: None\n",
      "INFO:tensorflow:Signatures INCLUDED in export for Regress: None\n",
      "INFO:tensorflow:Signatures INCLUDED in export for Predict: ['predict']\n",
      "INFO:tensorflow:Signatures INCLUDED in export for Train: None\n",
      "INFO:tensorflow:Signatures EXCLUDED from export because they cannot be be served via TensorFlow Serving APIs:\n",
      "INFO:tensorflow:'serving_default' : Classification input must be a single string Tensor; got {'input_image': <tf.Tensor 'input_image_17:0' shape=(?, 784) dtype=float32>}\n",
      "INFO:tensorflow:'classification' : Classification input must be a single string Tensor; got {'input_image': <tf.Tensor 'input_image_17:0' shape=(?, 784) dtype=float32>}\n",
      "WARNING:tensorflow:Export includes no default signature!\n",
      "INFO:tensorflow:Restoring parameters from models/mnist/dnn_classifier/model.ckpt-500\n",
      "INFO:tensorflow:Assets added to graph.\n",
      "INFO:tensorflow:No assets to write.\n",
      "INFO:tensorflow:SavedModel written to: models/mnist/dnn_classifier/export/estimate/temp-1536967873/saved_model.pb\n",
      "INFO:tensorflow:global_step/sec: 16.5093\n",
      "INFO:tensorflow:loss = 950.5553, step = 501 (6.061 sec)\n",
      "INFO:tensorflow:Saving checkpoints for 550 into models/mnist/dnn_classifier/model.ckpt.\n",
      "INFO:tensorflow:Calling model_fn.\n",
      "INFO:tensorflow:Done calling model_fn.\n",
      "INFO:tensorflow:Starting evaluation at 2018-09-14-23:31:16\n",
      "INFO:tensorflow:Graph was finalized.\n",
      "INFO:tensorflow:Restoring parameters from models/mnist/dnn_classifier/model.ckpt-550\n",
      "INFO:tensorflow:Running local_init_op.\n",
      "INFO:tensorflow:Done running local_init_op.\n",
      "INFO:tensorflow:Finished evaluation at 2018-09-14-23:31:17\n",
      "INFO:tensorflow:Saving dict for global step 550: accuracy = 0.6396, average_loss = 1.9167172, global_step = 550, loss = 1916.7172\n",
      "INFO:tensorflow:Saving 'checkpoint_path' summary for global step 550: models/mnist/dnn_classifier/model.ckpt-550\n",
      "INFO:tensorflow:Calling model_fn.\n",
      "INFO:tensorflow:Done calling model_fn.\n",
      "INFO:tensorflow:Signatures INCLUDED in export for Eval: None\n",
      "INFO:tensorflow:Signatures INCLUDED in export for Classify: None\n",
      "INFO:tensorflow:Signatures INCLUDED in export for Regress: None\n",
      "INFO:tensorflow:Signatures INCLUDED in export for Predict: ['predict']\n",
      "INFO:tensorflow:Signatures INCLUDED in export for Train: None\n",
      "INFO:tensorflow:Signatures EXCLUDED from export because they cannot be be served via TensorFlow Serving APIs:\n",
      "INFO:tensorflow:'serving_default' : Classification input must be a single string Tensor; got {'input_image': <tf.Tensor 'input_image_17:0' shape=(?, 784) dtype=float32>}\n",
      "INFO:tensorflow:'classification' : Classification input must be a single string Tensor; got {'input_image': <tf.Tensor 'input_image_17:0' shape=(?, 784) dtype=float32>}\n",
      "WARNING:tensorflow:Export includes no default signature!\n",
      "INFO:tensorflow:Restoring parameters from models/mnist/dnn_classifier/model.ckpt-550\n",
      "INFO:tensorflow:Assets added to graph.\n",
      "INFO:tensorflow:No assets to write.\n",
      "INFO:tensorflow:SavedModel written to: models/mnist/dnn_classifier/export/estimate/temp-1536967877/saved_model.pb\n",
      "INFO:tensorflow:Loss for final step: 903.3883.\n",
      ".......................................\n",
      "Experiment finished at 23:31:18\n",
      "\n",
      "Experiment elapsed time: 32.966907 seconds\n"
     ]
    },
    {
     "data": {
      "text/plain": [
       "<tensorflow.python.estimator.canned.dnn.DNNClassifier at 0x1167fc4d0>"
      ]
     },
     "execution_count": 163,
     "metadata": {},
     "output_type": "execute_result"
    }
   ],
   "source": [
    "exporter = tf.estimator.LatestExporter(\n",
    "            name=\"estimate\", \n",
    "            serving_input_receiver_fn=make_serving_input_receiver_fn(),\n",
    "            exports_to_keep=3,\n",
    ")\n",
    "\n",
    "params = tf.contrib.training.HParams(\n",
    "    batch_size=BATCH_SIZE,\n",
    "    traning_steps=computed_traning_steps,\n",
    "    eval_throttle_secs=0,\n",
    "    clean_start=True,\n",
    "    eval_name=datetime.utcnow().strftime(\"%H%M%S\")\n",
    ")\n",
    "\n",
    "run_config = tf.estimator.RunConfig(\n",
    "    tf_random_seed=19830610,\n",
    "    save_checkpoints_steps=250,\n",
    "    model_dir=model_dir\n",
    ")\n",
    "\n",
    "train_evaluate_export_experiment(params, run_config, exporter)"
   ]
  },
  {
   "cell_type": "code",
   "execution_count": 96,
   "metadata": {},
   "outputs": [
    {
     "name": "stdout",
     "output_type": "stream",
     "text": [
      "exported model folders:\n",
      "1536965618\n",
      "1536965632\n",
      "1536965636\n",
      "\n",
      "last exported model: models/mnist/dnn_classifier/export/estimate/1536965636\n",
      "saved_model.pb\n",
      "variables\n",
      "\n",
      "MetaGraphDef with tag-set: 'serve' contains the following SignatureDefs:\n",
      "\n",
      "signature_def['predict']:\n",
      "  The given SavedModel SignatureDef contains the following input(s):\n",
      "    inputs['input_image'] tensor_info:\n",
      "        dtype: DT_FLOAT\n",
      "        shape: (-1, 784)\n",
      "        name: input_image_11:0\n",
      "  The given SavedModel SignatureDef contains the following output(s):\n",
      "    outputs['class_ids'] tensor_info:\n",
      "        dtype: DT_INT64\n",
      "        shape: (-1, 1)\n",
      "        name: dnn/head/predictions/ExpandDims:0\n",
      "    outputs['classes'] tensor_info:\n",
      "        dtype: DT_STRING\n",
      "        shape: (-1, 1)\n",
      "        name: dnn/head/predictions/str_classes:0\n",
      "    outputs['logits'] tensor_info:\n",
      "        dtype: DT_FLOAT\n",
      "        shape: (-1, 10)\n",
      "        name: dnn/logits/BiasAdd:0\n",
      "    outputs['probabilities'] tensor_info:\n",
      "        dtype: DT_FLOAT\n",
      "        shape: (-1, 10)\n",
      "        name: dnn/head/predictions/probabilities:0\n",
      "  Method name is: tensorflow/serving/predict\n"
     ]
    }
   ],
   "source": [
    "%%bash\n",
    "\n",
    "saved_models_base=${MODEL_DIR}/export/estimate/\n",
    "echo 'exported model folders:'\n",
    "ls ${saved_models_base}\n",
    "echo ''\n",
    "\n",
    "saved_model_dir=${saved_models_base}$(ls ${saved_models_base} | tail -n 1)\n",
    "echo 'last exported model: '${saved_model_dir}\n",
    "ls ${saved_model_dir}\n",
    "saved_model_cli show --dir=${saved_model_dir} --all"
   ]
  },
  {
   "cell_type": "markdown",
   "metadata": {},
   "source": [
    "**Final exporter** exports only the very last evaluated checkpoint"
   ]
  },
  {
   "cell_type": "code",
   "execution_count": 164,
   "metadata": {},
   "outputs": [
    {
     "name": "stdout",
     "output_type": "stream",
     "text": [
      "Removing previous artefacts...\n",
      "\n",
      "INFO:tensorflow:Using config: {'_save_checkpoints_secs': None, '_global_id_in_cluster': 0, '_session_config': None, '_keep_checkpoint_max': 5, '_tf_random_seed': 19830610, '_task_type': 'worker', '_train_distribute': None, '_is_chief': True, '_cluster_spec': <tensorflow.python.training.server_lib.ClusterSpec object at 0x1157da250>, '_model_dir': 'models/mnist/dnn_classifier', '_num_worker_replicas': 1, '_task_id': 0, '_log_step_count_steps': 100, '_master': '', '_save_checkpoints_steps': 250, '_keep_checkpoint_every_n_hours': 10000, '_evaluation_master': '', '_service': None, '_device_fn': None, '_save_summary_steps': 100, '_num_ps_replicas': 0}\n",
      "\n",
      "Experiment started at 23:31:28\n",
      ".......................................\n",
      "INFO:tensorflow:Running training and evaluation locally (non-distributed).\n",
      "INFO:tensorflow:Start train and evaluate loop. The evaluate will happen after every checkpoint. Checkpoint frequency is determined based on RunConfig arguments: save_checkpoints_steps 250 or save_checkpoints_secs None.\n",
      "INFO:tensorflow:Calling model_fn.\n",
      "INFO:tensorflow:Done calling model_fn.\n",
      "INFO:tensorflow:Create CheckpointSaverHook.\n",
      "INFO:tensorflow:Graph was finalized.\n",
      "INFO:tensorflow:Running local_init_op.\n",
      "INFO:tensorflow:Done running local_init_op.\n",
      "INFO:tensorflow:Saving checkpoints for 0 into models/mnist/dnn_classifier/model.ckpt.\n",
      "INFO:tensorflow:loss = 2955.2595, step = 1\n",
      "INFO:tensorflow:global_step/sec: 19.2347\n",
      "INFO:tensorflow:loss = 1438.4061, step = 101 (5.201 sec)\n",
      "INFO:tensorflow:global_step/sec: 19.1232\n",
      "INFO:tensorflow:loss = 1189.3923, step = 201 (5.229 sec)\n",
      "INFO:tensorflow:Saving checkpoints for 250 into models/mnist/dnn_classifier/model.ckpt.\n",
      "INFO:tensorflow:Calling model_fn.\n",
      "INFO:tensorflow:Done calling model_fn.\n",
      "INFO:tensorflow:Starting evaluation at 2018-09-14-23:31:44\n",
      "INFO:tensorflow:Graph was finalized.\n",
      "INFO:tensorflow:Restoring parameters from models/mnist/dnn_classifier/model.ckpt-250\n",
      "INFO:tensorflow:Running local_init_op.\n",
      "INFO:tensorflow:Done running local_init_op.\n",
      "INFO:tensorflow:Finished evaluation at 2018-09-14-23:31:45\n",
      "INFO:tensorflow:Saving dict for global step 250: accuracy = 0.4234, average_loss = 3.382516, global_step = 250, loss = 3382.516\n",
      "INFO:tensorflow:Saving 'checkpoint_path' summary for global step 250: models/mnist/dnn_classifier/model.ckpt-250\n",
      "INFO:tensorflow:global_step/sec: 17.1538\n",
      "INFO:tensorflow:loss = 1084.9688, step = 301 (5.829 sec)\n",
      "INFO:tensorflow:global_step/sec: 21.5594\n",
      "INFO:tensorflow:loss = 1069.2572, step = 401 (4.638 sec)\n",
      "INFO:tensorflow:Saving checkpoints for 500 into models/mnist/dnn_classifier/model.ckpt.\n",
      "INFO:tensorflow:Calling model_fn.\n",
      "INFO:tensorflow:Done calling model_fn.\n",
      "INFO:tensorflow:Starting evaluation at 2018-09-14-23:31:57\n",
      "INFO:tensorflow:Graph was finalized.\n",
      "INFO:tensorflow:Restoring parameters from models/mnist/dnn_classifier/model.ckpt-500\n",
      "INFO:tensorflow:Running local_init_op.\n",
      "INFO:tensorflow:Done running local_init_op.\n",
      "INFO:tensorflow:Finished evaluation at 2018-09-14-23:31:57\n",
      "INFO:tensorflow:Saving dict for global step 500: accuracy = 0.5667, average_loss = 2.2156372, global_step = 500, loss = 2215.6372\n",
      "INFO:tensorflow:Saving 'checkpoint_path' summary for global step 500: models/mnist/dnn_classifier/model.ckpt-500\n",
      "INFO:tensorflow:global_step/sec: 18.4135\n",
      "INFO:tensorflow:loss = 987.11316, step = 501 (5.432 sec)\n",
      "INFO:tensorflow:Saving checkpoints for 550 into models/mnist/dnn_classifier/model.ckpt.\n",
      "INFO:tensorflow:Calling model_fn.\n",
      "INFO:tensorflow:Done calling model_fn.\n",
      "INFO:tensorflow:Starting evaluation at 2018-09-14-23:32:00\n",
      "INFO:tensorflow:Graph was finalized.\n",
      "INFO:tensorflow:Restoring parameters from models/mnist/dnn_classifier/model.ckpt-550\n",
      "INFO:tensorflow:Running local_init_op.\n",
      "INFO:tensorflow:Done running local_init_op.\n",
      "INFO:tensorflow:Finished evaluation at 2018-09-14-23:32:01\n",
      "INFO:tensorflow:Saving dict for global step 550: accuracy = 0.5816, average_loss = 2.203816, global_step = 550, loss = 2203.816\n",
      "INFO:tensorflow:Saving 'checkpoint_path' summary for global step 550: models/mnist/dnn_classifier/model.ckpt-550\n",
      "INFO:tensorflow:Performing the final export in the end of training.\n",
      "INFO:tensorflow:Calling model_fn.\n",
      "INFO:tensorflow:Done calling model_fn.\n",
      "INFO:tensorflow:Signatures INCLUDED in export for Eval: None\n",
      "INFO:tensorflow:Signatures INCLUDED in export for Classify: None\n",
      "INFO:tensorflow:Signatures INCLUDED in export for Regress: None\n",
      "INFO:tensorflow:Signatures INCLUDED in export for Predict: ['predict']\n",
      "INFO:tensorflow:Signatures INCLUDED in export for Train: None\n",
      "INFO:tensorflow:Signatures EXCLUDED from export because they cannot be be served via TensorFlow Serving APIs:\n",
      "INFO:tensorflow:'serving_default' : Classification input must be a single string Tensor; got {'input_image': <tf.Tensor 'input_image_18:0' shape=(?, 784) dtype=float32>}\n",
      "INFO:tensorflow:'classification' : Classification input must be a single string Tensor; got {'input_image': <tf.Tensor 'input_image_18:0' shape=(?, 784) dtype=float32>}\n",
      "WARNING:tensorflow:Export includes no default signature!\n",
      "INFO:tensorflow:Restoring parameters from models/mnist/dnn_classifier/model.ckpt-550\n",
      "INFO:tensorflow:Assets added to graph.\n",
      "INFO:tensorflow:No assets to write.\n",
      "INFO:tensorflow:SavedModel written to: models/mnist/dnn_classifier/export/estimate/temp-1536967921/saved_model.pb\n",
      "INFO:tensorflow:Loss for final step: 1020.24634.\n",
      ".......................................\n",
      "Experiment finished at 23:32:01\n",
      "\n",
      "Experiment elapsed time: 33.480974 seconds\n"
     ]
    },
    {
     "data": {
      "text/plain": [
       "<tensorflow.python.estimator.canned.dnn.DNNClassifier at 0x1160e0fd0>"
      ]
     },
     "execution_count": 164,
     "metadata": {},
     "output_type": "execute_result"
    }
   ],
   "source": [
    "exporter = tf.estimator.FinalExporter(\n",
    "            name=\"estimate\",\n",
    "            serving_input_receiver_fn=make_serving_input_receiver_fn()\n",
    ")\n",
    "\n",
    "params = tf.contrib.training.HParams(\n",
    "    batch_size=BATCH_SIZE,\n",
    "    traning_steps=computed_traning_steps,\n",
    "    eval_throttle_secs=0,\n",
    "    clean_start=True,\n",
    "    eval_name=datetime.utcnow().strftime(\"%H%M%S\")\n",
    ")\n",
    "\n",
    "run_config = tf.estimator.RunConfig(\n",
    "    tf_random_seed=19830610,\n",
    "    save_checkpoints_steps=250,\n",
    "    model_dir=model_dir\n",
    ")\n",
    "\n",
    "train_evaluate_export_experiment(params, run_config, exporter)"
   ]
  },
  {
   "cell_type": "code",
   "execution_count": 74,
   "metadata": {},
   "outputs": [
    {
     "name": "stdout",
     "output_type": "stream",
     "text": [
      "exported model folders:\n",
      "1536964830\n",
      "\n",
      "last exported model: models/mnist/dnn_classifier/export/estimate/1536964830\n",
      "saved_model.pb\n",
      "variables\n",
      "\n",
      "MetaGraphDef with tag-set: 'serve' contains the following SignatureDefs:\n",
      "\n",
      "signature_def['predict']:\n",
      "  The given SavedModel SignatureDef contains the following input(s):\n",
      "    inputs['input_image'] tensor_info:\n",
      "        dtype: DT_FLOAT\n",
      "        shape: (-1, 784)\n",
      "        name: input_image_6:0\n",
      "  The given SavedModel SignatureDef contains the following output(s):\n",
      "    outputs['class_ids'] tensor_info:\n",
      "        dtype: DT_INT64\n",
      "        shape: (-1, 1)\n",
      "        name: dnn/head/predictions/ExpandDims:0\n",
      "    outputs['classes'] tensor_info:\n",
      "        dtype: DT_STRING\n",
      "        shape: (-1, 1)\n",
      "        name: dnn/head/predictions/str_classes:0\n",
      "    outputs['logits'] tensor_info:\n",
      "        dtype: DT_FLOAT\n",
      "        shape: (-1, 10)\n",
      "        name: dnn/logits/BiasAdd:0\n",
      "    outputs['probabilities'] tensor_info:\n",
      "        dtype: DT_FLOAT\n",
      "        shape: (-1, 10)\n",
      "        name: dnn/head/predictions/probabilities:0\n",
      "  Method name is: tensorflow/serving/predict\n"
     ]
    }
   ],
   "source": [
    "%%bash\n",
    "\n",
    "saved_models_base=${MODEL_DIR}/export/estimate/\n",
    "echo 'exported model folders:'\n",
    "ls ${saved_models_base}\n",
    "echo ''\n",
    "\n",
    "saved_model_dir=${saved_models_base}$(ls ${saved_models_base} | tail -n 1)\n",
    "echo 'last exported model: '${saved_model_dir}\n",
    "ls ${saved_model_dir}\n",
    "saved_model_cli show --dir=${saved_model_dir} --all"
   ]
  },
  {
   "cell_type": "markdown",
   "metadata": {},
   "source": [
    "The **best exporter** runs everytime when the new model is better than any exsiting model. \n",
    "\n",
    "It uses the evaluation events stored under the **eval** folder. \n",
    "\n",
    "You need to set the **name** of the subfolder in the EvalSpec, and set the **event_file_pattern** in the BestExporter to point to this folder and perform the evalution comparesions."
   ]
  },
  {
   "cell_type": "code",
   "execution_count": 166,
   "metadata": {},
   "outputs": [
    {
     "name": "stdout",
     "output_type": "stream",
     "text": [
      "Removing previous artefacts...\n",
      "\n",
      "INFO:tensorflow:Using config: {'_save_checkpoints_secs': None, '_global_id_in_cluster': 0, '_session_config': None, '_keep_checkpoint_max': 5, '_tf_random_seed': 19830610, '_task_type': 'worker', '_train_distribute': None, '_is_chief': True, '_cluster_spec': <tensorflow.python.training.server_lib.ClusterSpec object at 0x11582dfd0>, '_model_dir': 'models/mnist/dnn_classifier', '_num_worker_replicas': 1, '_task_id': 0, '_log_step_count_steps': 100, '_master': '', '_save_checkpoints_steps': 250, '_keep_checkpoint_every_n_hours': 10000, '_evaluation_master': '', '_service': None, '_device_fn': None, '_save_summary_steps': 100, '_num_ps_replicas': 0}\n",
      "\n",
      "Experiment started at 23:37:10\n",
      ".......................................\n",
      "INFO:tensorflow:Running training and evaluation locally (non-distributed).\n",
      "INFO:tensorflow:Start train and evaluate loop. The evaluate will happen after every checkpoint. Checkpoint frequency is determined based on RunConfig arguments: save_checkpoints_steps 250 or save_checkpoints_secs None.\n",
      "INFO:tensorflow:Calling model_fn.\n",
      "INFO:tensorflow:Done calling model_fn.\n",
      "INFO:tensorflow:Create CheckpointSaverHook.\n",
      "INFO:tensorflow:Graph was finalized.\n",
      "INFO:tensorflow:Running local_init_op.\n",
      "INFO:tensorflow:Done running local_init_op.\n",
      "INFO:tensorflow:Saving checkpoints for 0 into models/mnist/dnn_classifier/model.ckpt.\n",
      "INFO:tensorflow:loss = 2996.1853, step = 1\n",
      "INFO:tensorflow:global_step/sec: 20.7625\n",
      "INFO:tensorflow:loss = 1297.2026, step = 101 (4.818 sec)\n",
      "INFO:tensorflow:global_step/sec: 23.9131\n",
      "INFO:tensorflow:loss = 1140.7253, step = 201 (4.182 sec)\n",
      "INFO:tensorflow:Saving checkpoints for 250 into models/mnist/dnn_classifier/model.ckpt.\n",
      "INFO:tensorflow:Calling model_fn.\n",
      "INFO:tensorflow:Done calling model_fn.\n",
      "INFO:tensorflow:Starting evaluation at 2018-09-14-23:37:24\n",
      "INFO:tensorflow:Graph was finalized.\n",
      "INFO:tensorflow:Restoring parameters from models/mnist/dnn_classifier/model.ckpt-250\n",
      "INFO:tensorflow:Running local_init_op.\n",
      "INFO:tensorflow:Done running local_init_op.\n",
      "INFO:tensorflow:Finished evaluation at 2018-09-14-23:37:25\n",
      "INFO:tensorflow:Saving dict for global step 250: accuracy = 0.4854, average_loss = 3.7584531, global_step = 250, loss = 3758.4531\n",
      "INFO:tensorflow:Saving 'checkpoint_path' summary for global step 250: models/mnist/dnn_classifier/model.ckpt-250\n",
      "INFO:tensorflow:Loading best metric from event files.\n",
      "INFO:tensorflow:global_step/sec: 18.8326\n",
      "INFO:tensorflow:loss = 1101.3116, step = 301 (5.310 sec)\n",
      "INFO:tensorflow:global_step/sec: 23.1938\n",
      "INFO:tensorflow:loss = 1016.9657, step = 401 (4.311 sec)\n",
      "INFO:tensorflow:Saving checkpoints for 500 into models/mnist/dnn_classifier/model.ckpt.\n",
      "INFO:tensorflow:Calling model_fn.\n",
      "INFO:tensorflow:Done calling model_fn.\n",
      "INFO:tensorflow:Starting evaluation at 2018-09-14-23:37:36\n",
      "INFO:tensorflow:Graph was finalized.\n",
      "INFO:tensorflow:Restoring parameters from models/mnist/dnn_classifier/model.ckpt-500\n",
      "INFO:tensorflow:Running local_init_op.\n",
      "INFO:tensorflow:Done running local_init_op.\n",
      "INFO:tensorflow:Finished evaluation at 2018-09-14-23:37:37\n",
      "INFO:tensorflow:Saving dict for global step 500: accuracy = 0.5024, average_loss = 2.1437619, global_step = 500, loss = 2143.762\n",
      "INFO:tensorflow:Saving 'checkpoint_path' summary for global step 500: models/mnist/dnn_classifier/model.ckpt-500\n",
      "INFO:tensorflow:Performing best model export.\n",
      "INFO:tensorflow:Calling model_fn.\n",
      "INFO:tensorflow:Done calling model_fn.\n",
      "INFO:tensorflow:Signatures INCLUDED in export for Eval: None\n",
      "INFO:tensorflow:Signatures INCLUDED in export for Classify: None\n",
      "INFO:tensorflow:Signatures INCLUDED in export for Regress: None\n",
      "INFO:tensorflow:Signatures INCLUDED in export for Predict: ['predict']\n",
      "INFO:tensorflow:Signatures INCLUDED in export for Train: None\n",
      "INFO:tensorflow:Signatures EXCLUDED from export because they cannot be be served via TensorFlow Serving APIs:\n",
      "INFO:tensorflow:'serving_default' : Classification input must be a single string Tensor; got {'input_image': <tf.Tensor 'input_image_20:0' shape=(?, 784) dtype=float32>}\n",
      "INFO:tensorflow:'classification' : Classification input must be a single string Tensor; got {'input_image': <tf.Tensor 'input_image_20:0' shape=(?, 784) dtype=float32>}\n",
      "WARNING:tensorflow:Export includes no default signature!\n",
      "INFO:tensorflow:Restoring parameters from models/mnist/dnn_classifier/model.ckpt-500\n",
      "INFO:tensorflow:Assets added to graph.\n",
      "INFO:tensorflow:No assets to write.\n",
      "INFO:tensorflow:SavedModel written to: models/mnist/dnn_classifier/export/estimate/temp-1536968257/saved_model.pb\n",
      "INFO:tensorflow:global_step/sec: 16.6262\n",
      "INFO:tensorflow:loss = 924.6124, step = 501 (6.016 sec)\n",
      "INFO:tensorflow:Saving checkpoints for 550 into models/mnist/dnn_classifier/model.ckpt.\n",
      "INFO:tensorflow:Calling model_fn.\n",
      "INFO:tensorflow:Done calling model_fn.\n",
      "INFO:tensorflow:Starting evaluation at 2018-09-14-23:37:40\n",
      "INFO:tensorflow:Graph was finalized.\n",
      "INFO:tensorflow:Restoring parameters from models/mnist/dnn_classifier/model.ckpt-550\n",
      "INFO:tensorflow:Running local_init_op.\n",
      "INFO:tensorflow:Done running local_init_op.\n",
      "INFO:tensorflow:Finished evaluation at 2018-09-14-23:37:40\n",
      "INFO:tensorflow:Saving dict for global step 550: accuracy = 0.5374, average_loss = 1.926949, global_step = 550, loss = 1926.949\n",
      "INFO:tensorflow:Saving 'checkpoint_path' summary for global step 550: models/mnist/dnn_classifier/model.ckpt-550\n",
      "INFO:tensorflow:Performing best model export.\n",
      "INFO:tensorflow:Calling model_fn.\n",
      "INFO:tensorflow:Done calling model_fn.\n",
      "INFO:tensorflow:Signatures INCLUDED in export for Eval: None\n",
      "INFO:tensorflow:Signatures INCLUDED in export for Classify: None\n",
      "INFO:tensorflow:Signatures INCLUDED in export for Regress: None\n",
      "INFO:tensorflow:Signatures INCLUDED in export for Predict: ['predict']\n",
      "INFO:tensorflow:Signatures INCLUDED in export for Train: None\n",
      "INFO:tensorflow:Signatures EXCLUDED from export because they cannot be be served via TensorFlow Serving APIs:\n",
      "INFO:tensorflow:'serving_default' : Classification input must be a single string Tensor; got {'input_image': <tf.Tensor 'input_image_20:0' shape=(?, 784) dtype=float32>}\n",
      "INFO:tensorflow:'classification' : Classification input must be a single string Tensor; got {'input_image': <tf.Tensor 'input_image_20:0' shape=(?, 784) dtype=float32>}\n",
      "WARNING:tensorflow:Export includes no default signature!\n",
      "INFO:tensorflow:Restoring parameters from models/mnist/dnn_classifier/model.ckpt-550\n",
      "INFO:tensorflow:Assets added to graph.\n",
      "INFO:tensorflow:No assets to write.\n",
      "INFO:tensorflow:SavedModel written to: models/mnist/dnn_classifier/export/estimate/temp-1536968260/saved_model.pb\n",
      "INFO:tensorflow:Loss for final step: 965.90857.\n",
      ".......................................\n",
      "Experiment finished at 23:37:41\n",
      "\n",
      "Experiment elapsed time: 30.757481 seconds\n"
     ]
    },
    {
     "data": {
      "text/plain": [
       "<tensorflow.python.estimator.canned.dnn.DNNClassifier at 0x1171a4f10>"
      ]
     },
     "execution_count": 166,
     "metadata": {},
     "output_type": "execute_result"
    }
   ],
   "source": [
    "eval_name=datetime.utcnow().strftime(\"%H%M%S\")\n",
    "\n",
    "exporter = tf.estimator.BestExporter(\n",
    "            event_file_pattern='eval_{}/*.tfevents.*'.format(eval_name),\n",
    "            name=\"estimate\", \n",
    "            serving_input_receiver_fn=make_serving_input_receiver_fn(),\n",
    "            exports_to_keep=1\n",
    ")\n",
    "\n",
    "params = tf.contrib.training.HParams(\n",
    "    batch_size=BATCH_SIZE,\n",
    "    traning_steps=computed_traning_steps,\n",
    "    eval_throttle_secs=0,\n",
    "    exporter_type='best',\n",
    "    clean_start=True,\n",
    "    eval_name=eval_name\n",
    ")\n",
    "\n",
    "run_config = tf.estimator.RunConfig(\n",
    "    tf_random_seed=19830610,\n",
    "    save_checkpoints_steps=250,\n",
    "    model_dir=model_dir\n",
    ")\n",
    "\n",
    "train_evaluate_export_experiment(params, run_config, exporter)"
   ]
  },
  {
   "cell_type": "code",
   "execution_count": 167,
   "metadata": {},
   "outputs": [
    {
     "name": "stdout",
     "output_type": "stream",
     "text": [
      "exported model folders:\n",
      "1536968260\n",
      "\n",
      "last exported model: models/mnist/dnn_classifier/export/estimate/1536968260\n",
      "saved_model.pb\n",
      "variables\n",
      "\n",
      "MetaGraphDef with tag-set: 'serve' contains the following SignatureDefs:\n",
      "\n",
      "signature_def['predict']:\n",
      "  The given SavedModel SignatureDef contains the following input(s):\n",
      "    inputs['input_image'] tensor_info:\n",
      "        dtype: DT_FLOAT\n",
      "        shape: (-1, 784)\n",
      "        name: input_image_20:0\n",
      "  The given SavedModel SignatureDef contains the following output(s):\n",
      "    outputs['class_ids'] tensor_info:\n",
      "        dtype: DT_INT64\n",
      "        shape: (-1, 1)\n",
      "        name: dnn/head/predictions/ExpandDims:0\n",
      "    outputs['classes'] tensor_info:\n",
      "        dtype: DT_STRING\n",
      "        shape: (-1, 1)\n",
      "        name: dnn/head/predictions/str_classes:0\n",
      "    outputs['logits'] tensor_info:\n",
      "        dtype: DT_FLOAT\n",
      "        shape: (-1, 10)\n",
      "        name: dnn/logits/BiasAdd:0\n",
      "    outputs['probabilities'] tensor_info:\n",
      "        dtype: DT_FLOAT\n",
      "        shape: (-1, 10)\n",
      "        name: dnn/head/predictions/probabilities:0\n",
      "  Method name is: tensorflow/serving/predict\n"
     ]
    }
   ],
   "source": [
    "%%bash\n",
    "\n",
    "saved_models_base=${MODEL_DIR}/export/estimate/\n",
    "echo 'exported model folders:'\n",
    "ls ${saved_models_base}\n",
    "echo ''\n",
    "\n",
    "saved_model_dir=${saved_models_base}$(ls ${saved_models_base} | tail -n 1)\n",
    "echo 'last exported model: '${saved_model_dir}\n",
    "ls ${saved_model_dir}\n",
    "saved_model_cli show --dir=${saved_model_dir} --all"
   ]
  },
  {
   "cell_type": "code",
   "execution_count": null,
   "metadata": {},
   "outputs": [],
   "source": []
  }
 ],
 "metadata": {
  "kernelspec": {
   "display_name": "Python 2",
   "language": "python",
   "name": "python2"
  },
  "language_info": {
   "codemirror_mode": {
    "name": "ipython",
    "version": 2
   },
   "file_extension": ".py",
   "mimetype": "text/x-python",
   "name": "python",
   "nbconvert_exporter": "python",
   "pygments_lexer": "ipython2",
   "version": "2.7.10"
  }
 },
 "nbformat": 4,
 "nbformat_minor": 2
}
